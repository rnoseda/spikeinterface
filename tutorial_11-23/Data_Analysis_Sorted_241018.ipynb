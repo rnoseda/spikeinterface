{
 "cells": [
  {
   "cell_type": "markdown",
   "metadata": {},
   "source": [
    "# Data Analysis of Sorted Units (Spikeinterface and Kilosort4)"
   ]
  },
  {
   "cell_type": "code",
   "execution_count": 1,
   "metadata": {},
   "outputs": [],
   "source": [
    "import matplotlib.pyplot as plt\n",
    "import numpy as np\n",
    "import pandas as pd"
   ]
  },
  {
   "cell_type": "code",
   "execution_count": 4,
   "metadata": {},
   "outputs": [
    {
     "name": "stdout",
     "output_type": "stream",
     "text": [
      "First spike latency to stimulus = 5\n",
      "0 0\n",
      "1 0\n",
      "2 0\n",
      "3 0\n",
      "4 0\n",
      "5 0\n",
      "6 0\n",
      "7 0\n",
      "8 0\n",
      "9 1\n",
      "10 0\n",
      "11 1\n",
      "12 0\n",
      "13 1\n",
      "14 0\n",
      "15 0\n",
      "16 0\n",
      "17 1\n",
      "18 0\n",
      "19 0\n",
      "20 0\n",
      "[9, 11, 13, 17]\n"
     ]
    },
    {
     "data": {
      "image/png": "[encoded data removed]",
      "text/plain": [
       "<Figure size 432x288 with 1 Axes>"
      ]
     },
     "metadata": {
      "needs_background": "light"
     },
     "output_type": "display_data"
    }
   ],
   "source": [
    "spike_train = [0, 0, 0, 0, 0, 0, 0, 0, 0, 1, 0, 1, 0, 1, 0, 0, 0, 1, 0, 0, 0]\n",
    "\n",
    "light_onset_time = 4\n",
    "stimulus_duration = 10\n",
    "spike_value = 1\n",
    "\n",
    "latency_to_first_spike = spike_train[light_onset_time:].index(spike_value) \n",
    "print('First spike latency to stimulus = ' + str(latency_to_first_spike))\n",
    "\n",
    "for i, x in enumerate(spike_train):\n",
    "    print(i, x)\n",
    "    \n",
    "spike_times = []\n",
    "for i, x in enumerate(spike_train):\n",
    "    if x == spike_value:\n",
    "        spike_times.append(i)\n",
    "print(spike_times)\n",
    "\n",
    "# define light offset time\n",
    "light_offset_time = light_onset_time + stimulus_duration\n",
    "fig, ax = plt.subplots()\n",
    "ax.vlines(spike_times, 0, 1)\n",
    "ax.set_xlim([0, len(spike_train)])\n",
    "ax.set_xlabel('Time (ms)')\n",
    "ax.set_title('Neuronal Spike Times') \n",
    "# add shading for stimulus duration)\n",
    "ax.axvspan(light_onset_time, light_offset_time, alpha=0.5, color='greenyellow')\n",
    "plt.show()"
   ]
  },
  {
   "cell_type": "code",
   "execution_count": 7,
   "metadata": {},
   "outputs": [
    {
     "data": {
      "image/png": "[encoded data removed]",
      "text/plain": [
       "<Figure size 432x288 with 1 Axes>"
      ]
     },
     "metadata": {
      "needs_background": "light"
     },
     "output_type": "display_data"
    },
    {
     "name": "stdout",
     "output_type": "stream",
     "text": [
      "[[0 0 0 0 0 0 0 0 0 1 0 1 0 1 0 0 0 1 0 0 0]\n",
      " [0 0 0 0 0 0 0 0 1 1 0 0 0 1 0 0 0 1 0 0 0]\n",
      " [0 1 0 0 0 0 0 0 0 0 1 0 0 1 0 0 0 0 0 1 0]\n",
      " [0 0 0 0 0 0 0 0 1 1 0 1 0 0 0 0 0 0 1 0 0]\n",
      " [0 0 0 0 0 0 0 0 0 1 0 0 1 0 0 0 0 0 0 0 0]\n",
      " [0 0 0 0 0 0 0 0 0 0 1 1 0 0 0 1 0 0 0 1 0]\n",
      " [0 0 0 0 0 0 0 0 1 1 1 0 0 1 1 0 0 1 1 0 0]\n",
      " [1 0 0 0 0 0 0 0 0 0 1 1 0 0 0 0 1 0 0 0 0]\n",
      " [0 0 0 0 0 0 0 0 1 1 0 0 1 1 0 0 1 1 0 0 0]\n",
      " [0 0 0 0 0 0 1 0 0 1 0 1 0 0 0 0 0 1 1 0 0]]\n"
     ]
    },
    {
     "data": {
      "text/plain": [
       "numpy.ndarray"
      ]
     },
     "execution_count": 7,
     "metadata": {},
     "output_type": "execute_result"
    }
   ],
   "source": [
    "ten_spike_trains = [[0, 0, 0, 0, 0, 0, 0, 0, 0, 1, 0, 1, 0, 1, 0, 0, 0, 1, 0, 0, 0], \n",
    "                    [0, 0, 0, 0, 0, 0, 0, 0, 1, 1, 0, 0, 0, 1, 0, 0, 0, 1, 0, 0, 0], \n",
    "                    [0, 1, 0, 0, 0, 0, 0, 0, 0, 0, 1, 0, 0, 1, 0, 0, 0, 0, 0, 1, 0], \n",
    "                    [0, 0, 0, 0, 0, 0, 0, 0, 1, 1, 0, 1, 0, 0, 0, 0, 0, 0, 1, 0, 0], \n",
    "                    [0, 0, 0, 0, 0, 0, 0, 0, 0, 1, 0, 0, 1, 0, 0, 0, 0, 0, 0, 0, 0], \n",
    "                    [0, 0, 0, 0, 0, 0, 0, 0, 0, 0, 1, 1, 0, 0, 0, 1, 0, 0, 0, 1, 0], \n",
    "                    [0, 0, 0, 0, 0, 0, 0, 0, 1, 1, 1, 0, 0, 1, 1, 0, 0, 1, 1, 0, 0], \n",
    "                    [1, 0, 0, 0, 0, 0, 0, 0, 0, 0, 1, 1, 0, 0, 0, 0, 1, 0, 0, 0, 0], \n",
    "                    [0, 0, 0, 0, 0, 0, 0, 0, 1, 1, 0, 0, 1, 1, 0, 0, 1, 1, 0, 0, 0], \n",
    "                    [0, 0, 0, 0, 0, 0, 1, 0, 0, 1, 0, 1, 0, 0, 0, 0, 0, 1, 1, 0, 0]\n",
    "                   ]\n",
    "\n",
    "fig, ax = plt.subplots()\n",
    "# Loop to plot raster for each trial\n",
    "for trial in range(len(ten_spike_trains)):\n",
    "    spike_times = [i for i, x in enumerate(ten_spike_trains[trial]) if x == spike_value]\n",
    "    ax.vlines(spike_times, trial - 0.5, trial + 0.5)\n",
    "ax.set_xlim([0, len(spike_train)])\n",
    "ax.set_xlabel('Time (ms)')\n",
    "# specify tick marks and label label y axis\n",
    "ax.set_yticks(range(len(ten_spike_trains)))\n",
    "ax.set_ylabel('Trial Number')\n",
    "ax.set_title('Neuronal Spike Times') \n",
    "# add shading for stimulus duration)\n",
    "ax.axvspan(light_onset_time, light_offset_time, alpha=0.5, color='greenyellow')\n",
    "plt.show()\n",
    "\n",
    "spike_array = np.array(ten_spike_trains)\n",
    "print(spike_array)\n",
    "type(spike_array)"
   ]
  },
  {
   "cell_type": "code",
   "execution_count": 8,
   "metadata": {},
   "outputs": [
    {
     "data": {
      "image/png": "[encoded data removed]",
      "text/plain": [
       "<Figure size 432x288 with 1 Axes>"
      ]
     },
     "metadata": {
      "needs_background": "light"
     },
     "output_type": "display_data"
    }
   ],
   "source": [
    "fig, ax = plt.subplots()\n",
    "# add shading for stimulus duration)\n",
    "# Do this first, so it's drawn \"under\" the PSTH\n",
    "ax.axvspan(light_onset_time, light_offset_time, alpha=0.5, color='greenyellow')\n",
    "\n",
    "# Draw the PSTH\n",
    "ax.bar(range(spike_array.shape[1]), \n",
    "        np.sum(spike_array, 0)\n",
    "       )\n",
    "# Make pretty\n",
    "ax.set_title('Peri-Stimulus Time Histogram (PSTH)')\n",
    "ax.set_xlabel('Time (ms)')\n",
    "ax.set_ylabel('Num. spike occurrences at this time')\n",
    "plt.show()"
   ]
  },
  {
   "cell_type": "code",
   "execution_count": 9,
   "metadata": {},
   "outputs": [
    {
     "data": {
      "image/png": "[encoded data removed]",
      "text/plain": [
       "<Figure size 432x288 with 1 Axes>"
      ]
     },
     "metadata": {
      "needs_background": "light"
     },
     "output_type": "display_data"
    }
   ],
   "source": [
    "fig, ax = plt.subplots()\n",
    "\n",
    "# add shading for stimulus duration)\n",
    "ax.axvspan(light_onset_time, light_offset_time, alpha=0.5, color='greenyellow')\n",
    "# Draw the PSTH\n",
    "ax.bar(range(spike_array.shape[1]), \n",
    "        np.mean(spike_array, 0)\n",
    "       )\n",
    "# Add line showing chance probability of firing\n",
    "ax.axhline(y=0.5, xmin=0, xmax=20, linestyle='--', color='gray')\n",
    "# Make pretty\n",
    "ax.set_title('Peri-Stimulus Time Histogram (PSTH)')\n",
    "ax.set_xlabel('Time (ms)')\n",
    "ax.set_ylabel('Prob. spike occurrences at this time')\n",
    "plt.show()"
   ]
  },
  {
   "cell_type": "code",
   "execution_count": 12,
   "metadata": {},
   "outputs": [
    {
     "data": {
      "image/png": "[encoded data removed]",
      "text/plain": [
       "<Figure size 720x360 with 2 Axes>"
      ]
     },
     "metadata": {
      "needs_background": "light"
     },
     "output_type": "display_data"
    }
   ],
   "source": [
    "fig, axs = plt.subplots(2, 1, figsize=[10,5])\n",
    "\n",
    "########################################\n",
    "# draw raster into first subplot, axs[0]\n",
    "# add shading for stimulus duration)\n",
    "axs[0].axvspan(light_onset_time, light_offset_time, alpha=0.5, color='greenyellow')\n",
    "for trial in range(len(ten_spike_trains)):\n",
    "    spike_times = [i for i, x in enumerate(ten_spike_trains[trial]) if x == spike_value]\n",
    "    axs[0].vlines(spike_times, trial - 0.5, trial + 0.5)\n",
    "# Set x axis range so that time zero is more visible    \n",
    "axs[0].set_xlim([-1, len(spike_train)])\n",
    "# specify tick marks and label label y axis\n",
    "axs[0].set_yticks(range(len(ten_spike_trains)))\n",
    "axs[0].set_ylabel('Trial Number')\n",
    "\n",
    "axs[0].set_title('Neuronal Spike Times') \n",
    "\n",
    "#######################################\n",
    "# draw PSTH into second subplot, axs[1]\n",
    "# add shading for stimulus duration\n",
    "axs[1].axvspan(light_onset_time, light_offset_time, alpha=0.5, color='greenyellow')\n",
    "# Draw the PSTH\n",
    "axs[1].bar(range(spike_array.shape[1]), \n",
    "           np.mean(spike_array, 0)\n",
    "           )\n",
    "# Use same x axis limits as for raster plot\n",
    "axs[1].set_xlim([-1, len(spike_train)])\n",
    "# Add line showing chance probability of firing\n",
    "axs[1].axhline(y=0.5, xmin=0, xmax=20, linestyle='--', color='gray')\n",
    "# Make pretty\n",
    "axs[1].set_title('Peri-Stimulus Time Histogram (PSTH)')\n",
    "axs[1].set_xlabel('Time (ms)')\n",
    "axs[1].set_ylabel('Probability of spike')\n",
    "### Overall figure stuff\n",
    "fig.suptitle('Spike Trains Shown Two Ways')\n",
    "plt.tight_layout()\n",
    "plt.show()"
   ]
  },
  {
   "cell_type": "markdown",
   "metadata": {},
   "source": [
    "# From google AI"
   ]
  },
  {
   "cell_type": "code",
   "execution_count": null,
   "metadata": {},
   "outputs": [],
   "source": [
    "\n",
    "# Example spike times for a single trial\n",
    "spike_times = np.array([0.1, 0.2, 0.3, 0.5, 0.7, 0.8])\n",
    "# Stimulus onset time\n",
    "stimulus_onset = 0\n",
    "# Trial duration\n",
    "trial_duration = 1\n",
    "# Bin size for the histogram\n",
    "bin_size = 0.1\n",
    "# Create bins for the histogram\n",
    "bins = np.arange(stimulus_onset, trial_duration + bin_size, bin_size)\n",
    "# Compute the histogram\n",
    "hist, _ = np.histogram(spike_times, bins)\n",
    "# Plot the PSTH\n",
    "plt.bar(bins[:-1], hist, width=bin_size, align='edge')\n",
    "plt.xlabel('Time (s)')\n",
    "plt.ylabel('Spike Count')\n",
    "plt.title('PSTH')\n",
    "plt.show()"
   ]
  },
  {
   "cell_type": "code",
   "execution_count": 11,
   "metadata": {},
   "outputs": [
    {
     "data": {
      "image/png": "[encoded data removed]",
      "text/plain": [
       "<Figure size 432x288 with 1 Axes>"
      ]
     },
     "metadata": {
      "needs_background": "light"
     },
     "output_type": "display_data"
    }
   ],
   "source": [
    "# Example spike times for multiple trials\n",
    "spike_times_trials = [np.array([0.1, 0.2, 0.3, 0.5, 0.7, 0.8]),\n",
    "                      np.array([0.2, 0.4, 0.6, 0.8, 0.9]),\n",
    "                      np.array([0.15, 0.35, 0.55, 0.75, 0.95])]\n",
    "\n",
    "# Compute the PSTH for multiple trials\n",
    "hist = np.zeros(len(bins) - 1)\n",
    "for spike_times in spike_times_trials:\n",
    "    trial_hist, _ = np.histogram(spike_times, bins)\n",
    "    hist += trial_hist\n",
    "# Plot the PSTH\n",
    "plt.bar(bins[:-1], hist / len(spike_times_trials), width=bin_size, align='edge')\n",
    "plt.xlabel('Time (s)')\n",
    "plt.ylabel('Average Spike Count')\n",
    "plt.title('PSTH (Multiple Trials)')\n",
    "plt.show()"
   ]
  },
  {
   "cell_type": "markdown",
   "metadata": {},
   "source": [
    "# With ligh intensities (neuraldatascience)"
   ]
  },
  {
   "cell_type": "code",
   "execution_count": null,
   "metadata": {},
   "outputs": [],
   "source": [
    "stim_on = 4   # time stimulus turned on\n",
    "stim_off = 14 # time stimulus turned off\n",
    "num_trials = 10 # number of trials per intensity level\n",
    "num_tp = 21     # Number of time points in each trial (0-20 ms, inclusive)\n",
    "\n",
    "spikes = pd.read_csv('data/ten_intensities.csv')\n",
    "\n",
    "spikes.head()\n",
    "spikes.sample(25)\n",
    "spikes.shape\n",
    "spikes['Intensity'].unique()\n",
    "spikes['Trial'].unique()\n",
    "trials = sorted(spikes['Trial'].unique())\n",
    "# select just data for intensity level 9\n",
    "dat = spikes[spikes['Intensity'] == 9]"
   ]
  },
  {
   "cell_type": "code",
   "execution_count": null,
   "metadata": {},
   "outputs": [],
   "source": [
    "#raster\n",
    "fig, ax = plt.subplots()\n",
    "# Shade time when stimulus was on\n",
    "ax.axvspan(stim_on, stim_off, alpha=0.5, color='greenyellow')\n",
    "# Draw the raster one trial at a time\n",
    "for trial in trials:\n",
    "    # get spike times for this trial\n",
    "    spike_times = dat[dat['Trial'] == trial]['SpikeTime']\n",
    "    # Draw the raster\n",
    "    ax.vlines(spike_times, \n",
    "              trial - 0.4, trial + 0.4)\n",
    "plt.show()"
   ]
  },
  {
   "cell_type": "code",
   "execution_count": null,
   "metadata": {},
   "outputs": [],
   "source": [
    "#psth\n",
    "fig, ax = plt.subplots()\n",
    "# Shade time when stimulus was on\n",
    "ax.axvspan(stim_on, stim_off, alpha=0.5, color='greenyellow')\n",
    "ax.hist(dat['SpikeTime'], bins=range(0, num_tp, 1))\n",
    "plt.show()"
   ]
  },
  {
   "cell_type": "code",
   "execution_count": null,
   "metadata": {},
   "outputs": [],
   "source": [
    "#Combined psth and raster\n",
    "# # here we hard-code the figure dimensions (x, y) to control the way the plot looks\n",
    "fig, axs = plt.subplots(1, 2, figsize=[15, 4])\n",
    "# Shade time when stimulus was on\n",
    "axs[0].axvspan(stim_on, stim_off, alpha=0.5, color='greenyellow')\n",
    "# select just data for intensity level 9\n",
    "dat = spikes[spikes['Intensity'] == 9]\n",
    "# Draw the raster one trial at a time\n",
    "for trial in trials:\n",
    "    # get spike times for this trial\n",
    "    spike_times = dat[dat['Trial'] == trial]['SpikeTime']\n",
    "    # Draw the raster\n",
    "    axs[0].vlines(spike_times, \n",
    "              trial - 0.4, trial + 0.4)\n",
    "# Shade time when stimulus was on\n",
    "axs[1].axvspan(stim_on, stim_off, alpha=0.5, color='greenyellow')\n",
    "axs[1].hist(dat['SpikeTime'], bins=range(0, num_tp, 1))\n",
    "plt.show()"
   ]
  },
  {
   "cell_type": "code",
   "execution_count": null,
   "metadata": {},
   "outputs": [],
   "source": [
    "int_levels = sorted(spikes['Intensity'].unique())"
   ]
  },
  {
   "cell_type": "markdown",
   "metadata": {},
   "source": [
    "Although there is also a sharey kwarg for the y axis, this isn’t appropriate for the current figure because the raster and PSTH plots necessarily will have different scales. The rasters are already on the same scale, since there were 10 trials at each intensity level. However, note that the y scales for the PSTHs are all different, which makes it very hard to compare between different intensity levels."
   ]
  },
  {
   "cell_type": "code",
   "execution_count": null,
   "metadata": {},
   "outputs": [],
   "source": [
    "# set the number of subplot rows based on number of intensity levels in data\n",
    "# specify the figure dimensions since it will need to be a big figure\n",
    "fig, axs = plt.subplots(len(int_levels), 2, figsize=[12, 12], sharex=True)\n",
    "y_max = 0 # Accumulator variable\n",
    "for i in int_levels:\n",
    "    ## Raster plot\n",
    "    # select just data for current intensity level\n",
    "    # this is convenient since we'll refer to this subset of data a few times below\n",
    "    dat = spikes[spikes['Intensity'] == i]\n",
    "    # Draw the raster one trial at a time\n",
    "    for trial in trials:\n",
    "        # get spike times for this trial\n",
    "        spike_times = dat[dat['Trial'] == trial]['SpikeTime']\n",
    "        # Draw the raster\n",
    "        axs[i, 0].vlines(spike_times, \n",
    "                         trial - 0.4, trial + 0.4)\n",
    "    # Shade time when stimulus was on\n",
    "    axs[i, 0].axvspan(stim_on, stim_off, \n",
    "                      alpha= i / 10 + .1,       # Base intensity of shading (alpha) on intensity level\n",
    "                      color='greenyellow')\n",
    "    # Label the y axis with intensity level\n",
    "    axs[i, 0].set_ylabel('Intensity  ' + str(i))\n",
    "    # place title only above the first row of plots:\n",
    "    if i == 0:\n",
    "        axs[i, 0].set_title('Raster Plot for each intensity', fontsize=10)\n",
    "    ## PSTH\n",
    "    # Shade time when stimulus was on\n",
    "    axs[i, 1].axvspan(stim_on, stim_off, \n",
    "                      alpha= i / 10 + .1, \n",
    "                      color='greenyellow')\n",
    "    \n",
    "    # Plot histogram\n",
    "    axs[i, 1].hist(dat['SpikeTime'], bins=range(0, num_tp, 1))\n",
    "    # Set the x tickmarks to every 2 ms\n",
    "    axs[i, 1].set_xticks(range(0, num_tp + 1, 2))\n",
    "    # Label the y axis \n",
    "    axs[i, 1].set_ylabel('Num. Spikes')\n",
    "    # find y max of current plot\n",
    "    cur_min, cur_max = axs[i, 1].get_ylim()\n",
    "    # update y_max if necessary\n",
    "    if cur_max > y_max:\n",
    "        y_max = cur_max\n",
    "    # place title only above the first row of plots:\n",
    "    if i == 0:\n",
    "        axs[i, 1].set_title('PSTH for each intensity', fontsize=10)\n",
    "    # Place x label only below bottom row of plots:    \n",
    "    if i == max(int_levels):\n",
    "        axs[i, 1].set_xlabel('Time (ms)')\n",
    "        axs[i, 0].set_xlabel('Time (ms)')\n",
    "\n",
    "# Having plotted all intensity levels, re-scale y axis to the max we found\n",
    "# Also apply the same scale to all rasters\n",
    "for a in int_levels:\n",
    "    axs[a, 0].set_ylim(0, num_trials)\n",
    "    axs[a, 1].set_ylim(0, y_max)\n",
    "# Add an overall figure title\n",
    "fig.suptitle('Effects of 550 nm light intensity on spike rate of neuron')\n",
    "    \n",
    "plt.tight_layout()\n",
    "plt.show()"
   ]
  }
 ],
 "metadata": {
  "kernelspec": {
   "display_name": "base",
   "language": "python",
   "name": "python3"
  },
  "language_info": {
   "codemirror_mode": {
    "name": "ipython",
    "version": 3
   },
   "file_extension": ".py",
   "mimetype": "text/x-python",
   "name": "python",
   "nbconvert_exporter": "python",
   "pygments_lexer": "ipython3",
   "version": "3.9.7"
  }
 },
 "nbformat": 4,
 "nbformat_minor": 2
}
