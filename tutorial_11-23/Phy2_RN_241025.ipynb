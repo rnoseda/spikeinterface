{
 "cells": [
  {
   "cell_type": "markdown",
   "metadata": {},
   "source": [
    "# Phy for curation of sorted spikes"
   ]
  },
  {
   "cell_type": "code",
   "execution_count": 2,
   "metadata": {
    "notebookRunGroups": {
     "groupValue": "1"
    }
   },
   "outputs": [],
   "source": [
    "# Setting file paths\n",
    "from pathlib import Path\n",
    "base_folder = Path('D:/Ephys_C2DRG/')\n",
    "data_folder = Path(base_folder / \"2023_9_19/\")\n",
    "params_folder = Path(data_folder / \"phy_KS4_RN_s0_clean5_full\")"
   ]
  },
  {
   "cell_type": "code",
   "execution_count": 3,
   "metadata": {},
   "outputs": [],
   "source": [
    "from phy.apps.template import template_gui\n",
    "template_gui(params_folder / \"params.py\")\n",
    "#phy template-gui params.py #from command line inside sorting folder"
   ]
  },
  {
   "cell_type": "code",
   "execution_count": null,
   "metadata": {},
   "outputs": [],
   "source": [
    "import spikeinterface.extractors as se\n",
    "sorting_KS4_s0 = se.read_kilosort(params_folder)\n",
    "sorting_phy_curated = se.read_phy(data_folder / 'phy_KS4_RN_s0_clean5_full/', exclude_cluster_groups=['noise'])\n",
    "print(f\"Number of units before curation: {len(sorting_KS4_s0.get_unit_ids())}\")\n",
    "print(f\"Number of units after curation: {len(sorting_phy_curated.get_unit_ids())}\")\n",
    "#Save the loaded curated phy into Spikeinterface object!!\n",
    "#si.export_report(sa)"
   ]
  }
 ],
 "metadata": {
  "kernelspec": {
   "display_name": "phy2",
   "language": "python",
   "name": "python3"
  },
  "language_info": {
   "codemirror_mode": {
    "name": "ipython",
    "version": 3
   },
   "file_extension": ".py",
   "mimetype": "text/x-python",
   "name": "python",
   "nbconvert_exporter": "python",
   "pygments_lexer": "ipython3",
   "version": "3.11.10"
  }
 },
 "nbformat": 4,
 "nbformat_minor": 2
}
