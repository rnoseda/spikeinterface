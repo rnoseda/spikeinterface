{
 "cells": [
  {
   "cell_type": "markdown",
   "metadata": {},
   "source": [
    "# Phy for curation of sorted spikes"
   ]
  },
  {
   "cell_type": "code",
   "execution_count": 1,
   "metadata": {
    "notebookRunGroups": {
     "groupValue": "1"
    }
   },
   "outputs": [
    {
     "name": "stdout",
     "output_type": "stream",
     "text": [
      "SpikeInterface Version: 0.101.2\n"
     ]
    }
   ],
   "source": [
    "# Setting file paths\n",
    "import spikeinterface.full as si\n",
    "from phy.apps.template import template_gui\n",
    "from pathlib import Path\n",
    "base_folder = Path('D:/Ephys_C2DRG/')\n",
    "data_folder = Path(base_folder / \"2023_9_21/\")\n",
    "params_folder = Path(data_folder / \"phy_KS4_RN\")\n",
    "print(f\"SpikeInterface Version: {si.__version__}\")"
   ]
  },
  {
   "cell_type": "code",
   "execution_count": 2,
   "metadata": {},
   "outputs": [
    {
     "ename": "MultipleInstanceError",
     "evalue": "An incompatible sibling of 'InProcessInteractiveShell' is already instantiated as singleton: ZMQInteractiveShell",
     "output_type": "error",
     "traceback": [
      "\u001b[1;31m---------------------------------------------------------------------------\u001b[0m",
      "\u001b[1;31mMultipleInstanceError\u001b[0m                     Traceback (most recent call last)",
      "Cell \u001b[1;32mIn[2], line 1\u001b[0m\n\u001b[1;32m----> 1\u001b[0m template_gui(params_folder \u001b[38;5;241m/\u001b[39m \u001b[38;5;124m\"\u001b[39m\u001b[38;5;124mparams.py\u001b[39m\u001b[38;5;124m\"\u001b[39m)\n",
      "File \u001b[1;32mc:\\ProgramData\\Anaconda3\\envs\\phy2\\Lib\\site-packages\\phy\\apps\\template\\gui.py:218\u001b[0m, in \u001b[0;36mtemplate_gui\u001b[1;34m(params_path, **kwargs)\u001b[0m\n\u001b[0;32m    216\u001b[0m create_app()\n\u001b[0;32m    217\u001b[0m controller \u001b[38;5;241m=\u001b[39m TemplateController(model\u001b[38;5;241m=\u001b[39mmodel, dir_path\u001b[38;5;241m=\u001b[39mdir_path, \u001b[38;5;241m*\u001b[39m\u001b[38;5;241m*\u001b[39mkwargs)\n\u001b[1;32m--> 218\u001b[0m gui \u001b[38;5;241m=\u001b[39m controller\u001b[38;5;241m.\u001b[39mcreate_gui()\n\u001b[0;32m    219\u001b[0m gui\u001b[38;5;241m.\u001b[39mshow()\n\u001b[0;32m    220\u001b[0m run_app()\n",
      "File \u001b[1;32mc:\\ProgramData\\Anaconda3\\envs\\phy2\\Lib\\site-packages\\phy\\apps\\base.py:1703\u001b[0m, in \u001b[0;36mBaseController.create_gui\u001b[1;34m(self, default_views, **kwargs)\u001b[0m\n\u001b[0;32m   1701\u001b[0m \u001b[38;5;28mself\u001b[39m\u001b[38;5;241m.\u001b[39mcreate_misc_actions(gui)\n\u001b[0;32m   1702\u001b[0m gui\u001b[38;5;241m.\u001b[39mset_default_actions()\n\u001b[1;32m-> 1703\u001b[0m gui\u001b[38;5;241m.\u001b[39mcreate_views()\n\u001b[0;32m   1705\u001b[0m \u001b[38;5;66;03m# Bind the `select_more` event to add clusters to the existing selection.\u001b[39;00m\n\u001b[0;32m   1706\u001b[0m \u001b[38;5;129m@connect\u001b[39m\n\u001b[0;32m   1707\u001b[0m \u001b[38;5;28;01mdef\u001b[39;00m \u001b[38;5;21mon_select_more\u001b[39m(sender, cluster_ids):\n",
      "File \u001b[1;32mc:\\ProgramData\\Anaconda3\\envs\\phy2\\Lib\\site-packages\\phy\\gui\\gui.py:698\u001b[0m, in \u001b[0;36mGUI.create_views\u001b[1;34m(self)\u001b[0m\n\u001b[0;32m    696\u001b[0m \u001b[38;5;28;01massert\u001b[39;00m n_views \u001b[38;5;241m>\u001b[39m\u001b[38;5;241m=\u001b[39m \u001b[38;5;241m1\u001b[39m\n\u001b[0;32m    697\u001b[0m \u001b[38;5;28;01mfor\u001b[39;00m i \u001b[38;5;129;01min\u001b[39;00m \u001b[38;5;28mrange\u001b[39m(n_views):\n\u001b[1;32m--> 698\u001b[0m     \u001b[38;5;28mself\u001b[39m\u001b[38;5;241m.\u001b[39mcreate_and_add_view(view_name)\n",
      "File \u001b[1;32mc:\\ProgramData\\Anaconda3\\envs\\phy2\\Lib\\site-packages\\phy\\gui\\gui.py:669\u001b[0m, in \u001b[0;36mGUI.create_and_add_view\u001b[1;34m(self, view_name)\u001b[0m\n\u001b[0;32m    667\u001b[0m     \u001b[38;5;28;01mreturn\u001b[39;00m\n\u001b[0;32m    668\u001b[0m \u001b[38;5;66;03m# Create the view with the view creation function.\u001b[39;00m\n\u001b[1;32m--> 669\u001b[0m view \u001b[38;5;241m=\u001b[39m fn()\n\u001b[0;32m    670\u001b[0m \u001b[38;5;28;01mif\u001b[39;00m view \u001b[38;5;129;01mis\u001b[39;00m \u001b[38;5;28;01mNone\u001b[39;00m:  \u001b[38;5;66;03m# pragma: no cover\u001b[39;00m\n\u001b[0;32m    671\u001b[0m     logger\u001b[38;5;241m.\u001b[39mwarning(\u001b[38;5;124m\"\u001b[39m\u001b[38;5;124mCould not create view \u001b[39m\u001b[38;5;132;01m%s\u001b[39;00m\u001b[38;5;124m.\u001b[39m\u001b[38;5;124m\"\u001b[39m, view_name)\n",
      "File \u001b[1;32mc:\\ProgramData\\Anaconda3\\envs\\phy2\\Lib\\site-packages\\phy\\apps\\base.py:1564\u001b[0m, in \u001b[0;36mBaseController.create_ipython_view\u001b[1;34m(self)\u001b[0m\n\u001b[0;32m   1562\u001b[0m \u001b[38;5;250m\u001b[39m\u001b[38;5;124;03m\"\"\"Create an IPython View.\"\"\"\u001b[39;00m\n\u001b[0;32m   1563\u001b[0m view \u001b[38;5;241m=\u001b[39m IPythonView()\n\u001b[1;32m-> 1564\u001b[0m view\u001b[38;5;241m.\u001b[39mstart_kernel()\n\u001b[0;32m   1565\u001b[0m view\u001b[38;5;241m.\u001b[39minject(\n\u001b[0;32m   1566\u001b[0m     controller\u001b[38;5;241m=\u001b[39m\u001b[38;5;28mself\u001b[39m, c\u001b[38;5;241m=\u001b[39m\u001b[38;5;28mself\u001b[39m, m\u001b[38;5;241m=\u001b[39m\u001b[38;5;28mself\u001b[39m\u001b[38;5;241m.\u001b[39mmodel, s\u001b[38;5;241m=\u001b[39m\u001b[38;5;28mself\u001b[39m\u001b[38;5;241m.\u001b[39msupervisor,\n\u001b[0;32m   1567\u001b[0m     emit\u001b[38;5;241m=\u001b[39memit, connect\u001b[38;5;241m=\u001b[39mconnect,\n\u001b[0;32m   1568\u001b[0m )\n\u001b[0;32m   1569\u001b[0m \u001b[38;5;28;01mreturn\u001b[39;00m view\n",
      "File \u001b[1;32mc:\\ProgramData\\Anaconda3\\envs\\phy2\\Lib\\site-packages\\phy\\gui\\widgets.py:45\u001b[0m, in \u001b[0;36mIPythonView.start_kernel\u001b[1;34m(self)\u001b[0m\n\u001b[0;32m     42\u001b[0m logger\u001b[38;5;241m.\u001b[39mdebug(\u001b[38;5;124m\"\u001b[39m\u001b[38;5;124mStarting the kernel.\u001b[39m\u001b[38;5;124m\"\u001b[39m)\n\u001b[0;32m     44\u001b[0m \u001b[38;5;28mself\u001b[39m\u001b[38;5;241m.\u001b[39mkernel_manager \u001b[38;5;241m=\u001b[39m QtInProcessKernelManager()\n\u001b[1;32m---> 45\u001b[0m \u001b[38;5;28mself\u001b[39m\u001b[38;5;241m.\u001b[39mkernel_manager\u001b[38;5;241m.\u001b[39mstart_kernel(show_banner\u001b[38;5;241m=\u001b[39m\u001b[38;5;28;01mFalse\u001b[39;00m)\n\u001b[0;32m     46\u001b[0m \u001b[38;5;28mself\u001b[39m\u001b[38;5;241m.\u001b[39mkernel_manager\u001b[38;5;241m.\u001b[39mkernel\u001b[38;5;241m.\u001b[39mgui \u001b[38;5;241m=\u001b[39m \u001b[38;5;124m'\u001b[39m\u001b[38;5;124mqt\u001b[39m\u001b[38;5;124m'\u001b[39m\n\u001b[0;32m     47\u001b[0m \u001b[38;5;28mself\u001b[39m\u001b[38;5;241m.\u001b[39mkernel \u001b[38;5;241m=\u001b[39m \u001b[38;5;28mself\u001b[39m\u001b[38;5;241m.\u001b[39mkernel_manager\u001b[38;5;241m.\u001b[39mkernel\n",
      "File \u001b[1;32mc:\\ProgramData\\Anaconda3\\envs\\phy2\\Lib\\site-packages\\ipykernel\\inprocess\\manager.py:48\u001b[0m, in \u001b[0;36mInProcessKernelManager.start_kernel\u001b[1;34m(self, **kwds)\u001b[0m\n\u001b[0;32m     45\u001b[0m \u001b[38;5;250m\u001b[39m\u001b[38;5;124;03m\"\"\"Start the kernel.\"\"\"\u001b[39;00m\n\u001b[0;32m     46\u001b[0m \u001b[38;5;28;01mfrom\u001b[39;00m \u001b[38;5;21;01mipykernel\u001b[39;00m\u001b[38;5;21;01m.\u001b[39;00m\u001b[38;5;21;01minprocess\u001b[39;00m\u001b[38;5;21;01m.\u001b[39;00m\u001b[38;5;21;01mipkernel\u001b[39;00m \u001b[38;5;28;01mimport\u001b[39;00m InProcessKernel\n\u001b[1;32m---> 48\u001b[0m \u001b[38;5;28mself\u001b[39m\u001b[38;5;241m.\u001b[39mkernel \u001b[38;5;241m=\u001b[39m InProcessKernel(parent\u001b[38;5;241m=\u001b[39m\u001b[38;5;28mself\u001b[39m, session\u001b[38;5;241m=\u001b[39m\u001b[38;5;28mself\u001b[39m\u001b[38;5;241m.\u001b[39msession)\n",
      "File \u001b[1;32mc:\\ProgramData\\Anaconda3\\envs\\phy2\\Lib\\site-packages\\ipykernel\\inprocess\\ipkernel.py:72\u001b[0m, in \u001b[0;36mInProcessKernel.__init__\u001b[1;34m(self, **traits)\u001b[0m\n\u001b[0;32m     70\u001b[0m \u001b[38;5;28;01mdef\u001b[39;00m \u001b[38;5;21m__init__\u001b[39m(\u001b[38;5;28mself\u001b[39m, \u001b[38;5;241m*\u001b[39m\u001b[38;5;241m*\u001b[39mtraits):\n\u001b[0;32m     71\u001b[0m \u001b[38;5;250m    \u001b[39m\u001b[38;5;124;03m\"\"\"Initialize the kernel.\"\"\"\u001b[39;00m\n\u001b[1;32m---> 72\u001b[0m     \u001b[38;5;28msuper\u001b[39m()\u001b[38;5;241m.\u001b[39m\u001b[38;5;21m__init__\u001b[39m(\u001b[38;5;241m*\u001b[39m\u001b[38;5;241m*\u001b[39mtraits)\n\u001b[0;32m     74\u001b[0m     \u001b[38;5;28mself\u001b[39m\u001b[38;5;241m.\u001b[39m_underlying_iopub_socket\u001b[38;5;241m.\u001b[39mobserve(\u001b[38;5;28mself\u001b[39m\u001b[38;5;241m.\u001b[39m_io_dispatch, names\u001b[38;5;241m=\u001b[39m[\u001b[38;5;124m\"\u001b[39m\u001b[38;5;124mmessage_sent\u001b[39m\u001b[38;5;124m\"\u001b[39m])\n\u001b[0;32m     75\u001b[0m     \u001b[38;5;28;01mif\u001b[39;00m \u001b[38;5;28mself\u001b[39m\u001b[38;5;241m.\u001b[39mshell:\n",
      "File \u001b[1;32mc:\\ProgramData\\Anaconda3\\envs\\phy2\\Lib\\site-packages\\ipykernel\\ipkernel.py:125\u001b[0m, in \u001b[0;36mIPythonKernel.__init__\u001b[1;34m(self, **kwargs)\u001b[0m\n\u001b[0;32m    115\u001b[0m     \u001b[38;5;28mself\u001b[39m\u001b[38;5;241m.\u001b[39mdebugger \u001b[38;5;241m=\u001b[39m Debugger(\n\u001b[0;32m    116\u001b[0m         \u001b[38;5;28mself\u001b[39m\u001b[38;5;241m.\u001b[39mlog,\n\u001b[0;32m    117\u001b[0m         \u001b[38;5;28mself\u001b[39m\u001b[38;5;241m.\u001b[39mdebugpy_stream,\n\u001b[1;32m   (...)\u001b[0m\n\u001b[0;32m    121\u001b[0m         \u001b[38;5;28mself\u001b[39m\u001b[38;5;241m.\u001b[39mdebug_just_my_code,\n\u001b[0;32m    122\u001b[0m     )\n\u001b[0;32m    124\u001b[0m \u001b[38;5;66;03m# Initialize the InteractiveShell subclass\u001b[39;00m\n\u001b[1;32m--> 125\u001b[0m \u001b[38;5;28mself\u001b[39m\u001b[38;5;241m.\u001b[39mshell \u001b[38;5;241m=\u001b[39m \u001b[38;5;28mself\u001b[39m\u001b[38;5;241m.\u001b[39mshell_class\u001b[38;5;241m.\u001b[39minstance(\n\u001b[0;32m    126\u001b[0m     parent\u001b[38;5;241m=\u001b[39m\u001b[38;5;28mself\u001b[39m,\n\u001b[0;32m    127\u001b[0m     profile_dir\u001b[38;5;241m=\u001b[39m\u001b[38;5;28mself\u001b[39m\u001b[38;5;241m.\u001b[39mprofile_dir,\n\u001b[0;32m    128\u001b[0m     user_module\u001b[38;5;241m=\u001b[39m\u001b[38;5;28mself\u001b[39m\u001b[38;5;241m.\u001b[39muser_module,\n\u001b[0;32m    129\u001b[0m     user_ns\u001b[38;5;241m=\u001b[39m\u001b[38;5;28mself\u001b[39m\u001b[38;5;241m.\u001b[39muser_ns,\n\u001b[0;32m    130\u001b[0m     kernel\u001b[38;5;241m=\u001b[39m\u001b[38;5;28mself\u001b[39m,\n\u001b[0;32m    131\u001b[0m     compiler_class\u001b[38;5;241m=\u001b[39mXCachingCompiler,\n\u001b[0;32m    132\u001b[0m )\n\u001b[0;32m    133\u001b[0m \u001b[38;5;28mself\u001b[39m\u001b[38;5;241m.\u001b[39mshell\u001b[38;5;241m.\u001b[39mdisplayhook\u001b[38;5;241m.\u001b[39msession \u001b[38;5;241m=\u001b[39m \u001b[38;5;28mself\u001b[39m\u001b[38;5;241m.\u001b[39msession  \u001b[38;5;66;03m# type:ignore[attr-defined]\u001b[39;00m\n\u001b[0;32m    135\u001b[0m jupyter_session_name \u001b[38;5;241m=\u001b[39m os\u001b[38;5;241m.\u001b[39menviron\u001b[38;5;241m.\u001b[39mget(\u001b[38;5;124m\"\u001b[39m\u001b[38;5;124mJPY_SESSION_NAME\u001b[39m\u001b[38;5;124m\"\u001b[39m)\n",
      "File \u001b[1;32mc:\\ProgramData\\Anaconda3\\envs\\phy2\\Lib\\site-packages\\traitlets\\config\\configurable.py:592\u001b[0m, in \u001b[0;36mSingletonConfigurable.instance\u001b[1;34m(cls, *args, **kwargs)\u001b[0m\n\u001b[0;32m    590\u001b[0m     \u001b[38;5;28;01mreturn\u001b[39;00m \u001b[38;5;28mcls\u001b[39m\u001b[38;5;241m.\u001b[39m_instance\n\u001b[0;32m    591\u001b[0m \u001b[38;5;28;01melse\u001b[39;00m:\n\u001b[1;32m--> 592\u001b[0m     \u001b[38;5;28;01mraise\u001b[39;00m MultipleInstanceError(\n\u001b[0;32m    593\u001b[0m         \u001b[38;5;124mf\u001b[39m\u001b[38;5;124m\"\u001b[39m\u001b[38;5;124mAn incompatible sibling of \u001b[39m\u001b[38;5;124m'\u001b[39m\u001b[38;5;132;01m{\u001b[39;00m\u001b[38;5;28mcls\u001b[39m\u001b[38;5;241m.\u001b[39m\u001b[38;5;18m__name__\u001b[39m\u001b[38;5;132;01m}\u001b[39;00m\u001b[38;5;124m'\u001b[39m\u001b[38;5;124m is already instantiated\u001b[39m\u001b[38;5;124m\"\u001b[39m\n\u001b[0;32m    594\u001b[0m         \u001b[38;5;124mf\u001b[39m\u001b[38;5;124m\"\u001b[39m\u001b[38;5;124m as singleton: \u001b[39m\u001b[38;5;132;01m{\u001b[39;00m\u001b[38;5;28mtype\u001b[39m(\u001b[38;5;28mcls\u001b[39m\u001b[38;5;241m.\u001b[39m_instance)\u001b[38;5;241m.\u001b[39m\u001b[38;5;18m__name__\u001b[39m\u001b[38;5;132;01m}\u001b[39;00m\u001b[38;5;124m\"\u001b[39m\n\u001b[0;32m    595\u001b[0m     )\n",
      "\u001b[1;31mMultipleInstanceError\u001b[0m: An incompatible sibling of 'InProcessInteractiveShell' is already instantiated as singleton: ZMQInteractiveShell"
     ]
    }
   ],
   "source": [
    "template_gui(params_folder / \"params.py\")\n",
    "#phy template-gui params.py #from command line inside sorting folder"
   ]
  },
  {
   "cell_type": "code",
   "execution_count": null,
   "metadata": {},
   "outputs": [],
   "source": [
    "sorting_KS4_s0 = si.read_kilosort(params_folder)\n",
    "sorting_phy_curated = si.read_phy(data_folder / 'phy_KS4_RN_s0/', exclude_cluster_groups=['noise'])\n",
    "print(f\"Number of units before curation: {len(sorting_KS4_s0.get_unit_ids())}\")\n",
    "print(f\"Number of units after curation: {len(sorting_phy_curated.get_unit_ids())}\")\n",
    "#Save the loaded curated phy into Spikeinterface object!!\n",
    "#si.export_report(sa)"
   ]
  },
  {
   "cell_type": "code",
   "execution_count": null,
   "metadata": {},
   "outputs": [],
   "source": [
    "sorting_loaded = si.read_sorter_folder(folder=data_folder / \"sorting_KS4_shank0\", register_recording=False)\n",
    "sa = si.load_sorting_analyzer(folder=data_folder / \"sorting_analyzer\")"
   ]
  },
  {
   "cell_type": "markdown",
   "metadata": {},
   "source": [
    "# 8. Viewers <a class=\"anchor\" id=\"viewers\"></a>\n",
    "### SpikeInterface GUI\n",
    "Can be run directly in a terminal with: \n",
    "sigui /path/to/analyzer"
   ]
  },
  {
   "cell_type": "code",
   "execution_count": null,
   "metadata": {},
   "outputs": [],
   "source": [
    "import spikeinterface_gui\n",
    "app = spikeinterface_gui.mkQApp() \n",
    "win = spikeinterface_gui.MainWindow(sa, curation=True)\n",
    "win.show()\n",
    "app.exec_()"
   ]
  },
  {
   "cell_type": "code",
   "execution_count": null,
   "metadata": {},
   "outputs": [],
   "source": [
    "%gui qt\n",
    "si.plot_sorting_summary(sorting_analyzer=sa, curation=True, backend='spikeinterface_gui')"
   ]
  },
  {
   "cell_type": "code",
   "execution_count": null,
   "metadata": {},
   "outputs": [],
   "source": [
    "templates = si.plot_unit_templates(sa, backend=\"ipywidgets\")#templ\n",
    "waveforms = si.plot_unit_waveforms(sa, backend=\"ipywidgets\")#wf\n",
    "unit_locations = si.plot_unit_locations(sa, backend=\"ipywidgets\")#u_loc\n",
    "spk_locations = si.plot_spike_locations(sa, backend=\"ipywidgets\")#spk_loc\n",
    "spk_amplitude = si.plot_amplitudes(sa, backend=\"ipywidgets\")#spk_amp\n",
    "template_similarity = si.plot_template_similarity(sa)#, backend=\"ipywidgets\")#templ_sim\n",
    "autocorr = si.plot_autocorrelograms(sa, unit_ids=[0, 1 ,2])#, backend=\"ipywidgets\")#corr\n",
    "crosscorr = si.plot_crosscorrelograms(sa, unit_ids=[0, 1, 2])#, backend=\"ipywidgets\")#corr"
   ]
  },
  {
   "cell_type": "markdown",
   "metadata": {},
   "source": [
    "### SortingView\n",
    "Web-based, shareable (with link), sorter visualizer."
   ]
  },
  {
   "cell_type": "code",
   "execution_count": null,
   "metadata": {},
   "outputs": [],
   "source": [
    "# One-time initialization (alternate method)\n",
    "import kachery_cloud as kcl\n",
    "kcl.init()\n",
    "\n",
    "# Follow the instructions to associate the client with your GitHub user on the kachery-cloud network"
   ]
  },
  {
   "cell_type": "code",
   "execution_count": null,
   "metadata": {},
   "outputs": [],
   "source": [
    "sv = si.plot_sorting_summary(sa, curation=True, backend='sortingview')"
   ]
  },
  {
   "cell_type": "code",
   "execution_count": null,
   "metadata": {},
   "outputs": [],
   "source": [
    "tms_sorting = sorting_KS4.get_times() \n",
    "print(tms_sorting)\n",
    "unit_ids = sorting_KS4.unit_ids\n",
    "num_channels = sorting_KS4.get_num_units()\n",
    "sampling_frequency = sorting_KS4.sampling_frequency\n",
    "# retrieve spike trains for a unit (returned as sample indices)\n",
    "unit0 = unit_ids[0]\n",
    "spike_train = sorting_KS4.get_unit_spike_train(unit_id=unit0)\n",
    "# retrieve spikes between frames 100 and 200\n",
    "spike_train_slice = sorting_KS4.get_unit_spike_train(unit_id=unit0,\n",
    "                                                 start_frame=100, end_frame=200)"
   ]
  }
 ],
 "metadata": {
  "kernelspec": {
   "display_name": "phy2",
   "language": "python",
   "name": "python3"
  },
  "language_info": {
   "codemirror_mode": {
    "name": "ipython",
    "version": 3
   },
   "file_extension": ".py",
   "mimetype": "text/x-python",
   "name": "python",
   "nbconvert_exporter": "python",
   "pygments_lexer": "ipython3",
   "version": "3.11.10"
  }
 },
 "nbformat": 4,
 "nbformat_minor": 2
}
