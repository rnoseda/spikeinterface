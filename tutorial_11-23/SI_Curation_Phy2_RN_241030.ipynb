{
 "cells": [
  {
   "cell_type": "markdown",
   "metadata": {},
   "source": [
    "# Phy for curation of sorted spikes"
   ]
  },
  {
   "cell_type": "code",
   "execution_count": null,
   "metadata": {
    "notebookRunGroups": {
     "groupValue": "1"
    }
   },
   "outputs": [],
   "source": [
    "# Setting file paths\n",
    "import spikeinterface.full as si\n",
    "from phy.apps.template import template_gui\n",
    "from pathlib import Path\n",
    "base_folder = Path('D:/Ephys_C2DRG/')\n",
    "data_folder = Path(base_folder / \"2023_9_19/\")\n",
    "params_folder = Path(data_folder / \"phy_KS4_RN\")\n",
    "print(f\"SpikeInterface Version: {si.__version__}\")"
   ]
  },
  {
   "cell_type": "code",
   "execution_count": null,
   "metadata": {},
   "outputs": [],
   "source": [
    "template_gui(params_folder / \"params.py\")\n",
    "#phy template-gui params.py #from command line inside sorting folder"
   ]
  },
  {
   "cell_type": "code",
   "execution_count": null,
   "metadata": {},
   "outputs": [],
   "source": [
    "sorting_KS4_s0 = si.read_kilosort(params_folder)\n",
    "sorting_phy_curated = si.read_phy(data_folder / 'phy_KS4_RN_s0/', exclude_cluster_groups=['noise'])\n",
    "print(f\"Number of units before curation: {len(sorting_KS4_s0.get_unit_ids())}\")\n",
    "print(f\"Number of units after curation: {len(sorting_phy_curated.get_unit_ids())}\")\n",
    "#Save the loaded curated phy into Spikeinterface object!!\n",
    "#si.export_report(sa)"
   ]
  },
  {
   "cell_type": "code",
   "execution_count": null,
   "metadata": {},
   "outputs": [],
   "source": [
    "sorting_loaded = si.read_sorter_folder(folder=data_folder / \"sorting_KS4_shank0\", register_recording=False)\n",
    "sa = si.load_sorting_analyzer(folder=data_folder / \"sorting_analyzer\")"
   ]
  },
  {
   "cell_type": "markdown",
   "metadata": {},
   "source": [
    "# 8. Viewers <a class=\"anchor\" id=\"viewers\"></a>\n",
    "### SpikeInterface GUI\n",
    "Can be run directly in a terminal with: \n",
    "sigui /path/to/analyzer"
   ]
  },
  {
   "cell_type": "code",
   "execution_count": null,
   "metadata": {},
   "outputs": [],
   "source": [
    "import spikeinterface_gui\n",
    "app = spikeinterface_gui.mkQApp() \n",
    "win = spikeinterface_gui.MainWindow(sa, curation=True)\n",
    "win.show()\n",
    "app.exec_()"
   ]
  },
  {
   "cell_type": "code",
   "execution_count": null,
   "metadata": {},
   "outputs": [],
   "source": [
    "%gui qt\n",
    "si.plot_sorting_summary(sorting_analyzer=sa, curation=True, backend='spikeinterface_gui')"
   ]
  },
  {
   "cell_type": "code",
   "execution_count": null,
   "metadata": {},
   "outputs": [],
   "source": [
    "templates = si.plot_unit_templates(sa, backend=\"ipywidgets\")#templ\n",
    "waveforms = si.plot_unit_waveforms(sa, backend=\"ipywidgets\")#wf\n",
    "unit_locations = si.plot_unit_locations(sa, backend=\"ipywidgets\")#u_loc\n",
    "spk_locations = si.plot_spike_locations(sa, backend=\"ipywidgets\")#spk_loc\n",
    "spk_amplitude = si.plot_amplitudes(sa, backend=\"ipywidgets\")#spk_amp\n",
    "template_similarity = si.plot_template_similarity(sa)#, backend=\"ipywidgets\")#templ_sim\n",
    "autocorr = si.plot_autocorrelograms(sa, unit_ids=[0, 1 ,2])#, backend=\"ipywidgets\")#corr\n",
    "crosscorr = si.plot_crosscorrelograms(sa, unit_ids=[0, 1, 2])#, backend=\"ipywidgets\")#corr"
   ]
  },
  {
   "cell_type": "markdown",
   "metadata": {},
   "source": [
    "### SortingView\n",
    "Web-based, shareable (with link), sorter visualizer."
   ]
  },
  {
   "cell_type": "code",
   "execution_count": null,
   "metadata": {},
   "outputs": [],
   "source": [
    "# One-time initialization (alternate method)\n",
    "import kachery_cloud as kcl\n",
    "kcl.init()\n",
    "\n",
    "# Follow the instructions to associate the client with your GitHub user on the kachery-cloud network"
   ]
  },
  {
   "cell_type": "code",
   "execution_count": null,
   "metadata": {},
   "outputs": [],
   "source": [
    "sv = si.plot_sorting_summary(sa, curation=True, backend='sortingview')"
   ]
  },
  {
   "cell_type": "code",
   "execution_count": null,
   "metadata": {},
   "outputs": [],
   "source": [
    "tms_sorting = sorting_KS4.get_times() \n",
    "print(tms_sorting)\n",
    "unit_ids = sorting_KS4.unit_ids\n",
    "num_channels = sorting_KS4.get_num_units()\n",
    "sampling_frequency = sorting_KS4.sampling_frequency\n",
    "# retrieve spike trains for a unit (returned as sample indices)\n",
    "unit0 = unit_ids[0]\n",
    "spike_train = sorting_KS4.get_unit_spike_train(unit_id=unit0)\n",
    "# retrieve spikes between frames 100 and 200\n",
    "spike_train_slice = sorting_KS4.get_unit_spike_train(unit_id=unit0,\n",
    "                                                 start_frame=100, end_frame=200)"
   ]
  }
 ],
 "metadata": {
  "kernelspec": {
   "display_name": "phy2",
   "language": "python",
   "name": "python3"
  },
  "language_info": {
   "codemirror_mode": {
    "name": "ipython",
    "version": 3
   },
   "file_extension": ".py",
   "mimetype": "text/x-python",
   "name": "python",
   "nbconvert_exporter": "python",
   "pygments_lexer": "ipython3",
   "version": "3.11.10"
  }
 },
 "nbformat": 4,
 "nbformat_minor": 2
}
