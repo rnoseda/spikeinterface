{
 "cells": [
  {
   "cell_type": "markdown",
   "metadata": {},
   "source": [
    "# 5. Motion correction, followed by Whiten\n",
    "https://spikeinterface.readthedocs.io/en/stable/how_to/handle_drift.html"
   ]
  },
  {
   "cell_type": "code",
   "execution_count": null,
   "metadata": {},
   "outputs": [],
   "source": [
    "import spikeinterface.full as si\n",
    "import matplotlib.pyplot as plt\n",
    "import os\n",
    "from pathlib import Path\n",
    "import numpy as np\n",
    "\n",
    "# Setting file paths and basic parameters\n",
    "base_folder = Path('D:/Ephys_C2DRG/')\n",
    "data_folder = Path(\"D:/Ephys_C2DRG/2023_9_19/\")\n",
    "\n",
    "recording = si.load_extractor()\n",
    "\n",
    "n_cpus = os.cpu_count()\n",
    "n_jobs = n_cpus #n_jobs = -1 :equal to the number of cores.\n",
    "job_kwargs = dict(n_jobs=n_jobs, chunk_duration=\"1s\", progress_bar=True)"
   ]
  },
  {
   "cell_type": "code",
   "execution_count": null,
   "metadata": {},
   "outputs": [],
   "source": [
    "preset_params_rf = si.get_motion_parameters_preset(\"rigid_fast\")\n",
    "preset = \"rigid_fast\"\n",
    "preset_params_rf = ({'direction': 'y', 'rigid': True, 'win_shape': 'rect', 'win_step_um': 100.0, \n",
    "                     'win_scale_um': 150.0, 'win_margin_um': None, 'method': 'dredge_ap', 'bin_s': 5.0})\n",
    "preset_params_rf"
   ]
  },
  {
   "cell_type": "code",
   "execution_count": null,
   "metadata": {},
   "outputs": [],
   "source": [
    "print(\"Computing with\", preset)\n",
    "folder = data_folder / \"motion_folder_dataset\" / preset\n",
    "recording_corrected, motion, motion_info = si.correct_motion(recording, preset=preset, folder=folder, output_motion=True, \n",
    "                                                                 output_motion_info=True, estimate_motion_kwargs=preset_params_rf, **job_kwargs)"
   ]
  },
  {
   "cell_type": "code",
   "execution_count": null,
   "metadata": {},
   "outputs": [],
   "source": [
    "folder = data_folder / \"motion_folder_dataset\" / preset\n",
    "motion_info = si.load_motion_info(folder)\n",
    "# plot motion\n",
    "fig = plt.figure(figsize=(14, 8))\n",
    "si.plot_motion_info(motion_info, recording, figure=fig, depth_lim=(-50, 300), \n",
    "                    color_amplitude=True, amplitude_cmap=\"inferno\", scatter_decimate=10)\n",
    "fig.suptitle(f\"{preset=}\")"
   ]
  },
  {
   "cell_type": "code",
   "execution_count": null,
   "metadata": {},
   "outputs": [],
   "source": [
    "from spikeinterface.sortingcomponents.motion import correct_motion_on_peaks\n",
    "\n",
    "folder = data_folder / \"motion_folder_dataset\" / preset\n",
    "motion_info = si.load_motion_info(folder)\n",
    "motion = motion_info[\"motion\"]\n",
    "\n",
    "fig, axs = plt.subplots(ncols=2, figsize=(8, 6), sharey=True)\n",
    "ax = axs[0]\n",
    "si.plot_probe_map(recording, ax=ax)\n",
    "peaks = motion_info[\"peaks\"]\n",
    "sr = recording.get_sampling_frequency()\n",
    "time_lim0 = 0.0\n",
    "time_lim1 = 6000.0\n",
    "mask = (peaks[\"sample_index\"] > int(sr * time_lim0)) & (peaks[\"sample_index\"] < int(sr * time_lim1))\n",
    "sl = slice(None, None, 5)\n",
    "amps = np.abs(peaks[\"amplitude\"][mask][sl])\n",
    "amps /= np.quantile(amps, 0.95)\n",
    "c = plt.get_cmap(\"inferno\")(amps)\n",
    "\n",
    "color_kargs = dict(alpha=0.5, s=2, c=c)\n",
    "\n",
    "peak_locations = motion_info[\"peak_locations\"]\n",
    "ax.scatter(peak_locations[\"x\"][mask][sl], peak_locations[\"y\"][mask][sl], **color_kargs)\n",
    "ax.set_ylim(-75, 250)\n",
    "ax.set_xlim(-45, 80)\n",
    "\n",
    "peak_locations2 = correct_motion_on_peaks(peaks, peak_locations, motion, recording_corrected)\n",
    "ax = axs[1]\n",
    "si.plot_probe_map(recording, ax=ax)\n",
    "ax.scatter(peak_locations2[\"x\"][mask][sl], peak_locations2[\"y\"][mask][sl], **color_kargs)\n",
    "ax.set_ylim(-75, 320)\n",
    "ax.set_xlim(-45, 80)\n",
    "fig.suptitle(f\"{preset=}\")"
   ]
  }
 ],
 "metadata": {
  "language_info": {
   "name": "python"
  }
 },
 "nbformat": 4,
 "nbformat_minor": 2
}
