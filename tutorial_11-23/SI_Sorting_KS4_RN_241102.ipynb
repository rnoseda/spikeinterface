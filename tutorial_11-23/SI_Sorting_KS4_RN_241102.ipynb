{
 "cells": [
  {
   "attachments": {},
   "cell_type": "markdown",
   "metadata": {},
   "source": [
    "# SpikeInterface v0.101.2 - Adapted by Rodrigo Noseda - November 2024\n",
    "\n",
    "SpikeInterface to analyze a multichannel dataset from Cambridge Neurotech Probes. \n",
    "The dataset is extracted using open-ephys DAQ and Bonsai-rx (in .bin).\n",
    "Event_timestamps need some work."
   ]
  },
  {
   "cell_type": "markdown",
   "metadata": {},
   "source": [
    "# 0. Preparation <a class=\"anchor\" id=\"preparation\"></a>"
   ]
  },
  {
   "cell_type": "code",
   "execution_count": 1,
   "metadata": {
    "notebookRunGroups": {
     "groupValue": "1"
    }
   },
   "outputs": [
    {
     "name": "stdout",
     "output_type": "stream",
     "text": [
      "SpikeInterface Version: 0.101.2\n"
     ]
    }
   ],
   "source": [
    "import spikeinterface.full as si\n",
    "import matplotlib.pyplot as plt\n",
    "import numpy as np\n",
    "import pandas as pd\n",
    "from pathlib import Path\n",
    "import os\n",
    "import glob\n",
    "import warnings\n",
    "warnings.simplefilter(\"ignore\")\n",
    "%matplotlib widget\n",
    "print(f\"SpikeInterface Version: {si.__version__}\")"
   ]
  },
  {
   "cell_type": "markdown",
   "metadata": {},
   "source": [
    "# 1. Loading saved recording and probe information <a class=\"anchor\" id=\"loading\"></a>"
   ]
  },
  {
   "cell_type": "code",
   "execution_count": 2,
   "metadata": {},
   "outputs": [],
   "source": [
    "# Setting file paths and basic parameters\n",
    "base_folder = Path('D:/Ephys_C2DRG/')\n",
    "data_folder = Path(\"D:/Ephys_C2DRG/2023_9_19/\")\n",
    "\n",
    "# parameters associated to the recording in bin format\n",
    "num_channels = 64 #must know apriori; modify in probe below accordingly.\n",
    "fs = 30000\n",
    "gain_to_uV = 0.195\n",
    "offset_to_uV = 0\n",
    "rec_dtype = \"float32\"\n",
    "time_axis = 0     \n",
    "time_format = \"%H:%M:%S.%f\"\n",
    "n_cpus = os.cpu_count()\n",
    "n_jobs = n_cpus #n_jobs = -1 :equal to the number of cores.\n",
    "job_kwargs = dict(n_jobs=n_jobs, chunk_duration=\"1s\", progress_bar=True)\n",
    "\n",
    "# Loading filtered and cleaned recording from binary saved.\n",
    "recording_filename = data_folder / 'recording_preprocessed' / 'traces_cached_seg0.raw'\n",
    "recording_loaded = si.read_binary(recording_filename, num_channels=num_channels,sampling_frequency=fs,\n",
    "                           dtype=rec_dtype, gain_to_uV=gain_to_uV, offset_to_uV=offset_to_uV, \n",
    "                           time_axis=time_axis, is_filtered=True)"
   ]
  },
  {
   "cell_type": "code",
   "execution_count": 3,
   "metadata": {},
   "outputs": [
    {
     "name": "stdout",
     "output_type": "stream",
     "text": [
      "ProbeInterface version: 0.2.24\n"
     ]
    }
   ],
   "source": [
    "#Get probe from library and set channel mapping\n",
    "import probeinterface as pi\n",
    "from probeinterface.plotting import plot_probe\n",
    "print(f\"ProbeInterface version: {pi.__version__}\")\n",
    "manufacturer = 'cambridgeneurotech'\n",
    "probe_name = 'ASSY-158-H10' #probe_name = 'ASSY-158-F' #probe_name = 'ASSY-158-H6'\n",
    "probeH10 = pi.get_probe(manufacturer, probe_name)#library: comes with contact_ids and shank_ids info.\n",
    "\n",
    "#Mapping Intan (device) channels\n",
    "device_channel_indices = [24,23,25,22,26,21,27,20,28,19,29,18,30,17,31,16,0,15,1,14,2,13,3,12,4,11,5,10,6,9,7,8,\n",
    "    56,55,57,54,58,53,59,52,60,51,61,50,62,49,63,48,32,47,33,46,34,45,35,44,36,43,37,42,38,41,39,40] #Modify accordingly.\n",
    "#   88,87,89,86,90,85,91,84,92,83,93,82,94,81,95,80,64,79,65,78,66,77,67,76,68,75,69,74,70,73,71,72,\n",
    "#   120,119,121,118,122,117,123,116,124,115,125,114,126,113,127,112,96,111,97,110,98,109,99,108,100,107,101,106,102,105,103,104]\n",
    "#Setting Intan channels to probe(RHD-2132/2164)\n",
    "probeH10.set_device_channel_indices(device_channel_indices)\n",
    "#fig, ax = plt.subplots(figsize=(6, 10))\n",
    "#plot_probe(probeH10, ax=ax, with_contact_id=True, with_device_index=True)\n",
    "#ax.set_xlim(-20, 210)\n",
    "#ax.set_ylim(-75, 320)"
   ]
  },
  {
   "cell_type": "code",
   "execution_count": 4,
   "metadata": {},
   "outputs": [],
   "source": [
    "#Set and group by shank probe before sorting\n",
    "recording_f_cmr_mc_w_clean_prb = recording_loaded.set_probe(probeH10, group_mode=\"by_shank\")\n",
    "recordings_by_group = recording_f_cmr_mc_w_clean_prb.split_by(\"group\")\n",
    "recording_to_process = recordings_by_group[0]\n",
    "channel_ids = recording_to_process.get_channel_ids()\n",
    "recording_to_process = recording_to_process.time_slice(start_time=0, end_time=300)"
   ]
  },
  {
   "cell_type": "code",
   "execution_count": null,
   "metadata": {},
   "outputs": [],
   "source": [
    "w = si.plot_traces(recording_to_process, time_range=[568, 600], channel_ids=channel_ids,\n",
    "                return_scaled=True, show_channel_ids=True, backend=\"ipywidgets\")"
   ]
  },
  {
   "cell_type": "code",
   "execution_count": 5,
   "metadata": {},
   "outputs": [
    {
     "name": "stdout",
     "output_type": "stream",
     "text": [
      "Segment 0: Duration: 300.0 sec - Samples: 9000000 - Has time vector?: True - Has Probe?: True - Time Vector: [0.00000000e+00 3.33333333e-05 6.66666667e-05 ... 2.99999900e+02\n",
      " 2.99999933e+02 2.99999967e+02]\n"
     ]
    }
   ],
   "source": [
    "#Get and set time vector, and confirm recording_to_process features\n",
    "for i in range(recording_to_process.get_num_segments()):\n",
    "    s = recording_to_process.get_num_samples(segment_index=i)\n",
    "    d = recording_to_process.get_duration(segment_index=i)\n",
    "    t = recording_to_process.get_times(segment_index=i)\n",
    "    p = recording_to_process.has_probe()\n",
    "    tms = recording_to_process.set_times(t, segment_index=i, with_warning=True)\n",
    "    tv = recording_to_process.has_time_vector(segment_index=i)\n",
    "    print(f\"Segment {i}: Duration: {d} sec - Samples: {s} - Has time vector?: {tv} - Has Probe?: {p} - Time Vector: {t}\")"
   ]
  },
  {
   "cell_type": "markdown",
   "metadata": {},
   "source": [
    "# 3. Spike sorting <a class=\"anchor\" id=\"spike-sorting\"></a>"
   ]
  },
  {
   "cell_type": "code",
   "execution_count": 9,
   "metadata": {
    "notebookRunGroups": {
     "groupValue": "2"
    },
    "pycharm": {
     "name": "#%%\n"
    }
   },
   "outputs": [
    {
     "name": "stdout",
     "output_type": "stream",
     "text": [
      "{'Th_learned': 7,\n",
      " 'Th_single_ch': 6,\n",
      " 'Th_universal': 8,\n",
      " 'acg_threshold': 0.2,\n",
      " 'artifact_threshold': None,\n",
      " 'bad_channels': None,\n",
      " 'batch_size': 60000,\n",
      " 'binning_depth': 5,\n",
      " 'ccg_threshold': 0.25,\n",
      " 'clear_cache': False,\n",
      " 'cluster_downsampling': 20,\n",
      " 'cluster_pcs': 64,\n",
      " 'delete_recording_dat': True,\n",
      " 'dmin': None,\n",
      " 'dminx': 30,\n",
      " 'do_CAR': False,\n",
      " 'do_correction': False,\n",
      " 'drift_smoothing': [0.5, 0.5, 0.5],\n",
      " 'duplicate_spike_ms': 0.5,\n",
      " 'highpass_cutoff': 300,\n",
      " 'invert_sign': False,\n",
      " 'keep_good_only': False,\n",
      " 'max_channel_distance': None,\n",
      " 'min_template_size': 10,\n",
      " 'n_pcs': 6,\n",
      " 'n_templates': 6,\n",
      " 'nblocks': 0,\n",
      " 'nearest_chans': 10,\n",
      " 'nearest_templates': 32,\n",
      " 'nskip': 25,\n",
      " 'nt': 61,\n",
      " 'nt0min': None,\n",
      " 'save_extra_vars': False,\n",
      " 'save_preprocessed_copy': False,\n",
      " 'scale': None,\n",
      " 'scaleproc': None,\n",
      " 'shift': None,\n",
      " 'sig_interp': 20,\n",
      " 'skip_kilosort_preprocessing': True,\n",
      " 'template_sizes': 5,\n",
      " 'templates_from_data': True,\n",
      " 'torch_device': 'auto',\n",
      " 'use_binary_file': None,\n",
      " 'whitening_range': 32,\n",
      " 'x_centers': None}\n"
     ]
    }
   ],
   "source": [
    "from pprint import pprint\n",
    "default_KS4_params = si.get_default_sorter_params('kilosort4')\n",
    "# Parameters can be changed by single arguments: \n",
    "default_KS4_params['batch_size'] = 60000 #2 sec\n",
    "default_KS4_params['nblocks'] = 0 #number of sections the probe is divided when performing drift correction (0=drift correction skipped)\n",
    "default_KS4_params['Th_universal'] = 8\n",
    "default_KS4_params['Th_learned'] = 7\n",
    "default_KS4_params['nearest_chans'] = 10 \n",
    "default_KS4_params['nearest_templates'] = 32\n",
    "#default_KS4_params['artifact_threshold'] = 50\n",
    "#default_KS4_params['dmin'] = 30\n",
    "default_KS4_params['dminx'] = 30\n",
    "#default_KS4_params['min_template_size'] = 20\n",
    "#default_KS4_params['scaleproc'] = 200\n",
    "default_KS4_params['do_CAR'] = False\n",
    "default_KS4_params['skip_kilosort_preprocessing'] = True\n",
    "default_KS4_params['do_correction'] = False\n",
    "default_KS4_params['duplicate_spike_ms'] = 0.5\n",
    "sorter_params = default_KS4_params\n",
    "pprint(sorter_params)"
   ]
  },
  {
   "cell_type": "code",
   "execution_count": null,
   "metadata": {
    "scrolled": true
   },
   "outputs": [
    {
     "name": "stdout",
     "output_type": "stream",
     "text": [
      "installation_mode='auto' switching to installation_mode: 'github'\n",
      "Starting container\n",
      "Installing spikeinterface with github in container\n",
      "Running kilosort4 sorter inside spikeinterface/kilosort4-base\n",
      "Stopping container\n",
      "NumpyFolder: 22 units - 1 segments - 30.0kHz\n"
     ]
    }
   ],
   "source": [
    "#Run spike sorting on recording using docker container\n",
    "sorting_KS4 = si.run_sorter('kilosort4', recording_to_process, folder=data_folder / 'sorting_KS4_s0',\n",
    "                            docker_image=True, verbose=True, **sorter_params)#, **job_kwargs)\n",
    "print(sorting_KS4)"
   ]
  },
  {
   "cell_type": "code",
   "execution_count": 8,
   "metadata": {
    "pycharm": {
     "name": "#%%\n"
    }
   },
   "outputs": [
    {
     "data": {
      "application/vnd.jupyter.widget-view+json": {
       "model_id": "98c87b7dc61b4129a714902eb919a8e2",
       "version_major": 2,
       "version_minor": 0
      },
      "image/png": "[encoded data removed]",
      "text/html": [
       "\n",
       "            <div style=\"display: inline-block;\">\n",
       "                <div class=\"jupyter-widgets widget-label\" style=\"text-align: center;\">\n",
       "                    Figure\n",
       "                </div>\n",
       "                <img src='data:image/png;base64,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' width=640.0/>\n",
       "            </div>\n",
       "        "
      ],
      "text/plain": [
       "Canvas(toolbar=Toolbar(toolitems=[('Home', 'Reset original view', 'home', 'home'), ('Back', 'Back to previous …"
      ]
     },
     "metadata": {},
     "output_type": "display_data"
    }
   ],
   "source": [
    "#sorting_KS4 = si.read_kilosort(data_folder / 'sorting_KS4' / 'sorter_output')\n",
    "w_rs = si.plot_rasters(sorting_KS4, time_range=(0, 600), backend='matplotlib')"
   ]
  },
  {
   "cell_type": "markdown",
   "metadata": {},
   "source": [
    "# 6. Postprocessing: SortingAnalyzer <a class=\"anchor\" id=\"sortinganalyzer\"></a>\n",
    "\n",
    "The core module uses `SortingAnalyzer` for postprocessing computation from paired recording-sorting objects. It retrieves waveforms, templates, spike amplitudes, etc."
   ]
  },
  {
   "cell_type": "code",
   "execution_count": null,
   "metadata": {},
   "outputs": [],
   "source": [
    "sparsity = si.estimate_sparsity(sorting_KS4,recording_to_process, num_spikes_for_sparsity=100, method=\"radius\",\n",
    "                               radius_um=100, peak_sign=\"neg\", amplitude_mode=\"extremum\")\n",
    "print(sparsity)"
   ]
  },
  {
   "cell_type": "code",
   "execution_count": null,
   "metadata": {},
   "outputs": [],
   "source": [
    "#sa = si.load_sorting_analyzer(data_folder / 'sorting_analyzer_KS4')\n",
    "sa = si.create_sorting_analyzer(sorting_KS4, recording_to_process, folder=data_folder / \"sorting_analyzer_KS4_s0\", \n",
    "                              format=\"binary_folder\", sparsity=sparsity, overwrite=True, **job_kwargs)"
   ]
  },
  {
   "cell_type": "markdown",
   "metadata": {},
   "source": [
    "#### Computing Extensions: PCA, waveforms, templates, spike amplitude, correlograms, etc.\n",
    "\n",
    "Let's move on to explore the postprocessing capabilities of the `postprocessing` module. Similarly to the `SortingAnalizer` object, the method 'compute` retrieve info on demand."
   ]
  },
  {
   "cell_type": "code",
   "execution_count": null,
   "metadata": {},
   "outputs": [],
   "source": [
    "#SortingAnalizer computations: each call will recompute and overwrite previous computations\n",
    "rand = sa.compute(\"random_spikes\", method=\"uniform\", max_spikes_per_unit=500)#subsample to create a template\n",
    "wf = sa.compute(\"waveforms\", ms_before=1.0, ms_after=2.0, **job_kwargs)\n",
    "templ =sa.compute(\"templates\", ms_before=1.0, ms_after=2.0, operators=[\"average\", \"std\"])#from raw waveforms or random_spikes\n",
    "spk_amp = sa.compute(\"spike_amplitudes\", peak_sign=\"neg\")#based on templates\n",
    "noise = sa.compute(\"noise_levels\")\n",
    "#amp_scal = sa.compute(\"amplitude_scalings\")#per channel\n",
    "pca = sa.compute(\"principal_components\", n_components=3, mode=\"by_channel_local\")#, whiten=False, dtype='float32')\n",
    "corr = sa.compute(\"correlograms\", window_ms=50.0, bin_ms=1.0, method=\"auto\")\n",
    "isi = sa.compute(\"isi_histograms\", window_ms=50.0, bin_ms=1.0, method=\"auto\")\n",
    "spk_loc = sa.compute(\"spike_locations\", ms_before=0.5, ms_after=0.5, method=\"center_of_mass\")#method=\"monopolar_triangulation\"(slow but more acccurate) #need for drift metrics (drift_ptp, drift_std, drift_mad)\n",
    "templ_sim = sa.compute(\"template_similarity\", method=\"cosine_similarity\", )#need for spikeinterface_gui. Not well suited for high-density probes!\n",
    "u_loc = sa.compute(\"unit_locations\", method='center_of_mass')#method=\"monopolar_triangulation\")\n",
    "#templ_metric = sa.compute(\"template_metrics\", include_multi_channel_metrics=True) #good when analyzing spike shapes, depolarization slope, etc. \n",
    "qm = sa.compute(\"quality_metrics\")"
   ]
  },
  {
   "cell_type": "code",
   "execution_count": null,
   "metadata": {},
   "outputs": [],
   "source": [
    "extremum_channel_ids = si.get_template_extremum_channel(sa)\n",
    "sa.sorting.set_property(\"best_si_channel\", list(extremum_channel_ids.values()))"
   ]
  },
  {
   "cell_type": "markdown",
   "metadata": {
    "pycharm": {
     "name": "#%% md\n"
    }
   },
   "source": [
    "# 9. Export to Phy for manual curation <a class=\"anchor\" id=\"exporters\"></a>\n",
    "#### [Phy](https://github.com/cortex-lab/phy). "
   ]
  },
  {
   "cell_type": "code",
   "execution_count": null,
   "metadata": {},
   "outputs": [],
   "source": [
    "si.export_to_phy(sa, output_folder=data_folder / 'phy_KS4_RN_s0a', compute_pc_features=True,\n",
    "                   copy_binary=True, dtype='float32', compute_amplitudes=True,\n",
    "                   sparsity=sparsity, add_quality_metrics=True, template_mode='median', \n",
    "                   additional_properties=[\"best_si_channel\"], verbose=True,**job_kwargs)\n",
    "\n",
    "si.export_to_phy(sa, output_folder=data_folder / 'phy_KS4_RN_s0b', copy_binary=True, dtype='float32',\n",
    "                   sparsity=sparsity, add_quality_metrics=True, template_mode='median', \n",
    "                   additional_properties=[\"best_si_channel\"], verbose=True,**job_kwargs)"
   ]
  }
 ],
 "metadata": {
  "kernelspec": {
   "display_name": "Si_env2024",
   "language": "python",
   "name": "python3"
  },
  "language_info": {
   "codemirror_mode": {
    "name": "ipython",
    "version": 3
   },
   "file_extension": ".py",
   "mimetype": "text/x-python",
   "name": "python",
   "nbconvert_exporter": "python",
   "pygments_lexer": "ipython3",
   "version": "3.11.10"
  },
  "pycharm": {
   "stem_cell": {
    "cell_type": "raw",
    "metadata": {
     "collapsed": false
    },
    "source": []
   }
  }
 },
 "nbformat": 4,
 "nbformat_minor": 4
}
