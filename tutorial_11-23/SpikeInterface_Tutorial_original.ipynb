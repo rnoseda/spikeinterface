{
 "cells": [
  {
   "cell_type": "markdown",
   "metadata": {},
   "source": [
    "# SpikeInterface DEMO v0.95 -  DCBT school Nijmegen - Sep 2022\n",
    "\n",
    "\n",
    "In this demo, you will use SpikeInterface to analyze a 64-channel dataset from am \"ASSY-156-P1\" probe from Cambridge Neurotech. \n",
    "The dataset is kindly provided by [Samuel McKenzie's Lab](https://mckenzieneurolab.com/). \n",
    "\n",
    "The objective of this demo is to show all the functionalities of SpikeInterface on a real-world example."
   ]
  },
  {
   "cell_type": "markdown",
   "metadata": {},
   "source": [
    "# Table of contents\n",
    "\n",
    "* [0. Preparation](#preparation)\n",
    "* [1. Loading the data and probe information](#loading)\n",
    "* [2. Preprocessing](#preprocessing)\n",
    "* [3. Saving and loading SpikeInterface objects](#save-load)\n",
    "* [4. Data compression](#compression)\n",
    "* [5. Spike sorting](#spike-sorting)\n",
    "* [6. Extracting waveforms](#waveforms)\n",
    "* [7. Postprocessing](#postprocessing)\n",
    "* [8. Viewers](#viewers)\n",
    "* [9. Validation and curation](#curation)\n",
    "* [10. Spike sorting comparison](#comparison)\n",
    "* [11. Exporters](#exporters)\n",
    "* [12. Saving to NWB](#nwb)"
   ]
  },
  {
   "cell_type": "markdown",
   "metadata": {},
   "source": [
    "# 0. Preparation <a class=\"anchor\" id=\"preparation\"></a>"
   ]
  },
  {
   "cell_type": "markdown",
   "metadata": {},
   "source": [
    "### Download the ephys data\n",
    "\n",
    "First, we need to download the recording. Feel free to use your own recordings as well later on. \n",
    "\n",
    "The dataset is called `cambridge_data.dat` and can be found on this [drive link](https://drive.google.com/drive/folders/1eWPuOd8q4MjpVpwazkWygQJDzJnToN3i) (`practice_2_real_dataset` folder). Move the dataset in the current folder.\n",
    "The recording was performed with the \"ASSY-156-P1\" probe with 4 shanks of 16 channels (in total 64 channels).\n",
    "\n",
    "\n",
    "### Import the modules\n",
    "\n",
    "Let's now import the `spikeinterface` modules that we need:"
   ]
  },
  {
   "cell_type": "code",
   "execution_count": 1,
   "metadata": {},
   "outputs": [],
   "source": [
    "import spikeinterface as si\n",
    "import spikeinterface.extractors as se \n",
    "import spikeinterface.preprocessing as spre\n",
    "import spikeinterface.sorters as ss\n",
    "import spikeinterface.postprocessing as spost\n",
    "import spikeinterface.qualitymetrics as sqm\n",
    "import spikeinterface.comparison as sc\n",
    "import spikeinterface.exporters as sexp\n",
    "import spikeinterface.widgets as sw"
   ]
  },
  {
   "cell_type": "code",
   "execution_count": 2,
   "metadata": {},
   "outputs": [
    {
     "name": "stdout",
     "output_type": "stream",
     "text": [
      "SpikeInterface version: 0.96.0\n"
     ]
    }
   ],
   "source": [
    "print(f\"SpikeInterface version: {si.__version__}\")"
   ]
  },
  {
   "cell_type": "code",
   "execution_count": 3,
   "metadata": {},
   "outputs": [],
   "source": [
    "import matplotlib.pyplot as plt\n",
    "import numpy as np\n",
    "from pathlib import Path\n",
    "\n",
    "import spikeinterface_gui as sigui\n",
    "\n",
    "import warnings\n",
    "warnings.simplefilter(\"ignore\")\n",
    "\n",
    "%matplotlib widget"
   ]
  },
  {
   "cell_type": "markdown",
   "metadata": {},
   "source": [
    "# 1. Loading recording and probe information <a class=\"anchor\" id=\"loading\"></a>"
   ]
  },
  {
   "cell_type": "code",
   "execution_count": 6,
   "metadata": {},
   "outputs": [],
   "source": [
    "# file path\n",
    "base_folder = Path('.')\n",
    "recording_file = base_folder / 'data.bin'\n",
    "\n",
    "# parameters to load the bin/dat format\n",
    "num_channels = 64\n",
    "sampling_frequency = 30000\n",
    "gain_to_uV = 0.195\n",
    "offset_to_uV = 0\n",
    "dtype = \"int16\"\n",
    "time_axis = 1"
   ]
  },
  {
   "cell_type": "code",
   "execution_count": 7,
   "metadata": {},
   "outputs": [],
   "source": [
    "recording = si.read_binary(recording_file, num_chan=num_channels, sampling_frequency=sampling_frequency,\n",
    "                           dtype=dtype, gain_to_uV=gain_to_uV, offset_to_uV=offset_to_uV, \n",
    "                           time_axis=time_axis)"
   ]
  },
  {
   "cell_type": "markdown",
   "metadata": {},
   "source": [
    "The `read_binary()` function returns a `RecordingExtractor` object. We can print it to visualize some of its properties:"
   ]
  },
  {
   "cell_type": "code",
   "execution_count": 8,
   "metadata": {},
   "outputs": [
    {
     "data": {
      "text/plain": [
       "BinaryRecordingExtractor: 64 channels - 1 segments - 30.0kHz - 16.000s\n",
       "  file_paths: ['C:\\\\Users\\\\rodri\\\\Documents\\\\Bonsai-RN\\\\spikeinterface\\\\spiketutorials\\\\Official_Tutorial_SI_0.95_Sep2022\\\\data.bin']"
      ]
     },
     "execution_count": 8,
     "metadata": {},
     "output_type": "execute_result"
    }
   ],
   "source": [
    "recording"
   ]
  },
  {
   "cell_type": "markdown",
   "metadata": {
    "pycharm": {
     "name": "#%% md\n"
    }
   },
   "source": [
    "We can further `annotate` the recording to tell SI that it is not filtered yet. This will prevent further mistakes in the pipieline, such as attempting to extract waveforms from unfiltered data."
   ]
  },
  {
   "cell_type": "code",
   "execution_count": 9,
   "metadata": {},
   "outputs": [],
   "source": [
    "recording.annotate(is_filtered=False)"
   ]
  },
  {
   "cell_type": "markdown",
   "metadata": {
    "pycharm": {
     "name": "#%% md\n"
    }
   },
   "source": [
    "While the `read_binary()` function is part of the `core` module (as it's used internally by SI to store data in a convenient format), the `extractor` module allows you to load many file formats used in electrophysiology. \n",
    "\n",
    "The extractors available in SI are all loaded using the [NEO](https://neo.readthedocs.io/en/stable/) python package.\n",
    "\n",
    "We can access the full list of available extractors with:"
   ]
  },
  {
   "cell_type": "code",
   "execution_count": 10,
   "metadata": {},
   "outputs": [
    {
     "data": {
      "text/plain": [
       "{'binary': spikeinterface.core.binaryrecordingextractor.BinaryRecordingExtractor,\n",
       " 'numpy': spikeinterface.core.numpyextractors.NumpyRecording,\n",
       " 'shybrid': spikeinterface.extractors.shybridextractors.SHYBRIDRecordingExtractor,\n",
       " 'mda': spikeinterface.extractors.mdaextractors.MdaRecordingExtractor,\n",
       " 'nwb': spikeinterface.extractors.nwbextractors.NwbRecordingExtractor,\n",
       " 'cbin_ibl': spikeinterface.extractors.cbin_ibl.CompressedBinaryIblExtractor,\n",
       " 'mcsh5': spikeinterface.extractors.mcsh5extractors.MCSH5RecordingExtractor,\n",
       " 'alphaomega': spikeinterface.extractors.neoextractors.alphaomega.AlphaOmegaRecordingExtractor,\n",
       " 'axona': spikeinterface.extractors.neoextractors.axona.AxonaRecordingExtractor,\n",
       " 'biocam': spikeinterface.extractors.neoextractors.biocam.BiocamRecordingExtractor,\n",
       " 'blackrock': spikeinterface.extractors.neoextractors.blackrock.BlackrockRecordingExtractor,\n",
       " 'ced': spikeinterface.extractors.neoextractors.ced.CedRecordingExtractor,\n",
       " 'edf': spikeinterface.extractors.neoextractors.edf.EDFRecordingExtractor,\n",
       " 'intan': spikeinterface.extractors.neoextractors.intan.IntanRecordingExtractor,\n",
       " 'maxwell': spikeinterface.extractors.neoextractors.maxwell.MaxwellRecordingExtractor,\n",
       " 'mearec': spikeinterface.extractors.neoextractors.mearec.MEArecRecordingExtractor,\n",
       " 'mcsraw': spikeinterface.extractors.neoextractors.mcsraw.MCSRawRecordingExtractor,\n",
       " 'neuralynx': spikeinterface.extractors.neoextractors.neuralynx.NeuralynxRecordingExtractor,\n",
       " 'neuroscope': spikeinterface.extractors.neoextractors.neuroscope.NeuroScopeRecordingExtractor,\n",
       " 'nix': spikeinterface.extractors.neoextractors.nix.NixRecordingExtractor,\n",
       " 'openephys': spikeinterface.extractors.neoextractors.openephys.OpenEphysBinaryRecordingExtractor,\n",
       " 'openephyslegacy': spikeinterface.extractors.neoextractors.openephys.OpenEphysLegacyRecordingExtractor,\n",
       " 'plexon': spikeinterface.extractors.neoextractors.plexon.PlexonRecordingExtractor,\n",
       " 'spike2': spikeinterface.extractors.neoextractors.spike2.Spike2RecordingExtractor,\n",
       " 'spikegadgets': spikeinterface.extractors.neoextractors.spikegadgets.SpikeGadgetsRecordingExtractor,\n",
       " 'spikeglx': spikeinterface.extractors.neoextractors.spikeglx.SpikeGLXRecordingExtractor,\n",
       " 'tdt': spikeinterface.extractors.neoextractors.tdt.TdtRecordingExtractor}"
      ]
     },
     "execution_count": 10,
     "metadata": {},
     "output_type": "execute_result"
    }
   ],
   "source": [
    "se.recording_extractor_full_dict"
   ]
  },
  {
   "cell_type": "markdown",
   "metadata": {},
   "source": [
    "A `RecordingExtractor` object extracts information about channel ids, channel locations (if present), the sampling frequency of the recording, and the extracellular traces (when prompted). The `BinaryRecordingExtractor` is designed specifically for raw binary files datasets (.bin, .dat, .raw).\n",
    "\n",
    "Here we load information from the recording using the built-in functions from the RecordingExtractor"
   ]
  },
  {
   "cell_type": "code",
   "execution_count": 11,
   "metadata": {},
   "outputs": [
    {
     "name": "stdout",
     "output_type": "stream",
     "text": [
      "Channel ids: [ 0  1  2  3  4  5  6  7  8  9 10 11 12 13 14 15 16 17 18 19 20 21 22 23\n",
      " 24 25 26 27 28 29 30 31 32 33 34 35 36 37 38 39 40 41 42 43 44 45 46 47\n",
      " 48 49 50 51 52 53 54 55 56 57 58 59 60 61 62 63]\n",
      "Sampling frequency: 30000\n",
      "Number of channels: 64\n",
      "Number of segments: 1\n"
     ]
    }
   ],
   "source": [
    "channel_ids = recording.get_channel_ids()\n",
    "fs = recording.get_sampling_frequency()\n",
    "num_chan = recording.get_num_channels()\n",
    "num_segments = recording.get_num_segments()\n",
    "\n",
    "print(f'Channel ids: {channel_ids}')\n",
    "print(f'Sampling frequency: {fs}')\n",
    "print(f'Number of channels: {num_chan}')\n",
    "print(f\"Number of segments: {num_segments}\")"
   ]
  },
  {
   "cell_type": "markdown",
   "metadata": {},
   "source": [
    "SpikeInterface supports multi-segment recordings. A segment is a contiguous piece of data, and sometimes recordings can be made of multiple acquisitions, for examples a baseline, a stimulation phase, and a post recording. In such cases, the recording object will be made of multiple segments and be treated as such over the pipeline."
   ]
  },
  {
   "cell_type": "markdown",
   "metadata": {
    "pycharm": {
     "name": "#%% md\n"
    }
   },
   "source": [
    "The `get_traces()` function returns a TxN numpy array where N is the number of channel ids passed in (all channel ids are passed in by default) and T is the number of frames (determined by start_frame and end_frame)."
   ]
  },
  {
   "cell_type": "code",
   "execution_count": 12,
   "metadata": {
    "pycharm": {
     "name": "#%%\n"
    }
   },
   "outputs": [],
   "source": [
    "trace_snippet = recording.get_traces(start_frame=int(fs*0), end_frame=int(fs*2))"
   ]
  },
  {
   "cell_type": "code",
   "execution_count": 13,
   "metadata": {},
   "outputs": [
    {
     "name": "stdout",
     "output_type": "stream",
     "text": [
      "Traces shape: (60000, 64)\n"
     ]
    }
   ],
   "source": [
    "print('Traces shape:', trace_snippet.shape)"
   ]
  },
  {
   "cell_type": "markdown",
   "metadata": {
    "pycharm": {
     "name": "#%% md\n"
    }
   },
   "source": [
    "Before moving on with the analysis, we have to load the probe information. For this we will use the [ProbeInterface](https://probeinterface.readthedocs.io/en/main/index.html) package. \n",
    "\n",
    "ProbeInterface allows to easily create, manipulate, and visualize neural probes. Moreover, it comes with a wide range of IO functions to import and export existing formats. Finally, we have created a public library of commercial probes (https://gin.g-node.org/spikeinterface/probeinterface_library/) that can be retrieved with a single line of code.\n",
    "\n",
    "Let's import `probeinterface`, download the probe and plot it!"
   ]
  },
  {
   "cell_type": "code",
   "execution_count": 14,
   "metadata": {},
   "outputs": [],
   "source": [
    "import probeinterface as pi\n",
    "from probeinterface.plotting import plot_probe"
   ]
  },
  {
   "cell_type": "code",
   "execution_count": 15,
   "metadata": {
    "pycharm": {
     "name": "#%%\n"
    }
   },
   "outputs": [
    {
     "name": "stdout",
     "output_type": "stream",
     "text": [
      "cambridgeneurotech - ASSY-156-P-1 - 64ch - 4shanks\n"
     ]
    }
   ],
   "source": [
    "manufacturer = 'cambridgeneurotech'\n",
    "probe_name = 'ASSY-156-P-1'\n",
    "\n",
    "probe = pi.get_probe(manufacturer, probe_name)\n",
    "print(probe)"
   ]
  },
  {
   "cell_type": "markdown",
   "metadata": {
    "pycharm": {
     "name": "#%% md\n"
    }
   },
   "source": [
    "In most experiments, the neural probe has a connector, that is interfaced to an headstage, which in turn connects to the acquisition system. This *pathway* usually results in a channel remapping, which means that the order of the contacts on the probe is different than the order of the recorded traces.\n",
    "\n",
    "`probeinterface` provides a growing collection of common pathways that can be loaded directly to wire a device and apply the correct channel mapping:"
   ]
  },
  {
   "cell_type": "code",
   "execution_count": 16,
   "metadata": {
    "pycharm": {
     "name": "#%%\n"
    }
   },
   "outputs": [
    {
     "data": {
      "text/plain": [
       "['H32>RHD2132',\n",
       " 'ASSY-156>RHD2164',\n",
       " 'ASSY-116>RHD2132',\n",
       " 'ASSY-77>Adpt.A64-Om32_2x-sm-NN>RHD2164',\n",
       " 'ASSY-77>Adpt.A64-Om32_2x-sm-NN>two_RHD2132',\n",
       " 'cambridgeneurotech_mini-amp-64']"
      ]
     },
     "execution_count": 16,
     "metadata": {},
     "output_type": "execute_result"
    }
   ],
   "source": [
    "pi.get_available_pathways()"
   ]
  },
  {
   "cell_type": "code",
   "execution_count": 17,
   "metadata": {},
   "outputs": [],
   "source": [
    "probe.wiring_to_device('ASSY-156>RHD2164')"
   ]
  },
  {
   "cell_type": "code",
   "execution_count": 18,
   "metadata": {},
   "outputs": [
    {
     "data": {
      "text/plain": [
       "(<matplotlib.collections.PolyCollection at 0x244964b7f40>,\n",
       " <matplotlib.collections.PolyCollection at 0x2449648f640>)"
      ]
     },
     "execution_count": 18,
     "metadata": {},
     "output_type": "execute_result"
    },
    {
     "data": {
      "application/vnd.jupyter.widget-view+json": {
       "model_id": "d2109bde77354d3091e1e26d620b2e24",
       "version_major": 2,
       "version_minor": 0
      },
      "image/png": "[encoded data removed]",
      "text/html": [
       "\n",
       "            <div style=\"display: inline-block;\">\n",
       "                <div class=\"jupyter-widgets widget-label\" style=\"text-align: center;\">\n",
       "                    Figure\n",
       "                </div>\n",
       "                <img src='data:image/png;base64,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' width=640.0/>\n",
       "            </div>\n",
       "        "
      ],
      "text/plain": [
       "Canvas(toolbar=Toolbar(toolitems=[('Home', 'Reset original view', 'home', 'home'), ('Back', 'Back to previous …"
      ]
     },
     "metadata": {},
     "output_type": "display_data"
    }
   ],
   "source": [
    "fig, ax = plt.subplots()\n",
    "plot_probe(probe, ax=ax)"
   ]
  },
  {
   "cell_type": "code",
   "execution_count": 19,
   "metadata": {},
   "outputs": [
    {
     "data": {
      "text/plain": [
       "(-50.0, 300.0)"
      ]
     },
     "execution_count": 19,
     "metadata": {},
     "output_type": "execute_result"
    },
    {
     "data": {
      "application/vnd.jupyter.widget-view+json": {
       "model_id": "46f4e9ce3510403c997f46eeba007225",
       "version_major": 2,
       "version_minor": 0
      },
      "image/png": "[encoded data removed]",
      "text/html": [
       "\n",
       "            <div style=\"display: inline-block;\">\n",
       "                <div class=\"jupyter-widgets widget-label\" style=\"text-align: center;\">\n",
       "                    Figure\n",
       "                </div>\n",
       "                <img src='data:image/png;base64,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' width=640.0/>\n",
       "            </div>\n",
       "        "
      ],
      "text/plain": [
       "Canvas(toolbar=Toolbar(toolitems=[('Home', 'Reset original view', 'home', 'home'), ('Back', 'Back to previous …"
      ]
     },
     "metadata": {},
     "output_type": "display_data"
    }
   ],
   "source": [
    "fig, ax = plt.subplots()\n",
    "plot_probe(probe, with_contact_id=True, with_device_index=True, ax=ax)\n",
    "ax.set_xlim(-50, 300)"
   ]
  },
  {
   "cell_type": "markdown",
   "metadata": {},
   "source": [
    "The probe now has contact ids `id#` and device ids `dev#`! We can also visualize the probe information as a `pandas` dataframe:"
   ]
  },
  {
   "cell_type": "code",
   "execution_count": 20,
   "metadata": {},
   "outputs": [
    {
     "data": {
      "text/html": [
       "<div>\n",
       "<style scoped>\n",
       "    .dataframe tbody tr th:only-of-type {\n",
       "        vertical-align: middle;\n",
       "    }\n",
       "\n",
       "    .dataframe tbody tr th {\n",
       "        vertical-align: top;\n",
       "    }\n",
       "\n",
       "    .dataframe thead th {\n",
       "        text-align: right;\n",
       "    }\n",
       "</style>\n",
       "<table border=\"1\" class=\"dataframe\">\n",
       "  <thead>\n",
       "    <tr style=\"text-align: right;\">\n",
       "      <th></th>\n",
       "      <th>contact_ids</th>\n",
       "      <th>shank_ids</th>\n",
       "      <th>device_channel_indices</th>\n",
       "    </tr>\n",
       "  </thead>\n",
       "  <tbody>\n",
       "    <tr>\n",
       "      <th>0</th>\n",
       "      <td>1</td>\n",
       "      <td>2</td>\n",
       "      <td>47</td>\n",
       "    </tr>\n",
       "    <tr>\n",
       "      <th>1</th>\n",
       "      <td>2</td>\n",
       "      <td>2</td>\n",
       "      <td>46</td>\n",
       "    </tr>\n",
       "    <tr>\n",
       "      <th>2</th>\n",
       "      <td>3</td>\n",
       "      <td>2</td>\n",
       "      <td>45</td>\n",
       "    </tr>\n",
       "    <tr>\n",
       "      <th>3</th>\n",
       "      <td>4</td>\n",
       "      <td>2</td>\n",
       "      <td>44</td>\n",
       "    </tr>\n",
       "    <tr>\n",
       "      <th>4</th>\n",
       "      <td>5</td>\n",
       "      <td>3</td>\n",
       "      <td>43</td>\n",
       "    </tr>\n",
       "    <tr>\n",
       "      <th>...</th>\n",
       "      <td>...</td>\n",
       "      <td>...</td>\n",
       "      <td>...</td>\n",
       "    </tr>\n",
       "    <tr>\n",
       "      <th>59</th>\n",
       "      <td>60</td>\n",
       "      <td>3</td>\n",
       "      <td>52</td>\n",
       "    </tr>\n",
       "    <tr>\n",
       "      <th>60</th>\n",
       "      <td>61</td>\n",
       "      <td>3</td>\n",
       "      <td>51</td>\n",
       "    </tr>\n",
       "    <tr>\n",
       "      <th>61</th>\n",
       "      <td>62</td>\n",
       "      <td>3</td>\n",
       "      <td>50</td>\n",
       "    </tr>\n",
       "    <tr>\n",
       "      <th>62</th>\n",
       "      <td>63</td>\n",
       "      <td>3</td>\n",
       "      <td>49</td>\n",
       "    </tr>\n",
       "    <tr>\n",
       "      <th>63</th>\n",
       "      <td>64</td>\n",
       "      <td>3</td>\n",
       "      <td>48</td>\n",
       "    </tr>\n",
       "  </tbody>\n",
       "</table>\n",
       "<p>64 rows × 3 columns</p>\n",
       "</div>"
      ],
      "text/plain": [
       "   contact_ids shank_ids  device_channel_indices\n",
       "0            1         2                      47\n",
       "1            2         2                      46\n",
       "2            3         2                      45\n",
       "3            4         2                      44\n",
       "4            5         3                      43\n",
       "..         ...       ...                     ...\n",
       "59          60         3                      52\n",
       "60          61         3                      51\n",
       "61          62         3                      50\n",
       "62          63         3                      49\n",
       "63          64         3                      48\n",
       "\n",
       "[64 rows x 3 columns]"
      ]
     },
     "execution_count": 20,
     "metadata": {},
     "output_type": "execute_result"
    }
   ],
   "source": [
    "probe.to_dataframe(complete=True).loc[:, [\"contact_ids\", \"shank_ids\", \"device_channel_indices\"]]"
   ]
  },
  {
   "cell_type": "markdown",
   "metadata": {
    "pycharm": {
     "name": "#%% md\n"
    }
   },
   "source": [
    "Note that also the `shank_id` is loaded with the probe.\n",
    "\n",
    "A `probeinterface` object can be loaded directly to a SI recording object:"
   ]
  },
  {
   "cell_type": "code",
   "execution_count": 21,
   "metadata": {},
   "outputs": [],
   "source": [
    "recording_prb = recording.set_probe(probe, group_mode=\"by_shank\")"
   ]
  },
  {
   "cell_type": "markdown",
   "metadata": {},
   "source": [
    "When loading the probe, the device indices (and all the other contact properties) are automatically sorted:"
   ]
  },
  {
   "cell_type": "code",
   "execution_count": 22,
   "metadata": {},
   "outputs": [
    {
     "data": {
      "text/html": [
       "<div>\n",
       "<style scoped>\n",
       "    .dataframe tbody tr th:only-of-type {\n",
       "        vertical-align: middle;\n",
       "    }\n",
       "\n",
       "    .dataframe tbody tr th {\n",
       "        vertical-align: top;\n",
       "    }\n",
       "\n",
       "    .dataframe thead th {\n",
       "        text-align: right;\n",
       "    }\n",
       "</style>\n",
       "<table border=\"1\" class=\"dataframe\">\n",
       "  <thead>\n",
       "    <tr style=\"text-align: right;\">\n",
       "      <th></th>\n",
       "      <th>contact_ids</th>\n",
       "      <th>shank_ids</th>\n",
       "      <th>device_channel_indices</th>\n",
       "    </tr>\n",
       "  </thead>\n",
       "  <tbody>\n",
       "    <tr>\n",
       "      <th>0</th>\n",
       "      <td>48</td>\n",
       "      <td>1</td>\n",
       "      <td>0</td>\n",
       "    </tr>\n",
       "    <tr>\n",
       "      <th>1</th>\n",
       "      <td>47</td>\n",
       "      <td>1</td>\n",
       "      <td>1</td>\n",
       "    </tr>\n",
       "    <tr>\n",
       "      <th>2</th>\n",
       "      <td>46</td>\n",
       "      <td>1</td>\n",
       "      <td>2</td>\n",
       "    </tr>\n",
       "    <tr>\n",
       "      <th>3</th>\n",
       "      <td>45</td>\n",
       "      <td>1</td>\n",
       "      <td>3</td>\n",
       "    </tr>\n",
       "    <tr>\n",
       "      <th>4</th>\n",
       "      <td>44</td>\n",
       "      <td>1</td>\n",
       "      <td>4</td>\n",
       "    </tr>\n",
       "    <tr>\n",
       "      <th>...</th>\n",
       "      <td>...</td>\n",
       "      <td>...</td>\n",
       "      <td>...</td>\n",
       "    </tr>\n",
       "    <tr>\n",
       "      <th>59</th>\n",
       "      <td>53</td>\n",
       "      <td>2</td>\n",
       "      <td>59</td>\n",
       "    </tr>\n",
       "    <tr>\n",
       "      <th>60</th>\n",
       "      <td>52</td>\n",
       "      <td>2</td>\n",
       "      <td>60</td>\n",
       "    </tr>\n",
       "    <tr>\n",
       "      <th>61</th>\n",
       "      <td>51</td>\n",
       "      <td>2</td>\n",
       "      <td>61</td>\n",
       "    </tr>\n",
       "    <tr>\n",
       "      <th>62</th>\n",
       "      <td>50</td>\n",
       "      <td>1</td>\n",
       "      <td>62</td>\n",
       "    </tr>\n",
       "    <tr>\n",
       "      <th>63</th>\n",
       "      <td>49</td>\n",
       "      <td>2</td>\n",
       "      <td>63</td>\n",
       "    </tr>\n",
       "  </tbody>\n",
       "</table>\n",
       "<p>64 rows × 3 columns</p>\n",
       "</div>"
      ],
      "text/plain": [
       "   contact_ids shank_ids  device_channel_indices\n",
       "0           48         1                       0\n",
       "1           47         1                       1\n",
       "2           46         1                       2\n",
       "3           45         1                       3\n",
       "4           44         1                       4\n",
       "..         ...       ...                     ...\n",
       "59          53         2                      59\n",
       "60          52         2                      60\n",
       "61          51         2                      61\n",
       "62          50         1                      62\n",
       "63          49         2                      63\n",
       "\n",
       "[64 rows x 3 columns]"
      ]
     },
     "execution_count": 22,
     "metadata": {},
     "output_type": "execute_result"
    }
   ],
   "source": [
    "probe_rec = recording_prb.get_probe()\n",
    "probe_rec.to_dataframe(complete=True).loc[:, [\"contact_ids\", \"shank_ids\", \"device_channel_indices\"]]"
   ]
  },
  {
   "cell_type": "code",
   "execution_count": 23,
   "metadata": {
    "pycharm": {
     "name": "#%%\n"
    }
   },
   "outputs": [
    {
     "name": "stdout",
     "output_type": "stream",
     "text": [
      "Channels after loading the probe file: \n",
      "[ 0  1  2  3  4  5  6  7  8  9 10 11 12 13 14 15 16 17 18 19 20 21 22 23\n",
      " 24 25 26 27 28 29 30 31 32 33 34 35 36 37 38 39 40 41 42 43 44 45 46 47\n",
      " 48 49 50 51 52 53 54 55 56 57 58 59 60 61 62 63]\n",
      "Channel groups after loading the probe file: \n",
      "[1 1 1 1 1 1 1 0 0 0 0 0 0 0 0 0 1 2 1 1 0 0 0 0 0 0 1 0 1 1 1 1 2 2 2 2 2\n",
      " 3 3 3 3 3 3 3 2 2 2 2 3 3 3 3 3 3 3 3 2 3 2 2 2 2 1 2]\n"
     ]
    }
   ],
   "source": [
    "print(f'Channels after loading the probe file: \\n{recording_prb.get_channel_ids()}')\n",
    "print(f'Channel groups after loading the probe file: \\n{recording_prb.get_channel_groups()}')"
   ]
  },
  {
   "cell_type": "markdown",
   "metadata": {},
   "source": [
    "The `widgets` module includes several convenient plotting functions that can be used to explore the data:"
   ]
  },
  {
   "cell_type": "code",
   "execution_count": 27,
   "metadata": {
    "scrolled": false
   },
   "outputs": [
    {
     "data": {
      "application/vnd.jupyter.widget-view+json": {
       "model_id": "e1707337333a45788791df3ca47256bb",
       "version_major": 2,
       "version_minor": 0
      },
      "text/plain": [
       "AppLayout(children=(VBox(children=(FloatSlider(value=0.0, continuous_update=False, description='time:', layout…"
      ]
     },
     "metadata": {},
     "output_type": "display_data"
    }
   ],
   "source": [
    "w_ts = sw.plot_timeseries(recording_prb, order_channel_by_depth=True, backend=\"ipywidgets\",\n",
    "                          clim=(-1, 1000))"
   ]
  },
  {
   "cell_type": "markdown",
   "metadata": {
    "pycharm": {
     "name": "#%% md\n"
    }
   },
   "source": [
    "### Properties \n",
    "\n",
    "`RecordingExtractor` object can have *properties*. A property is a piece of information attached to a channel, e.g. group or location.\n",
    "\n",
    "Similarly, for `SortingExtractor` objects (that we'll cover later), anything related to a unit can be stored as a property. \n",
    "\n",
    "We can check which properties are in the extractor as follows:"
   ]
  },
  {
   "cell_type": "code",
   "execution_count": 28,
   "metadata": {
    "pycharm": {
     "name": "#%%\n"
    }
   },
   "outputs": [
    {
     "name": "stdout",
     "output_type": "stream",
     "text": [
      "Properties before loading the probe: ['gain_to_uV', 'offset_to_uV']\n"
     ]
    }
   ],
   "source": [
    "print(\"Properties before loading the probe:\", list(recording.get_property_keys()))"
   ]
  },
  {
   "cell_type": "code",
   "execution_count": 29,
   "metadata": {},
   "outputs": [
    {
     "name": "stdout",
     "output_type": "stream",
     "text": [
      "Properties after loading the probe: ['gain_to_uV', 'offset_to_uV', 'contact_vector', 'location', 'group']\n"
     ]
    }
   ],
   "source": [
    "print(\"Properties after loading the probe:\", list(recording_prb.get_property_keys()))"
   ]
  },
  {
   "cell_type": "markdown",
   "metadata": {
    "pycharm": {
     "name": "#%% md\n"
    }
   },
   "source": [
    "After loading the probe we now have some new properties: `contact_vector`, `location`, and `group`.\n",
    "\n",
    "Let's add some new properties! \n",
    "The first 32 channels are in the CA1 area, the second 32 are in the CA3 area:"
   ]
  },
  {
   "cell_type": "code",
   "execution_count": 30,
   "metadata": {
    "pycharm": {
     "name": "#%%\n"
    }
   },
   "outputs": [
    {
     "name": "stdout",
     "output_type": "stream",
     "text": [
      "['CA1', 'CA1', 'CA1', 'CA1', 'CA1', 'CA1', 'CA1', 'CA1', 'CA1', 'CA1', 'CA1', 'CA1', 'CA1', 'CA1', 'CA1', 'CA1', 'CA1', 'CA1', 'CA1', 'CA1', 'CA1', 'CA1', 'CA1', 'CA1', 'CA1', 'CA1', 'CA1', 'CA1', 'CA1', 'CA1', 'CA1', 'CA1', 'CA3', 'CA3', 'CA3', 'CA3', 'CA3', 'CA3', 'CA3', 'CA3', 'CA3', 'CA3', 'CA3', 'CA3', 'CA3', 'CA3', 'CA3', 'CA3', 'CA3', 'CA3', 'CA3', 'CA3', 'CA3', 'CA3', 'CA3', 'CA3', 'CA3', 'CA3', 'CA3', 'CA3', 'CA3', 'CA3', 'CA3', 'CA3']\n"
     ]
    }
   ],
   "source": [
    "brain_area_property_values = ['CA1']*32 + ['CA3']*32\n",
    "print(brain_area_property_values)"
   ]
  },
  {
   "cell_type": "code",
   "execution_count": 31,
   "metadata": {},
   "outputs": [],
   "source": [
    "recording_prb.set_property(key='brain_area', values=brain_area_property_values)"
   ]
  },
  {
   "cell_type": "markdown",
   "metadata": {
    "pycharm": {
     "name": "#%% md\n"
    }
   },
   "source": [
    "We can also specify a property on a subset of channels. In this case, the non-specified channels will be filled empty values:"
   ]
  },
  {
   "cell_type": "code",
   "execution_count": 32,
   "metadata": {
    "pycharm": {
     "name": "#%%\n"
    }
   },
   "outputs": [],
   "source": [
    "recording_prb.set_property(key='quality', values=[\"good\"]*(recording_prb.get_num_channels() - 3),\n",
    "                           ids=recording_prb.get_channel_ids()[:-3])"
   ]
  },
  {
   "cell_type": "code",
   "execution_count": 33,
   "metadata": {},
   "outputs": [
    {
     "data": {
      "text/plain": [
       "array(['good', 'good', 'good', 'good', 'good', 'good', 'good', 'good',\n",
       "       'good', 'good', 'good', 'good', 'good', 'good', 'good', 'good',\n",
       "       'good', 'good', 'good', 'good', 'good', 'good', 'good', 'good',\n",
       "       'good', 'good', 'good', 'good', 'good', 'good', 'good', 'good',\n",
       "       'good', 'good', 'good', 'good', 'good', 'good', 'good', 'good',\n",
       "       'good', 'good', 'good', 'good', 'good', 'good', 'good', 'good',\n",
       "       'good', 'good', 'good', 'good', 'good', 'good', 'good', 'good',\n",
       "       'good', 'good', 'good', 'good', 'good', '', '', ''], dtype='<U4')"
      ]
     },
     "execution_count": 33,
     "metadata": {},
     "output_type": "execute_result"
    }
   ],
   "source": [
    "recording_prb.get_property(\"quality\")"
   ]
  },
  {
   "cell_type": "code",
   "execution_count": 34,
   "metadata": {},
   "outputs": [
    {
     "name": "stdout",
     "output_type": "stream",
     "text": [
      "Properties after adding custom properties: ['gain_to_uV', 'offset_to_uV', 'contact_vector', 'location', 'group', 'brain_area', 'quality']\n"
     ]
    }
   ],
   "source": [
    "print(\"Properties after adding custom properties:\", list(recording_prb.get_property_keys()))"
   ]
  },
  {
   "cell_type": "markdown",
   "metadata": {},
   "source": [
    "**NOTE:** Internally the properties is jus a dictionary attached to the recording that is accessible as `_properties`"
   ]
  },
  {
   "cell_type": "code",
   "execution_count": 35,
   "metadata": {},
   "outputs": [
    {
     "name": "stdout",
     "output_type": "stream",
     "text": [
      "dict_keys(['gain_to_uV', 'offset_to_uV', 'contact_vector', 'location', 'group', 'brain_area', 'quality'])\n"
     ]
    }
   ],
   "source": [
    "print(recording_prb._properties.keys())"
   ]
  },
  {
   "cell_type": "markdown",
   "metadata": {
    "pycharm": {
     "name": "#%% md\n"
    }
   },
   "source": [
    "### Annotations"
   ]
  },
  {
   "cell_type": "markdown",
   "metadata": {
    "pycharm": {
     "name": "#%% md\n"
    }
   },
   "source": [
    "*Annotations* can be attached to any object and they can carry any information related to the recording or sorting objects.\n",
    "\n",
    "Let's add an annotation about this tutorial:"
   ]
  },
  {
   "cell_type": "code",
   "execution_count": 36,
   "metadata": {
    "pycharm": {
     "name": "#%%\n"
    }
   },
   "outputs": [],
   "source": [
    "recording_prb.annotate(description=\"Dataset for SI 0.93 tutorial\")"
   ]
  },
  {
   "cell_type": "code",
   "execution_count": 37,
   "metadata": {},
   "outputs": [
    {
     "name": "stdout",
     "output_type": "stream",
     "text": [
      "['is_filtered', 'probe_0_planar_contour', 'description']\n"
     ]
    }
   ],
   "source": [
    "print(recording_prb.get_annotation_keys())"
   ]
  },
  {
   "cell_type": "markdown",
   "metadata": {},
   "source": [
    "# 2. Preprocessing <a class=\"anchor\" id=\"preprocessing\"></a>\n",
    "\n",
    "\n",
    "Now that the probe information is loaded we can do some preprocessing using `preprocessing` module.\n",
    "\n",
    "We can filter the recordings, rereference the signals to remove noise, discard noisy channels, whiten the data, remove stimulation artifacts, etc. (more info [here](https://spiketoolkit.readthedocs.io/en/latest/preprocessing_example.html)).\n",
    "\n",
    "For this notebook, let's filter the recordings and apply common median reference (CMR). All preprocessing modules return new `RecordingExtractor` objects that apply the underlying preprocessing function. This allows users to access the preprocessed data in the same way as the raw data.\n",
    "\n",
    "We will focus only on the first shank (grouo `0`) for the following analysis:"
   ]
  },
  {
   "cell_type": "code",
   "execution_count": 38,
   "metadata": {
    "pycharm": {
     "name": "#%%\n"
    }
   },
   "outputs": [
    {
     "name": "stdout",
     "output_type": "stream",
     "text": [
      "{0: ChannelSliceRecording: 16 channels - 1 segments - 30.0kHz - 16.000s, 1: ChannelSliceRecording: 16 channels - 1 segments - 30.0kHz - 16.000s, 2: ChannelSliceRecording: 16 channels - 1 segments - 30.0kHz - 16.000s, 3: ChannelSliceRecording: 16 channels - 1 segments - 30.0kHz - 16.000s}\n"
     ]
    }
   ],
   "source": [
    "recordings_by_group = recording_prb.split_by(\"group\")\n",
    "print(recordings_by_group)"
   ]
  },
  {
   "cell_type": "code",
   "execution_count": 39,
   "metadata": {},
   "outputs": [],
   "source": [
    "recording_to_process = recordings_by_group[0]"
   ]
  },
  {
   "cell_type": "code",
   "execution_count": 40,
   "metadata": {},
   "outputs": [
    {
     "data": {
      "text/plain": [
       "16"
      ]
     },
     "execution_count": 40,
     "metadata": {},
     "output_type": "execute_result"
    }
   ],
   "source": [
    "recording_to_process.get_num_channels()"
   ]
  },
  {
   "cell_type": "markdown",
   "metadata": {
    "pycharm": {
     "name": "#%% md\n"
    }
   },
   "source": [
    "Below, we bandpass filter the recording and apply common median reference to the original recording:"
   ]
  },
  {
   "cell_type": "code",
   "execution_count": 41,
   "metadata": {
    "pycharm": {
     "name": "#%%\n"
    }
   },
   "outputs": [],
   "source": [
    "recording_f = spre.bandpass_filter(recording_to_process, freq_min=300, freq_max=6000)"
   ]
  },
  {
   "cell_type": "markdown",
   "metadata": {
    "pycharm": {
     "name": "#%% md\n"
    }
   },
   "source": [
    "We can see that the after filtering we can observe spiking activity on many channels! We can also apply other preprocessing steps to further increase the quality of the recording. \n",
    "\n",
    "For examplem let's apply Common Median Reference (CMR)"
   ]
  },
  {
   "cell_type": "code",
   "execution_count": 42,
   "metadata": {},
   "outputs": [],
   "source": [
    "recording_cmr = spre.common_reference(recording_f, reference='global', operator='median')"
   ]
  },
  {
   "cell_type": "markdown",
   "metadata": {},
   "source": [
    "We can plot the traces after applying CMR:"
   ]
  },
  {
   "cell_type": "code",
   "execution_count": 43,
   "metadata": {},
   "outputs": [
    {
     "data": {
      "application/vnd.jupyter.widget-view+json": {
       "model_id": "74b4ac79a5874f4a88d92db8fa973e18",
       "version_major": 2,
       "version_minor": 0
      },
      "text/plain": [
       "AppLayout(children=(VBox(children=(FloatSlider(value=0.0, continuous_update=False, description='time:', layout…"
      ]
     },
     "metadata": {},
     "output_type": "display_data"
    }
   ],
   "source": [
    "w = sw.plot_timeseries({\"raw\": recording_to_process, \"filt\": recording_f, \"common\": recording_cmr},\n",
    "                        clim=(-1000, 1000), order_channel_by_depth=True,\n",
    "                        backend=\"ipywidgets\")"
   ]
  },
  {
   "cell_type": "markdown",
   "metadata": {},
   "source": [
    "## Take only 5 min. for demo"
   ]
  },
  {
   "cell_type": "markdown",
   "metadata": {
    "pycharm": {
     "name": "#%% md\n"
    }
   },
   "source": [
    "Since we are going to spike sort the data, let's first cut out a 5-minute recording, to speed up computations.\n",
    "\n",
    "We can easily do so with the `frame_slice()` function:"
   ]
  },
  {
   "cell_type": "code",
   "execution_count": 48,
   "metadata": {
    "pycharm": {
     "name": "#%%\n"
    }
   },
   "outputs": [
    {
     "data": {
      "text/plain": [
       "FrameSliceRecording: 16 channels - 1 segments - 30.0kHz - 10.000s"
      ]
     },
     "execution_count": 48,
     "metadata": {},
     "output_type": "execute_result"
    }
   ],
   "source": [
    "fs = recording_cmr.get_sampling_frequency()\n",
    "recording_sub = recording_cmr.frame_slice(start_frame=0*fs, end_frame=10*fs)\n",
    "recording_sub"
   ]
  },
  {
   "cell_type": "markdown",
   "metadata": {
    "pycharm": {
     "name": "#%% md\n"
    }
   },
   "source": [
    "# 3. Saving and loading SpikeInterface objects <a class=\"anchor\" id=\"save-load\"></a>\n",
    "\n",
    "All operations in SpikeInterface are *lazy*, meaning that they are not performed if not needed. This is why the creation of our filter recording was almost instantaneous. However, to speed up further processing, we might want to **save** it to a file and perform those operations (eg. filters, CMR, etc.) at once. "
   ]
  },
  {
   "cell_type": "code",
   "execution_count": 49,
   "metadata": {},
   "outputs": [],
   "source": [
    "job_kwargs = dict(n_jobs=4, chunk_duration=\"1s\", progress_bar=True)"
   ]
  },
  {
   "cell_type": "code",
   "execution_count": 50,
   "metadata": {
    "pycharm": {
     "name": "#%%\n"
    }
   },
   "outputs": [
    {
     "name": "stdout",
     "output_type": "stream",
     "text": [
      "write_binary_recording with n_jobs = 4 and chunk_size = 30000\n"
     ]
    },
    {
     "data": {
      "application/vnd.jupyter.widget-view+json": {
       "model_id": "bb7a834c91da4627b959fe2d8ed59026",
       "version_major": 2,
       "version_minor": 0
      },
      "text/plain": [
       "write_binary_recording:   0%|          | 0/10 [00:00<?, ?it/s]"
      ]
     },
     "metadata": {},
     "output_type": "display_data"
    }
   ],
   "source": [
    "if (base_folder / \"preprocessed\").is_dir():\n",
    "    recording_saved = si.load_extractor(base_folder / \"preprocessed\")\n",
    "else:\n",
    "    recording_saved = recording_sub.save(folder=base_folder / \"preprocessed\", **job_kwargs)"
   ]
  },
  {
   "cell_type": "markdown",
   "metadata": {
    "pycharm": {
     "name": "#%% md\n"
    }
   },
   "source": [
    "If we inspect the `preprocessed` folder, we find that a few files have been saved. Let's take a look at what they are:"
   ]
  },
  {
   "cell_type": "code",
   "execution_count": 54,
   "metadata": {},
   "outputs": [
    {
     "data": {
      "text/plain": [
       "BinaryFolderRecording: 16 channels - 1 segments - 30.0kHz - 10.000s"
      ]
     },
     "execution_count": 54,
     "metadata": {},
     "output_type": "execute_result"
    }
   ],
   "source": [
    "recording_saved"
   ]
  },
  {
   "cell_type": "code",
   "execution_count": 58,
   "metadata": {
    "pycharm": {
     "name": "#%%\n"
    },
    "scrolled": false
   },
   "outputs": [
    {
     "name": "stdout",
     "output_type": "stream",
     "text": [
      " Volume in drive C is Windows\n",
      " Volume Serial Number is 12D8-CF75\n",
      "\n",
      " Directory of C:\\Users\\rodri\\Documents\\Bonsai-RN\\spikeinterface\\spiketutorials\\Official_Tutorial_SI_0.95_Sep2022\n",
      "\n",
      "10/23/2022  02:37 PM    <DIR>          .\n",
      "10/23/2022  02:37 PM    <DIR>          ..\n",
      "10/23/2022  01:59 PM    <DIR>          .ipynb_checkpoints\n",
      "07/07/2022  02:48 PM        61,440,000 data.bin\n",
      "10/23/2022  01:37 PM               607 environment.yml\n",
      "10/23/2022  02:31 PM    <DIR>          preprocessed\n",
      "10/23/2022  01:37 PM             1,772 README.md\n",
      "10/23/2022  01:37 PM               152 requirements.txt\n",
      "10/23/2022  02:37 PM           301,260 SpikeInterface_Tutorial.ipynb\n",
      "               5 File(s)     61,743,791 bytes\n",
      "               4 Dir(s)  1,290,619,465,728 bytes free\n"
     ]
    }
   ],
   "source": [
    "!ls {base_folder}/preprocessed"
   ]
  },
  {
   "cell_type": "markdown",
   "metadata": {
    "pycharm": {
     "name": "#%% md\n"
    }
   },
   "source": [
    "The `traces_cached_seg0.raw` contains the processed raw data, while the `.json` files include information on how to reload the binary file. The `provenance.json` includes the information of the recording before saving it to a binary file, and the `probe.json` represents the probe object. "
   ]
  },
  {
   "cell_type": "markdown",
   "metadata": {
    "pycharm": {
     "name": "#%% md\n"
    }
   },
   "source": [
    "The `save` returns a new *cached* recording that has all the previously loaded information:"
   ]
  },
  {
   "cell_type": "code",
   "execution_count": 59,
   "metadata": {
    "pycharm": {
     "name": "#%%\n"
    }
   },
   "outputs": [
    {
     "name": "stdout",
     "output_type": "stream",
     "text": [
      "Cached channels ids: [ 7  8  9 10 11 12 13 14 15 20 21 22 23 24 25 27]\n",
      "Channel groups after caching: [0 0 0 0 0 0 0 0 0 0 0 0 0 0 0 0]\n"
     ]
    }
   ],
   "source": [
    "print(f'Cached channels ids: {recording_saved.get_channel_ids()}')\n",
    "print(f'Channel groups after caching: {recording_saved.get_channel_groups()}')"
   ]
  },
  {
   "cell_type": "markdown",
   "metadata": {
    "pycharm": {
     "name": "#%% md\n"
    }
   },
   "source": [
    "After saving the SI object, we can easily load it back in a new session:"
   ]
  },
  {
   "cell_type": "code",
   "execution_count": 60,
   "metadata": {
    "pycharm": {
     "name": "#%%\n"
    }
   },
   "outputs": [],
   "source": [
    "recording_loaded = si.load_extractor(base_folder/\"preprocessed\")"
   ]
  },
  {
   "cell_type": "code",
   "execution_count": 61,
   "metadata": {},
   "outputs": [
    {
     "name": "stdout",
     "output_type": "stream",
     "text": [
      "Loaded channels ids: [ 7  8  9 10 11 12 13 14 15 20 21 22 23 24 25 27]\n",
      "Channel groups after loading: [0 0 0 0 0 0 0 0 0 0 0 0 0 0 0 0]\n"
     ]
    }
   ],
   "source": [
    "print(f'Loaded channels ids: {recording_loaded.get_channel_ids()}')\n",
    "print(f'Channel groups after loading: {recording_loaded.get_channel_groups()}')"
   ]
  },
  {
   "cell_type": "markdown",
   "metadata": {},
   "source": [
    "We can double check that the traces are exactly the same as the `recording_saved` that we saved:"
   ]
  },
  {
   "cell_type": "code",
   "execution_count": 62,
   "metadata": {},
   "outputs": [
    {
     "data": {
      "text/plain": [
       "Text(0.5, 1.0, 'Loaded')"
      ]
     },
     "execution_count": 62,
     "metadata": {},
     "output_type": "execute_result"
    },
    {
     "data": {
      "application/vnd.jupyter.widget-view+json": {
       "model_id": "69ec14a8ea3f41e2914ae432efbc81d1",
       "version_major": 2,
       "version_minor": 0
      },
      "image/png": "[encoded data removed]",
      "text/html": [
       "\n",
       "            <div style=\"display: inline-block;\">\n",
       "                <div class=\"jupyter-widgets widget-label\" style=\"text-align: center;\">\n",
       "                    Figure\n",
       "                </div>\n",
       "                <img src='data:image/png;base64,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' width=640.0/>\n",
       "            </div>\n",
       "        "
      ],
      "text/plain": [
       "Canvas(toolbar=Toolbar(toolitems=[('Home', 'Reset original view', 'home', 'home'), ('Back', 'Back to previous …"
      ]
     },
     "metadata": {},
     "output_type": "display_data"
    }
   ],
   "source": [
    "fig, axs = plt.subplots(ncols=2)\n",
    "w_saved = sw.plot_timeseries(recording_saved, ax=axs[0])\n",
    "w_loaded = sw.plot_timeseries(recording_loaded, ax=axs[1])\n",
    "axs[0].set_title(\"Saved\")\n",
    "axs[1].set_title(\"Loaded\")"
   ]
  },
  {
   "cell_type": "markdown",
   "metadata": {
    "pycharm": {
     "name": "#%% md\n"
    }
   },
   "source": [
    "**IMPORTANT**: the same saving mechanisms are available also for all SortingExtractor"
   ]
  },
  {
   "cell_type": "markdown",
   "metadata": {},
   "source": [
    "# 4. Data compression <a class=\"anchor\" id=\"compression\"></a>\n",
    "\n",
    "Electrophysiology raw data is large! Especially for HD-probes (e.g. Neuropixels data) the acquisition rate can be as high as ~100 GB/hour. \n",
    "Lossless data compression can save up storage space (and storage costs!).\n",
    "\n",
    "In SpikeInterface, we can use the [Zarr](https://zarr.readthedocs.io/en/stable/) framework to gain access to multiple compression options.\n",
    "\n",
    "The `numcodecs` package is also part of the `Zarr` framework and it contains the low-level compressors."
   ]
  },
  {
   "cell_type": "code",
   "execution_count": 63,
   "metadata": {},
   "outputs": [],
   "source": [
    "import numcodecs"
   ]
  },
  {
   "cell_type": "markdown",
   "metadata": {},
   "source": [
    "[Z-standard](http://facebook.github.io/zstd/) provides good compression for electrophysiology data. \n",
    "We'll also use the [Blosc](https://www.blosc.org/) meta-compressor to \"shuffle\" the data befor compression an improve compression performance:"
   ]
  },
  {
   "cell_type": "code",
   "execution_count": 64,
   "metadata": {},
   "outputs": [],
   "source": [
    "zstd_compressor = numcodecs.Blosc(cname=\"zstd\", clevel=5, shuffle=numcodecs.Blosc.BITSHUFFLE)"
   ]
  },
  {
   "cell_type": "code",
   "execution_count": 65,
   "metadata": {},
   "outputs": [
    {
     "name": "stdout",
     "output_type": "stream",
     "text": [
      "write_zarr_recording with n_jobs = 4 and chunk_size = 30000\n"
     ]
    },
    {
     "data": {
      "application/vnd.jupyter.widget-view+json": {
       "model_id": "eaed44fe2900419ebc9656821d2d9e99",
       "version_major": 2,
       "version_minor": 0
      },
      "text/plain": [
       "write_zarr_recording:   0%|          | 0/16 [00:00<?, ?it/s]"
      ]
     },
     "metadata": {},
     "output_type": "display_data"
    }
   ],
   "source": [
    "recording_compressed = recording.save(format=\"zarr\", zarr_path=\"recording_compressed.zarr\",\n",
    "                                      compressor=zstd_compressor, **job_kwargs)"
   ]
  },
  {
   "cell_type": "markdown",
   "metadata": {},
   "source": [
    "How much did we compress? The compression performance is usually reported in terms of compression ratio (CR):\n",
    "\n",
    "$$CR = \\frac{n\\_bytes\\_stored}{n\\_bytes}$$"
   ]
  },
  {
   "cell_type": "code",
   "execution_count": 66,
   "metadata": {},
   "outputs": [
    {
     "name": "stdout",
     "output_type": "stream",
     "text": [
      "Z-standard compression achieves a CR of 1.122247800972421 (file size: 89.107%)\n"
     ]
    }
   ],
   "source": [
    "cr = recording_compressed.get_annotation(\"compression_ratio\")\n",
    "\n",
    "print(f\"Z-standard compression achieves a CR of {cr} (file size: {np.round(1 / cr * 100, 3)}%)\")"
   ]
  },
  {
   "cell_type": "markdown",
   "metadata": {},
   "source": [
    "Not bad! Note that compression is a fine art and there are many other compressors and strategies that can boost it. It also strongly depends on the input data."
   ]
  },
  {
   "cell_type": "markdown",
   "metadata": {},
   "source": [
    "# 5. Spike sorting <a class=\"anchor\" id=\"spike-sorting\"></a>\n",
    "\n",
    "We can now run spike sorting on the above recording. We will use different spike sorters for this demonstration, to show how easy SpikeInterface makes it easy to interchengably run different sorters :)\n",
    "\n",
    "Let's first check the installed sorters in `SpikeInterface` to see if `tridesclous` is available. Then we can then check the `tridesclous` default parameters.\n",
    "We will sort the bandpass cached filtered recording the `recording_saved` object."
   ]
  },
  {
   "cell_type": "code",
   "execution_count": 67,
   "metadata": {},
   "outputs": [
    {
     "name": "stdout",
     "output_type": "stream",
     "text": [
      "RUNNING SHELL SCRIPT: C:\\Users\\rodri\\AppData\\Local\\Temp\\tmp_shellscript_x9hl5y9\\script.bat\n",
      "RUNNING SHELL SCRIPT: C:\\Users\\rodri\\AppData\\Local\\Temp\\tmp_shellscript5vtuqh6_\\script.bat\n",
      "RUNNING SHELL SCRIPT: C:\\Users\\rodri\\AppData\\Local\\Temp\\tmp_shellscripthogannye\\script.bat\n",
      "RUNNING SHELL SCRIPT: C:\\Users\\rodri\\AppData\\Local\\Temp\\tmp_shellscriptyq300dgq\\script.bat\n",
      "RUNNING SHELL SCRIPT: C:\\Users\\rodri\\AppData\\Local\\Temp\\tmp_shellscriptgdd8pgrf\\script.bat\n",
      "RUNNING SHELL SCRIPT: C:\\Users\\rodri\\AppData\\Local\\Temp\\tmp_shellscript7fyjnxi3\\script.bat\n",
      "RUNNING SHELL SCRIPT: C:\\Users\\rodri\\AppData\\Local\\Temp\\tmp_shellscript3ilsmeh5\\script.bat\n",
      "RUNNING SHELL SCRIPT: C:\\Users\\rodri\\AppData\\Local\\Temp\\tmp_shellscript3e8fygrt\\script.bat\n"
     ]
    },
    {
     "data": {
      "text/plain": [
       "['spykingcircus2', 'tridesclous', 'tridesclous2']"
      ]
     },
     "execution_count": 67,
     "metadata": {},
     "output_type": "execute_result"
    }
   ],
   "source": [
    "ss.installed_sorters()"
   ]
  },
  {
   "cell_type": "markdown",
   "metadata": {},
   "source": [
    "We can retrieve the parameters associated to any sorter with the `get_default_params()` function from the `sorters` module:"
   ]
  },
  {
   "cell_type": "code",
   "execution_count": null,
   "metadata": {
    "pycharm": {
     "name": "#%%\n"
    }
   },
   "outputs": [],
   "source": [
    "ss.get_default_sorter_params('tridesclous')"
   ]
  },
  {
   "cell_type": "code",
   "execution_count": null,
   "metadata": {},
   "outputs": [],
   "source": [
    "ss.get_sorter_params_description('tridesclous')"
   ]
  },
  {
   "cell_type": "code",
   "execution_count": null,
   "metadata": {
    "pycharm": {
     "name": "#%%\n"
    }
   },
   "outputs": [],
   "source": [
    "ss.run_sorter?"
   ]
  },
  {
   "cell_type": "code",
   "execution_count": null,
   "metadata": {},
   "outputs": [],
   "source": [
    "ss.run_tridesclous?"
   ]
  },
  {
   "cell_type": "markdown",
   "metadata": {
    "pycharm": {
     "name": "#%% md\n"
    }
   },
   "source": [
    "To modify a parameter, we can easily pass it to the `run` function as an extra argument!\n",
    "For example, let's set the `filter` parameter to False as the recording is already preprocessed:"
   ]
  },
  {
   "cell_type": "code",
   "execution_count": null,
   "metadata": {
    "scrolled": true
   },
   "outputs": [],
   "source": [
    "# run spike sorting on entire recording\n",
    "sorting_TDC = ss.run_sorter('tridesclous', recording_sub, \n",
    "                            output_folder=base_folder / 'results_TDC', \n",
    "                            verbose=True)"
   ]
  },
  {
   "cell_type": "code",
   "execution_count": null,
   "metadata": {},
   "outputs": [],
   "source": [
    "sorting_TDC"
   ]
  },
  {
   "cell_type": "code",
   "execution_count": null,
   "metadata": {},
   "outputs": [],
   "source": [
    "print('Found', len(sorting_TDC.get_unit_ids()), 'units')"
   ]
  },
  {
   "cell_type": "markdown",
   "metadata": {
    "pycharm": {
     "name": "#%% md\n"
    }
   },
   "source": [
    "SpikeInterface ensures full provenance of the spike sorting pipeline. Upon running a spike sorter, a `spikeinterface_params.json` file is saved in the `output_folder`. This contains a `.json` version of the recording and all the input parameters. "
   ]
  },
  {
   "cell_type": "code",
   "execution_count": null,
   "metadata": {
    "pycharm": {
     "name": "#%%\n"
    }
   },
   "outputs": [],
   "source": [
    "!ls {base_folder}/results_TDC"
   ]
  },
  {
   "cell_type": "code",
   "execution_count": null,
   "metadata": {},
   "outputs": [],
   "source": [
    "!cat {base_folder}/results_TDC/spikeinterface_params.json"
   ]
  },
  {
   "cell_type": "markdown",
   "metadata": {},
   "source": [
    "### SpikeInterface-base spike sorters\n",
    "\n",
    "The `spikeinterface.sortingcomponents` module includes functions that can be used to create custom spike sorting pipelines built-in in `SpikeInterface`. It is still experimental and under heavy development, but there are already two SI-based sorters available:\n",
    "\n",
    "* `tridesclous2` (developed by Samuel Garcia)\n",
    "* `spykingcircus2` (developed by Pierre Yger)\n",
    "\n",
    "They can be run with the same `run_sorter` function, but they don't require any additional installation!"
   ]
  },
  {
   "cell_type": "code",
   "execution_count": null,
   "metadata": {},
   "outputs": [],
   "source": [
    "ss.get_default_sorter_params('tridesclous2')"
   ]
  },
  {
   "cell_type": "code",
   "execution_count": null,
   "metadata": {},
   "outputs": [],
   "source": [
    "sorting_TDC2 = ss.run_sorter('tridesclous2', recording_sub, \n",
    "                             output_folder=base_folder/'results_TDC2', \n",
    "                             verbose=True)"
   ]
  },
  {
   "cell_type": "code",
   "execution_count": null,
   "metadata": {},
   "outputs": [],
   "source": [
    "sorting_TDC2"
   ]
  },
  {
   "cell_type": "markdown",
   "metadata": {},
   "source": [
    "### (Optional) Running IronClust (requires MATLAB)\n",
    "\n",
    "For MATLAB-based sorters, all you need to do is cloning the sorter repo and point it to SpikeInterface:\n",
    "\n",
    "Let's clone ironclust in the current directory:"
   ]
  },
  {
   "cell_type": "code",
   "execution_count": null,
   "metadata": {},
   "outputs": [],
   "source": [
    "!git clone https://github.com/flatironinstitute/ironclust"
   ]
  },
  {
   "cell_type": "markdown",
   "metadata": {
    "pycharm": {
     "name": "#%% md\n"
    }
   },
   "source": [
    "Now all we have to tell the IronClustSorter class where is the ironclust repo:"
   ]
  },
  {
   "cell_type": "code",
   "execution_count": null,
   "metadata": {
    "pycharm": {
     "name": "#%%\n"
    }
   },
   "outputs": [],
   "source": [
    "ss.IronClustSorter.set_ironclust_path('./ironclust')"
   ]
  },
  {
   "cell_type": "markdown",
   "metadata": {
    "pycharm": {
     "name": "#%% md\n"
    }
   },
   "source": [
    "Note that we can also set a global environment variable called `IRONCLUST_PATH`. In that case we don't need to set the path in each session because the sorter class looks for this environment variable.\n",
    "\n",
    "Now ironclust should be installed and we can run it:"
   ]
  },
  {
   "cell_type": "code",
   "execution_count": null,
   "metadata": {
    "pycharm": {
     "name": "#%%\n"
    }
   },
   "outputs": [],
   "source": [
    "ss.IronClustSorter.ironclust_path"
   ]
  },
  {
   "cell_type": "code",
   "execution_count": null,
   "metadata": {},
   "outputs": [],
   "source": [
    "ss.installed_sorters()"
   ]
  },
  {
   "cell_type": "code",
   "execution_count": null,
   "metadata": {
    "pycharm": {
     "name": "#%%\n"
    },
    "scrolled": true
   },
   "outputs": [],
   "source": [
    "# run spike sorting by group\n",
    "sorting_IC = ss.run_sorter('ironclust', recording_saved, \n",
    "                           output_folder=base_folder/'results_IC',\n",
    "                           docker_image=True, verbose=True)\n"
   ]
  },
  {
   "cell_type": "code",
   "execution_count": null,
   "metadata": {},
   "outputs": [],
   "source": [
    "sorting_IC"
   ]
  },
  {
   "cell_type": "code",
   "execution_count": null,
   "metadata": {},
   "outputs": [],
   "source": [
    "print(f'IronClust found {len(sorting_IC.get_unit_ids())} units')"
   ]
  },
  {
   "cell_type": "markdown",
   "metadata": {
    "pycharm": {
     "name": "#%% md\n"
    }
   },
   "source": [
    "The spike sorting returns a `SortingExtractor` object. Let's see some of its functions:"
   ]
  },
  {
   "cell_type": "code",
   "execution_count": null,
   "metadata": {},
   "outputs": [],
   "source": [
    "print(f'IronClust unit ids: {sorting_IC.get_unit_ids()}')"
   ]
  },
  {
   "cell_type": "code",
   "execution_count": null,
   "metadata": {},
   "outputs": [],
   "source": [
    "print(f'Spike train of a unit: {sorting_IC.get_unit_spike_train(1)}')"
   ]
  },
  {
   "cell_type": "markdown",
   "metadata": {
    "pycharm": {
     "name": "#%% md\n"
    }
   },
   "source": [
    "We can use `spikewidgets` functions for some quick visualizations:"
   ]
  },
  {
   "cell_type": "code",
   "execution_count": null,
   "metadata": {
    "pycharm": {
     "name": "#%%\n"
    }
   },
   "outputs": [],
   "source": [
    "w_rs = sw.plot_rasters(sorting_IC)"
   ]
  },
  {
   "cell_type": "markdown",
   "metadata": {
    "pycharm": {
     "name": "#%% md\n"
    }
   },
   "source": [
    "## Running multiple sorter jobs in parallel\n",
    "\n",
    "So far we have seen how to run one sorter at a time. SI provides a convenient launcher in order to run multiple sorters on multiple recordings with one line of code!\n",
    "\n",
    "The `run_sorters()` function of the `sorter` module allows you to specify a list of sorters to use on a list (or dictionary) of parameters. The jobs are by default ran in a loop, but the `engine` argument enables to specify a parallel backend (`joblib` or `dask`) and relative parameters.\n",
    "\n",
    "In the following example, we run the 2 jobs to run `herdingspikes` and `ironclust` in parallel:"
   ]
  },
  {
   "cell_type": "code",
   "execution_count": null,
   "metadata": {
    "scrolled": false
   },
   "outputs": [],
   "source": [
    "sorting_outputs = ss.run_sorters(sorter_list=[\"tridesclous\", \"tridesclous2\"],\n",
    "                                 recording_dict_or_list={\"group0\": recording_saved},\n",
    "                                 working_folder=base_folder / \"all_sorters1\",\n",
    "                                 verbose=True,\n",
    "                                 engine=\"joblib\",\n",
    "                                 engine_kwargs={'n_jobs': 1})"
   ]
  },
  {
   "cell_type": "markdown",
   "metadata": {},
   "source": [
    "The returned `sorting_outputs` variable is a dictionary that has (rec_name, sorter_name) as keys, and the `SortingExtractor` objects as valus:"
   ]
  },
  {
   "cell_type": "code",
   "execution_count": null,
   "metadata": {},
   "outputs": [],
   "source": [
    "print(sorting_outputs.keys())"
   ]
  },
  {
   "cell_type": "markdown",
   "metadata": {},
   "source": [
    "For the rest of the tutorial, let's pick the `tridesclous` output:"
   ]
  },
  {
   "cell_type": "code",
   "execution_count": null,
   "metadata": {},
   "outputs": [],
   "source": [
    "sorting = sorting_outputs[('group0', 'tridesclous2')]\n",
    "sorting"
   ]
  },
  {
   "cell_type": "markdown",
   "metadata": {},
   "source": [
    "## Spike sort in Docker containers\n"
   ]
  },
  {
   "cell_type": "markdown",
   "metadata": {
    "pycharm": {
     "name": "#%% md\n"
    }
   },
   "source": [
    "Some sorters are hard to install! To alleviate this headache, SI provides a built-in mechanism to run a spike sorting job in a docker container.\n",
    "\n",
    "We are maintaining a set of sorter-specific docker files in the [spikeinterface-dockerfiles repo](<https://github.com/SpikeInterface/spikeinterface-dockerfiles>)\n",
    "and most of the docker images are available on Docker Hub from the [SpikeInterface organization](<https://hub.docker.com/orgs/spikeinterface/repositories>).\n",
    "\n",
    "Running spike sorting in a docker container just requires to:\n",
    "\n",
    "1. have docker installed\n",
    "2. have docker python SDK installed (`pip install docker`)\n",
    "\n",
    "When docker is installed, you can simply run the sorter in a specified docker image:"
   ]
  },
  {
   "cell_type": "code",
   "execution_count": null,
   "metadata": {
    "pycharm": {
     "name": "#%%\n"
    }
   },
   "outputs": [],
   "source": [
    "sorting_SC = ss.run_sorter(\"spykingcircus\", recording_saved, \n",
    "                           output_folder=base_folder / \"results_SC_docker\",\n",
    "                           docker_image=True, \n",
    "                           verbose=True)"
   ]
  },
  {
   "cell_type": "code",
   "execution_count": null,
   "metadata": {},
   "outputs": [],
   "source": [
    "sorting_SC"
   ]
  },
  {
   "cell_type": "markdown",
   "metadata": {},
   "source": [
    "We can also run MATLAB-based sorters without the need of a MATLAB license!\n",
    "\n",
    "Let's try with IronClust:"
   ]
  },
  {
   "cell_type": "code",
   "execution_count": null,
   "metadata": {},
   "outputs": [],
   "source": [
    "sorting_IC = ss.run_sorter(\"ironclust\", recording_saved, \n",
    "                           output_folder=base_folder / \"results_IC_docker\",\n",
    "                           docker_image=True, \n",
    "                           verbose=True)"
   ]
  },
  {
   "cell_type": "code",
   "execution_count": null,
   "metadata": {},
   "outputs": [],
   "source": [
    "sorting_IC"
   ]
  },
  {
   "cell_type": "code",
   "execution_count": null,
   "metadata": {},
   "outputs": [],
   "source": [
    "sorting = sorting_TDC"
   ]
  },
  {
   "cell_type": "markdown",
   "metadata": {},
   "source": [
    "# 6. Extracting waveforms <a class=\"anchor\" id=\"waveforms\"></a>\n",
    "\n",
    "The core of postprocessing spike sorting results revolves around extracting waveforms from paired recording-sorting objects.\n",
    "\n",
    "In the SI API, waveforms are extracted using the `WaveformExtractor` class in the `core` module.\n",
    "\n",
    "The `WaveformExtractor` object has convenient functions to retrieve waveforms and templates.\n",
    "Let's see how it works.\n",
    "\n",
    "To extract the waveforms, we can run:"
   ]
  },
  {
   "cell_type": "code",
   "execution_count": null,
   "metadata": {},
   "outputs": [],
   "source": [
    "recording_sub = si.load_extractor(base_folder / \"preprocessed\")\n",
    "sorting = se.read_tridesclous(base_folder / \"results_TDC\")"
   ]
  },
  {
   "cell_type": "code",
   "execution_count": null,
   "metadata": {
    "pycharm": {
     "name": "#%%\n"
    }
   },
   "outputs": [],
   "source": [
    "si.extract_waveforms?"
   ]
  },
  {
   "cell_type": "code",
   "execution_count": null,
   "metadata": {},
   "outputs": [],
   "source": [
    "we = si.extract_waveforms(recording_sub, sorting, folder=base_folder / \"waveforms\", \n",
    "                          load_if_exists=True, **job_kwargs)\n",
    "print(we)"
   ]
  },
  {
   "cell_type": "markdown",
   "metadata": {
    "pycharm": {
     "name": "#%% md\n"
    }
   },
   "source": [
    "Now all waveforms are computed and stored in the provided `wf_IC` folder. We can now retrieve waveforms and templates easily:"
   ]
  },
  {
   "cell_type": "code",
   "execution_count": null,
   "metadata": {},
   "outputs": [],
   "source": [
    "waveforms0 = we.get_waveforms(unit_id=0)\n",
    "print(f\"Waveforms shape: {waveforms0.shape}\")\n",
    "template0 = we.get_template(unit_id=0)\n",
    "print(f\"Template shape: {template0.shape}\")\n",
    "all_templates = we.get_all_templates()\n",
    "print(f\"All templates shape: {all_templates.shape}\")"
   ]
  },
  {
   "cell_type": "markdown",
   "metadata": {},
   "source": [
    "For waveforms, the dimension is (num_spikes, num_samples, num_channels), while each template has dimension (num_samples, num_channels). Note that the number of spikes in this case is 500..we'll get back to it later!\n",
    "\n",
    "The `WaveformExtractor` is also compatible with several `widgets` to visualize the spike sorting output:"
   ]
  },
  {
   "cell_type": "code",
   "execution_count": null,
   "metadata": {},
   "outputs": [],
   "source": [
    "w = sw.plot_unit_waveforms(we, unit_ids=[2, 3, 4])\n",
    "w = sw.plot_unit_templates(we, unit_ids=[2, 3, 4])\n",
    "w = sw.plot_unit_probe_map(we, unit_ids=[2,])"
   ]
  },
  {
   "cell_type": "code",
   "execution_count": null,
   "metadata": {},
   "outputs": [],
   "source": [
    "w = sw.plot_unit_summary(we, unit_id=3)"
   ]
  },
  {
   "cell_type": "markdown",
   "metadata": {},
   "source": [
    "**NEW in v0.95**: we can also render interactive plots with the `ipywidgets` backend!"
   ]
  },
  {
   "cell_type": "code",
   "execution_count": null,
   "metadata": {},
   "outputs": [],
   "source": [
    "w = sw.plot_unit_templates(we, radius_um=100, backend=\"ipywidgets\")"
   ]
  },
  {
   "cell_type": "markdown",
   "metadata": {},
   "source": [
    "As we noticed before, the number of spikes for the waveforms is 500. Let's check the number of spikes for other waveforms:"
   ]
  },
  {
   "cell_type": "code",
   "execution_count": null,
   "metadata": {},
   "outputs": [],
   "source": [
    "for unit in sorting.get_unit_ids():\n",
    "    waveforms = we.get_waveforms(unit_id=unit)\n",
    "    spiketrain = sorting.get_unit_spike_train(unit)\n",
    "    print(f\"Unit {unit} - num waveforms: {waveforms.shape[0]} - num spikes: {len(spiketrain)}\")"
   ]
  },
  {
   "cell_type": "markdown",
   "metadata": {},
   "source": [
    "No units have more than 500 spikes! This is because by default, the `WaveformExtractor` extracts waveforms on a random subset of 500 spikes. To extract waveforms on all spikes, we can use the `max_spikes_per_unit` argument:"
   ]
  },
  {
   "cell_type": "code",
   "execution_count": null,
   "metadata": {},
   "outputs": [],
   "source": [
    "we_all = si.extract_waveforms(recording_sub, sorting, folder=base_folder / \"wf_TDC_all\", \n",
    "                              max_spikes_per_unit=None, progress_bar=True, load_if_exists=True,\n",
    "                              **job_kwargs)"
   ]
  },
  {
   "cell_type": "code",
   "execution_count": null,
   "metadata": {},
   "outputs": [],
   "source": [
    "for unit in sorting.get_unit_ids():\n",
    "    waveforms = we_all.get_waveforms(unit_id=unit)\n",
    "    spiketrain = sorting.get_unit_spike_train(unit)\n",
    "    print(f\"Unit {unit} - num waveforms: {waveforms.shape[0]} - num spikes: {len(spiketrain)}\")"
   ]
  },
  {
   "cell_type": "markdown",
   "metadata": {},
   "source": [
    "Now waveforms have been extracted for all spikes! Let's move on to explore the postprocessing capabilities of the `postprocessing` module."
   ]
  },
  {
   "cell_type": "markdown",
   "metadata": {
    "pycharm": {
     "name": "#%% md\n"
    }
   },
   "source": [
    "# 7. Postprocessing <a class=\"anchor\" id=\"postprocessing\"></a>"
   ]
  },
  {
   "cell_type": "markdown",
   "metadata": {},
   "source": [
    "Postprocessing spike sorting results ranges from computing additional information, such as spike amplitudes and Principal Component Analisys (PCA) scores, to computing features of the extracellular waveforms, similarity between templates and crosscorrelograms. All of this is possible with the `postprocessing` module."
   ]
  },
  {
   "cell_type": "markdown",
   "metadata": {
    "pycharm": {
     "name": "#%% md\n"
    }
   },
   "source": [
    "### PCA scores\n",
    "\n",
    "PCA scores can be easily computed with the `compute_principal_components()` function. Similarly to the `extract_waveforms`, the function returns an object of type `WaveformPrincipalComponent` that allows to retrieve all pc scores on demand."
   ]
  },
  {
   "cell_type": "code",
   "execution_count": null,
   "metadata": {},
   "outputs": [],
   "source": [
    "st.compute_principal_components?"
   ]
  },
  {
   "cell_type": "code",
   "execution_count": null,
   "metadata": {},
   "outputs": [],
   "source": [
    "pc = spost.compute_principal_components(we, n_components=3, load_if_exists=True)"
   ]
  },
  {
   "cell_type": "code",
   "execution_count": null,
   "metadata": {
    "pycharm": {
     "name": "#%%\n"
    }
   },
   "outputs": [],
   "source": [
    "pc0 = pc.get_projections(unit_id=0)\n",
    "print(f\"PC scores shape: {pc0.shape}\")\n",
    "all_labels, all_pcs = pc.get_all_projections()\n",
    "print(f\"All PC scores shape: {all_pcs.shape}\")"
   ]
  },
  {
   "cell_type": "markdown",
   "metadata": {},
   "source": [
    "For pc scores of a single unit, the dimension is (num_spikes, num_components, num_channels). "
   ]
  },
  {
   "cell_type": "markdown",
   "metadata": {},
   "source": [
    "## WaveformExtensions\n",
    "\n",
    "When we compute PCA (or use other postprocessing functions), the computed information is added to the waveform folder. The functions act as `WaveformExtensions`:"
   ]
  },
  {
   "cell_type": "code",
   "execution_count": null,
   "metadata": {},
   "outputs": [],
   "source": [
    "we.get_available_extension_names()"
   ]
  },
  {
   "cell_type": "markdown",
   "metadata": {},
   "source": [
    "Each `WaveformExtension` is an object that allows us to retrieve the data:"
   ]
  },
  {
   "cell_type": "code",
   "execution_count": null,
   "metadata": {},
   "outputs": [],
   "source": [
    "pc = we.load_extension(\"principal_components\")\n",
    "print(pc)"
   ]
  },
  {
   "cell_type": "code",
   "execution_count": null,
   "metadata": {},
   "outputs": [],
   "source": [
    "all_labels, all_pcs = pc.get_data()\n",
    "print(all_pcs.shape)"
   ]
  },
  {
   "cell_type": "markdown",
   "metadata": {},
   "source": [
    "### Spike amplitudes"
   ]
  },
  {
   "cell_type": "markdown",
   "metadata": {},
   "source": [
    "Spike amplitudes can be computed with the `get_spike_amplitudes` function."
   ]
  },
  {
   "cell_type": "code",
   "execution_count": null,
   "metadata": {},
   "outputs": [],
   "source": [
    "amplitudes = spost.compute_spike_amplitudes(we, outputs=\"by_unit\", load_if_exists=True, \n",
    "                                            **job_kwargs)"
   ]
  },
  {
   "cell_type": "markdown",
   "metadata": {
    "pycharm": {
     "name": "#%% md\n"
    }
   },
   "source": [
    "By default, all amplitudes are concatenated in one array with all amplitudes form all spikes. With the `output=\"by_unit\"` argument, instead, a dictionary is returned:"
   ]
  },
  {
   "cell_type": "code",
   "execution_count": null,
   "metadata": {},
   "outputs": [],
   "source": [
    "amplitudes[0]"
   ]
  },
  {
   "cell_type": "code",
   "execution_count": null,
   "metadata": {},
   "outputs": [],
   "source": [
    "sw.plot_amplitudes_distribution(we)"
   ]
  },
  {
   "cell_type": "code",
   "execution_count": null,
   "metadata": {},
   "outputs": [],
   "source": [
    "sw.plot_amplitudes(we, backend=\"ipywidgets\")"
   ]
  },
  {
   "cell_type": "markdown",
   "metadata": {},
   "source": [
    "### Compute unit and spike locations\n",
    "\n",
    "When using silicon probes, we can estimate the unit (or spike) location with triangulation. This can be done either with a simple center of mass or by assuming a monopolar model:\n",
    "\n",
    "$$V_{ext}(\\boldsymbol{r_{ext}}) = \\frac{I_n}{4 \\pi \\sigma |\\boldsymbol{r_{ext}} - \\boldsymbol{r_{n}}|}$$\n",
    "\n",
    "where $\\boldsymbol{r_{n}}$ is the position of the neuron, and $\\boldsymbol{r_{n}}$ of the electrode(s)."
   ]
  },
  {
   "cell_type": "code",
   "execution_count": null,
   "metadata": {},
   "outputs": [],
   "source": [
    "unit_locations = spost.compute_unit_locations(we, method=\"monopolar_triangulation\", load_if_exists=True)\n",
    "spike_locations = spost.compute_spike_locations(we, method=\"monopolar_triangulation\", load_if_exists=True,\n",
    "                                                **job_kwargs)"
   ]
  },
  {
   "cell_type": "code",
   "execution_count": null,
   "metadata": {},
   "outputs": [],
   "source": [
    "sw.plot_unit_locations(we, backend=\"ipywidgets\")"
   ]
  },
  {
   "cell_type": "code",
   "execution_count": null,
   "metadata": {},
   "outputs": [],
   "source": [
    "sw.plot_spike_locations(we, backend=\"ipywidgets\")"
   ]
  },
  {
   "cell_type": "markdown",
   "metadata": {},
   "source": [
    "### Compute correlograms"
   ]
  },
  {
   "cell_type": "code",
   "execution_count": null,
   "metadata": {},
   "outputs": [],
   "source": [
    "ccgs, bins = spost.compute_correlograms(we)"
   ]
  },
  {
   "cell_type": "code",
   "execution_count": null,
   "metadata": {},
   "outputs": [],
   "source": [
    "sw.plot_autocorrelograms(we, unit_ids=sorting.unit_ids[:3])\n",
    "sw.plot_crosscorrelograms(we, unit_ids=sorting.unit_ids[:3])"
   ]
  },
  {
   "cell_type": "markdown",
   "metadata": {},
   "source": [
    "### Compute template metrics\n",
    "\n",
    "Template metrics, or extracellular features, such as peak to valley duration or full-width half maximum, are important to classify neurons into putative classes (excitatory - inhibitory). The `postprocessing` allows one to compute several of these metrics:"
   ]
  },
  {
   "cell_type": "code",
   "execution_count": null,
   "metadata": {},
   "outputs": [],
   "source": [
    "print(spost.get_template_metric_names())"
   ]
  },
  {
   "cell_type": "code",
   "execution_count": null,
   "metadata": {
    "pycharm": {
     "name": "#%%\n"
    }
   },
   "outputs": [],
   "source": [
    "template_metrics = spost.calculate_template_metrics(we)\n",
    "display(template_metrics)"
   ]
  },
  {
   "cell_type": "code",
   "execution_count": null,
   "metadata": {},
   "outputs": [],
   "source": [
    "sw.plot_template_metrics(we, include_metrics=[\"peak_to_valley\", \"half_width\"], \n",
    "                         backend=\"ipywidgets\")"
   ]
  },
  {
   "cell_type": "markdown",
   "metadata": {
    "pycharm": {
     "name": "#%% md\n"
    }
   },
   "source": [
    "For more information about these template metrics, we refer to this [documentation](https://github.com/AllenInstitute/ecephys_spike_sorting/tree/master/ecephys_spike_sorting/modules/mean_waveforms) from the Allen Institute."
   ]
  },
  {
   "cell_type": "markdown",
   "metadata": {},
   "source": [
    "## Sparsity\n",
    "\n",
    "Especially when working with silicon high-density probes, or when our probe has multiple groups (e.g. multi-shank, tetrodes), we don't care about waveform/templates on all channels. In order to find a subset of channels for each unit, we can use the `get_template_channel_sparsity()`"
   ]
  },
  {
   "cell_type": "code",
   "execution_count": null,
   "metadata": {},
   "outputs": [],
   "source": [
    "spost.get_template_channel_sparsity?"
   ]
  },
  {
   "cell_type": "code",
   "execution_count": null,
   "metadata": {},
   "outputs": [],
   "source": [
    "# example: radius\n",
    "sparsity_radius = spost.get_template_channel_sparsity(we, method=\"radius\", radius_um=50)\n",
    "print(sparsity_radius)"
   ]
  },
  {
   "cell_type": "code",
   "execution_count": null,
   "metadata": {},
   "outputs": [],
   "source": [
    "# example: best\n",
    "sparsity_best = spost.get_template_channel_sparsity(we, method=\"best_channels\", num_channels=4)\n",
    "print(sparsity_best)"
   ]
  },
  {
   "cell_type": "markdown",
   "metadata": {},
   "source": [
    "Most of the plotting and exporting functions accept `sparsity` as an argument. "
   ]
  },
  {
   "cell_type": "code",
   "execution_count": null,
   "metadata": {},
   "outputs": [],
   "source": [
    "sw.plot_unit_templates(we, sparsity=sparsity_radius, backend=\"ipywidgets\")"
   ]
  },
  {
   "cell_type": "code",
   "execution_count": null,
   "metadata": {},
   "outputs": [],
   "source": [
    "sw.plot_unit_templates(we, sparsity=sparsity_best, backend=\"ipywidgets\")"
   ]
  },
  {
   "cell_type": "markdown",
   "metadata": {
    "pycharm": {
     "name": "#%% md\n"
    }
   },
   "source": [
    "# 8. Quality metrics and curation <a class=\"anchor\" id=\"curation\"></a>\n",
    "\n",
    "The `qualitymetrics` module also provides several functions to compute qualitity metrics to validate the spike sorting results.\n",
    "\n",
    "Let's see what metrics are available:"
   ]
  },
  {
   "cell_type": "code",
   "execution_count": null,
   "metadata": {},
   "outputs": [],
   "source": [
    "print(sqm.get_quality_metric_list())"
   ]
  },
  {
   "cell_type": "code",
   "execution_count": null,
   "metadata": {
    "pycharm": {
     "name": "#%%\n"
    }
   },
   "outputs": [],
   "source": [
    "qm = sqm.compute_quality_metrics(we)"
   ]
  },
  {
   "cell_type": "code",
   "execution_count": null,
   "metadata": {
    "pycharm": {
     "name": "#%%\n"
    }
   },
   "outputs": [],
   "source": [
    "display(qm)"
   ]
  },
  {
   "cell_type": "code",
   "execution_count": null,
   "metadata": {},
   "outputs": [],
   "source": [
    "sw.plot_quality_metrics(we, include_metrics=[\"amplitude_cutoff\", \"presence_ratio\", \"isi_violations_ratio\", \"snr\"], \n",
    "                        backend=\"ipywidgets\")"
   ]
  },
  {
   "cell_type": "markdown",
   "metadata": {
    "pycharm": {
     "name": "#%% md\n"
    }
   },
   "source": [
    "For more information about these waveform features, we refer to the [SpikeInterface documentation](https://spikeinterface.readthedocs.io/en/latest/module_qualitymetrics.html) and to this excellent [documentation](https://allensdk.readthedocs.io/en/latest/_static/examples/nb/ecephys_quality_metrics.html) from the Allen Institute."
   ]
  },
  {
   "cell_type": "markdown",
   "metadata": {
    "pycharm": {
     "name": "#%% md\n"
    }
   },
   "source": [
    "## Automatic curation based on quality metrics"
   ]
  },
  {
   "cell_type": "markdown",
   "metadata": {
    "pycharm": {
     "name": "#%% md\n"
    }
   },
   "source": [
    "A viable option to curate (or at least pre-curate) a spike sorting output is to filter units based on quality metrics. As we have already computed quality metrics a few lines above, we can simply filter the `qm` dataframe based on some thresholds.\n",
    "\n",
    "Here, we'll only keep units with an ISI violation threshold < 0.2 and amplitude cutoff < 0.9:"
   ]
  },
  {
   "cell_type": "code",
   "execution_count": null,
   "metadata": {
    "pycharm": {
     "name": "#%%\n"
    }
   },
   "outputs": [],
   "source": [
    "isi_viol_thresh = 0.2\n",
    "amp_cutoff_thresh = 0.9"
   ]
  },
  {
   "cell_type": "markdown",
   "metadata": {},
   "source": [
    "A straightforward way to filter a pandas dataframe is via the `query`.\n",
    "We first define our query (make sure the names match the column names of the dataframe):"
   ]
  },
  {
   "cell_type": "code",
   "execution_count": null,
   "metadata": {
    "pycharm": {
     "name": "#%%\n"
    }
   },
   "outputs": [],
   "source": [
    "our_query = f\"amplitude_cutoff < {amp_cutoff_thresh} & isi_violations_rate < {isi_viol_thresh}\"\n",
    "print(our_query)"
   ]
  },
  {
   "cell_type": "markdown",
   "metadata": {
    "pycharm": {
     "name": "#%% md\n"
    }
   },
   "source": [
    "and then we can use the query to select units:"
   ]
  },
  {
   "cell_type": "code",
   "execution_count": null,
   "metadata": {
    "pycharm": {
     "name": "#%%\n"
    }
   },
   "outputs": [],
   "source": [
    "keep_units = qm.query(our_query)\n",
    "keep_unit_ids = keep_units.index.values"
   ]
  },
  {
   "cell_type": "code",
   "execution_count": null,
   "metadata": {},
   "outputs": [],
   "source": [
    "sorting_auto = sorting.select_units(keep_unit_ids)\n",
    "print(f\"Number of units before curation: {len(sorting.get_unit_ids())}\")\n",
    "print(f\"Number of units after curation: {len(sorting_auto.get_unit_ids())}\")"
   ]
  },
  {
   "cell_type": "markdown",
   "metadata": {},
   "source": [
    "# 9. Viewers <a class=\"anchor\" id=\"viewers\"></a>\n",
    "\n",
    "Let's check put the `spikeinterface-gui` to explore our spike sorting results:"
   ]
  },
  {
   "cell_type": "markdown",
   "metadata": {},
   "source": [
    "### SpikeInterface GUI"
   ]
  },
  {
   "cell_type": "code",
   "execution_count": null,
   "metadata": {
    "pycharm": {
     "name": "#%%\n"
    }
   },
   "outputs": [],
   "source": [
    "!sigui waveforms/"
   ]
  },
  {
   "cell_type": "markdown",
   "metadata": {},
   "source": [
    "### Sorting Summary - SortingView"
   ]
  },
  {
   "cell_type": "markdown",
   "metadata": {},
   "source": [
    "The `sortingview` backend requires an additional step to configure the transfer of the data to be plotted to the cloud. \n",
    "\n",
    "See documentation [here](https://spikeinterface.readthedocs.io/en/latest/module_widgets.html): "
   ]
  },
  {
   "cell_type": "code",
   "execution_count": null,
   "metadata": {},
   "outputs": [],
   "source": [
    "sw.plot_sorting_summary(we, sparsity=sparsity_radius, \n",
    "                        backend=\"sortingview\")"
   ]
  },
  {
   "cell_type": "markdown",
   "metadata": {},
   "source": [
    "# 10. Spike sorting comparison <a class=\"anchor\" id=\"comparison\"></a>\n",
    "\n",
    "Can we combine the output of multiple sorters to curate the spike sorting output?\n",
    "\n",
    "To answer this question we can use the `comparison` module.\n",
    "We first compare and match the output spike trains of the different sorters, and we can then extract a new `SortingExtractor` with only the units in agreement."
   ]
  },
  {
   "cell_type": "markdown",
   "metadata": {},
   "source": [
    "### Compare two sorters"
   ]
  },
  {
   "cell_type": "code",
   "execution_count": null,
   "metadata": {},
   "outputs": [],
   "source": [
    "comp_TDC_IC = sc.compare_two_sorters(sorting_TDC, sorting_IC, 'TDC', 'IC')"
   ]
  },
  {
   "cell_type": "code",
   "execution_count": null,
   "metadata": {},
   "outputs": [],
   "source": [
    "sw.plot_agreement_matrix(comp_TDC_IC)"
   ]
  },
  {
   "cell_type": "code",
   "execution_count": null,
   "metadata": {},
   "outputs": [],
   "source": [
    "comp_SC_IC = sc.compare_two_sorters(sorting_SC, sorting_IC, 'SC', 'IC')\n",
    "sw.plot_agreement_matrix(comp_SC_IC)"
   ]
  },
  {
   "cell_type": "code",
   "execution_count": null,
   "metadata": {},
   "outputs": [],
   "source": [
    "comp_SC_TDC = sc.compare_two_sorters(sorting_SC, sorting_TDC, 'SC', 'TDC')\n",
    "sw.plot_agreement_matrix(comp_SC_TDC)"
   ]
  },
  {
   "cell_type": "markdown",
   "metadata": {},
   "source": [
    "### Compare multiple sorters"
   ]
  },
  {
   "cell_type": "code",
   "execution_count": null,
   "metadata": {},
   "outputs": [],
   "source": [
    "mcmp = sc.compare_multiple_sorters([sorting_TDC, sorting_IC, sorting_SC], ['TDC', 'IC', 'SC'], \n",
    "                                   spiketrain_mode='union', verbose=True)"
   ]
  },
  {
   "cell_type": "code",
   "execution_count": null,
   "metadata": {},
   "outputs": [],
   "source": [
    "w = sw.plot_multicomp_agreement(mcmp)\n",
    "w = sw.plot_multicomp_agreement_by_sorter(mcmp)"
   ]
  },
  {
   "cell_type": "code",
   "execution_count": null,
   "metadata": {
    "pycharm": {
     "name": "#%%\n"
    }
   },
   "outputs": [],
   "source": [
    "sw.plot_multicomp_graph(mcmp, draw_labels=True)"
   ]
  },
  {
   "cell_type": "code",
   "execution_count": null,
   "metadata": {},
   "outputs": [],
   "source": [
    "agreement_sorting = mcmp.get_agreement_sorting(minimum_agreement_count=2)"
   ]
  },
  {
   "cell_type": "code",
   "execution_count": null,
   "metadata": {},
   "outputs": [],
   "source": [
    "sw.plot_rasters(agreement_sorting)"
   ]
  },
  {
   "cell_type": "markdown",
   "metadata": {
    "pycharm": {
     "name": "#%% md\n"
    }
   },
   "source": [
    "# 11. Exporters <a class=\"anchor\" id=\"exporters\"></a>"
   ]
  },
  {
   "cell_type": "markdown",
   "metadata": {
    "pycharm": {
     "name": "#%% md\n"
    }
   },
   "source": [
    "## Export to Phy for manual curation\n",
    "\n",
    "To perform manual curation we can export the data to [Phy](https://github.com/cortex-lab/phy). "
   ]
  },
  {
   "cell_type": "code",
   "execution_count": null,
   "metadata": {
    "pycharm": {
     "name": "#%%\n"
    }
   },
   "outputs": [],
   "source": [
    "sexp.export_to_phy(we, output_folder=base_folder / 'phy_TDC', \n",
    "                   **job_kwargs)"
   ]
  },
  {
   "cell_type": "markdown",
   "metadata": {},
   "source": [
    "There is a problem with the latest version of Phy so we need to set an environment variable to make it work properly:\n",
    "\n",
    "- Python:\n",
    "```\n",
    "import os\n",
    "os.environ[\"QTWEBENGINE_CHROMIUM_FLAGS\"] = \"--single-process\"\n",
    "```\n",
    "\n",
    "- OR terminal:\n",
    "\n",
    "  - Linux/MacOS:\n",
    "`export QTWEBENGINE_CHROMIUM_FLAGS=\"--single-process\"`\n",
    "\n",
    "  - Windows:\n",
    "`set QTWEBENGINE_CHROMIUM_FLAGS=\"--single-process\"`\n",
    "\n",
    "Then we can run the Phy GUI:"
   ]
  },
  {
   "cell_type": "code",
   "execution_count": null,
   "metadata": {},
   "outputs": [],
   "source": [
    "import os\n",
    "os.environ[\"QTWEBENGINE_CHROMIUM_FLAGS\"] = \"--single-process\""
   ]
  },
  {
   "cell_type": "code",
   "execution_count": null,
   "metadata": {
    "pycharm": {
     "name": "#%%\n"
    }
   },
   "outputs": [],
   "source": [
    "%%capture --no-display\n",
    "!phy template-gui phy_TDC/params.py"
   ]
  },
  {
   "cell_type": "markdown",
   "metadata": {
    "pycharm": {
     "name": "#%% md\n"
    }
   },
   "source": [
    "After curating the results we can reload it using the `PhySortingExtractor` and exclude the units that we labeled as `noise`:"
   ]
  },
  {
   "cell_type": "code",
   "execution_count": null,
   "metadata": {},
   "outputs": [],
   "source": [
    "sorting_phy_curated = se.PhySortingExtractor(base_folder / 'phy_TDC/', exclude_cluster_groups=['noise'])"
   ]
  },
  {
   "cell_type": "code",
   "execution_count": null,
   "metadata": {},
   "outputs": [],
   "source": [
    "print(f\"Number of units before curation: {len(sorting.get_unit_ids())}\")\n",
    "print(f\"Number of units after curation: {len(sorting_phy_curated.get_unit_ids())}\")"
   ]
  },
  {
   "cell_type": "markdown",
   "metadata": {},
   "source": [
    "## Export spike sorting report"
   ]
  },
  {
   "cell_type": "code",
   "execution_count": null,
   "metadata": {},
   "outputs": [],
   "source": [
    "from spikeinterface.exporters import export_report"
   ]
  },
  {
   "cell_type": "code",
   "execution_count": null,
   "metadata": {
    "scrolled": true
   },
   "outputs": [],
   "source": [
    "%%capture --no-display\n",
    "sexp.export_report(waveform_extractor=we, output_folder=base_folder/\"SI_report\", \n",
    "                   format=\"png\", show_figures=False)"
   ]
  },
  {
   "cell_type": "code",
   "execution_count": null,
   "metadata": {
    "pycharm": {
     "name": "#%%\n"
    }
   },
   "outputs": [],
   "source": [
    "!ls {base_folder}/SI_report"
   ]
  },
  {
   "cell_type": "code",
   "execution_count": null,
   "metadata": {},
   "outputs": [],
   "source": [
    "!ls {base_folder}/SI_report/units/"
   ]
  },
  {
   "cell_type": "markdown",
   "metadata": {},
   "source": [
    "# 12. (optional) Saving to NWB <a class=\"anchor\" id=\"nwb\"></a>\n"
   ]
  },
  {
   "cell_type": "markdown",
   "metadata": {},
   "source": [
    "To export to NWB and visualize NWB, we need a couple of additional packages (not installed by default):\n",
    "\n",
    "- [neuroconv](https://github.com/catalystneuro/neuroconv): NWB conversion of SI objects\n",
    "- [nwbwidgets](https://github.com/NeurodataWithoutBorders/nwbwidgets): visualization of NWB files in jupyter\n"
   ]
  },
  {
   "cell_type": "code",
   "execution_count": null,
   "metadata": {},
   "outputs": [],
   "source": [
    "from neuroconv.tools.spikeinterface import write_recording, write_sorting\n",
    "from datetime import datetime\n",
    "from pynwb import NWBHDF5IO\n",
    "from nwbwidgets import nwb2widget"
   ]
  },
  {
   "cell_type": "code",
   "execution_count": null,
   "metadata": {},
   "outputs": [],
   "source": [
    "metadata = {\"NWBFile\": {\"session_start_time\": datetime.now()}}"
   ]
  },
  {
   "cell_type": "code",
   "execution_count": null,
   "metadata": {},
   "outputs": [],
   "source": [
    "_ = write_recording(recording_sub, nwbfile_path=\"si_tutorial.nwb\", metadata=metadata)"
   ]
  },
  {
   "cell_type": "code",
   "execution_count": null,
   "metadata": {},
   "outputs": [],
   "source": [
    "_ = write_sorting(sorting, nwbfile_path=\"si_tutorial.nwb\")"
   ]
  },
  {
   "cell_type": "code",
   "execution_count": null,
   "metadata": {},
   "outputs": [],
   "source": [
    "io = NWBHDF5IO(\"si_tutorial.nwb\", \"r\")\n",
    "nwbfile = io.read()"
   ]
  },
  {
   "cell_type": "code",
   "execution_count": null,
   "metadata": {},
   "outputs": [],
   "source": [
    "nwb2widget(nwbfile)"
   ]
  },
  {
   "cell_type": "markdown",
   "metadata": {},
   "source": [
    "# Bedankt!"
   ]
  }
 ],
 "metadata": {
  "kernelspec": {
   "display_name": "Python 3 (ipykernel)",
   "language": "python",
   "name": "python3"
  },
  "language_info": {
   "codemirror_mode": {
    "name": "ipython",
    "version": 3
   },
   "file_extension": ".py",
   "mimetype": "text/x-python",
   "name": "python",
   "nbconvert_exporter": "python",
   "pygments_lexer": "ipython3",
   "version": "3.9.13"
  },
  "pycharm": {
   "stem_cell": {
    "cell_type": "raw",
    "metadata": {
     "collapsed": false
    },
    "source": []
   }
  }
 },
 "nbformat": 4,
 "nbformat_minor": 4
}
