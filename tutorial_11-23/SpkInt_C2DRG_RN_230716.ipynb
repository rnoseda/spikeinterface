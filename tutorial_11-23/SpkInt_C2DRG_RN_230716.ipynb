{
 "cells": [
  {
   "cell_type": "code",
   "execution_count": 1,
   "metadata": {
    "notebookRunGroups": {
     "groupValue": "1"
    }
   },
   "outputs": [
    {
     "name": "stdout",
     "output_type": "stream",
     "text": [
      "SpikeInterface version: 0.98.0\n"
     ]
    }
   ],
   "source": [
    "import spikeinterface as si\n",
    "import spikeinterface.extractors as se \n",
    "import spikeinterface.preprocessing as spre\n",
    "import spikeinterface.sorters as ss\n",
    "import spikeinterface.postprocessing as spost\n",
    "import spikeinterface.qualitymetrics as sqm\n",
    "import spikeinterface.comparison as sc\n",
    "import spikeinterface.exporters as sexp\n",
    "import spikeinterface.widgets as sw\n",
    "import matplotlib.pyplot as plt\n",
    "import numpy as np\n",
    "import scipy.signal\n",
    "from pathlib import Path\n",
    "import spikeinterface_gui as sigui\n",
    "import warnings\n",
    "warnings.simplefilter(\"ignore\")\n",
    "%matplotlib widget\n",
    "print(f\"SpikeInterface version: {si.__version__}\")"
   ]
  },
  {
   "cell_type": "code",
   "execution_count": 2,
   "metadata": {
    "notebookRunGroups": {
     "groupValue": "1"
    }
   },
   "outputs": [],
   "source": [
    "# file paths\n",
    "base_folder = Path('.')\n",
    "data_folder = Path(\"C:/Users/rodri/Documents/Bonsai-RN/Bonsai_DataRN/2023_3_21/\")\n",
    "#Pasted directly from explorer \"C:\\Users\\rodri\\Documents\\Bonsai-RN\\Bonsai_DataRN\\2023_3_21\\\"\n",
    "recording_file = data_folder / \"RawEphysData_64Ch_F-Probe10.bin\"\n",
    "# parameters to load the bin/dat format\n",
    "num_channels = 64 #must know apriori; modify in probe below accordingly.\n",
    "sampling_frequency = 30000\n",
    "gain_to_uV = 0.195\n",
    "offset_to_uV = 0\n",
    "t_starts = 0\n",
    "dtype = \"float32\"\n",
    "time_axis = 0"
   ]
  },
  {
   "cell_type": "code",
   "execution_count": 3,
   "metadata": {
    "notebookRunGroups": {
     "groupValue": "1"
    }
   },
   "outputs": [
    {
     "name": "stdout",
     "output_type": "stream",
     "text": [
      "Channel ids: [ 0  1  2  3  4  5  6  7  8  9 10 11 12 13 14 15 16 17 18 19 20 21 22 23\n",
      " 24 25 26 27 28 29 30 31 32 33 34 35 36 37 38 39 40 41 42 43 44 45 46 47\n",
      " 48 49 50 51 52 53 54 55 56 57 58 59 60 61 62 63]\n",
      "Sampling frequency: 30000\n",
      "Number of channels: 64\n",
      "Number of segments: 1\n",
      "Trace Shape: (1800000, 64)\n",
      "Trace Total Duration: 14356.04\n",
      "Trace Total Samples: 430681200\n"
     ]
    }
   ],
   "source": [
    "recording = si.read_binary(recording_file, num_chan=num_channels,sampling_frequency=sampling_frequency,\n",
    "                           dtype=dtype, gain_to_uV=gain_to_uV, offset_to_uV=offset_to_uV, \n",
    "                           time_axis=time_axis, is_filtered=False)\n",
    "\n",
    "channel_ids = recording.get_channel_ids()\n",
    "fs = recording.get_sampling_frequency()\n",
    "num_chan = recording.get_num_channels()\n",
    "num_segments = recording.get_num_segments()\n",
    "trace_snippet = recording.get_traces(start_frame=int(fs*0), end_frame=int(fs*60))\n",
    "trace_total_duration = recording.get_total_duration()\n",
    "trace_total_samples = recording.get_total_samples()\n",
    "\n",
    "print(f'Channel ids: {channel_ids}')\n",
    "print(f'Sampling frequency: {fs}')\n",
    "print(f'Number of channels: {num_chan}')\n",
    "print(f\"Number of segments: {num_segments}\")\n",
    "print('Trace Shape:', trace_snippet.shape)\n",
    "print('Trace Total Duration:', trace_total_duration)\n",
    "print('Trace Total Samples:', trace_total_samples)\n",
    "recording_1min_slice = recording.frame_slice(start_frame=int(0), end_frame=int(fs*60)) #in samples=30000samples*60sec (fs*60)\n",
    "#se.recording_extractor_full_dict"
   ]
  },
  {
   "cell_type": "code",
   "execution_count": 48,
   "metadata": {
    "notebookRunGroups": {
     "groupValue": "1"
    }
   },
   "outputs": [
    {
     "name": "stdout",
     "output_type": "stream",
     "text": [
      "ProbeInterface version: 0.2.17\n"
     ]
    }
   ],
   "source": [
    "import probeinterface as pi\n",
    "from probeinterface import Probe, ProbeGroup\n",
    "from probeinterface import generate_linear_probe, get_probe, generate_multi_shank\n",
    "from probeinterface import combine_probes\n",
    "from probeinterface import generate_multi_columns_probe\n",
    "from probeinterface.plotting import plot_probe, plot_probe_group \n",
    "from probeinterface import generate_dummy_probe\n",
    "from probeinterface import write_probeinterface, read_probeinterface\n",
    "from probeinterface import write_prb, read_prb\n",
    "print(f\"ProbeInterface version: {pi.__version__}\")"
   ]
  },
  {
   "cell_type": "code",
   "execution_count": 56,
   "metadata": {},
   "outputs": [
    {
     "name": "stdout",
     "output_type": "stream",
     "text": [
      "[ 0  1  2  3  4  5  6  7  8  9 10 11 12 13 14 15 16 17 18 19 20 21 22 23\n",
      " 24 25 26 27 28 29 30 31 32 33 34 35 36 37 38 39 40 41 42 43 44 45 46 47\n",
      " 48 49 50 51 52 53 54 55 56 57 58 59 60 61 62 63]\n",
      "['1' '2' '3' '4' '5' '6' '7' '8' '9' '10' '11' '12' '13' '14' '15' '16'\n",
      " '17' '18' '19' '20' '21' '22' '23' '24' '25' '26' '27' '28' '29' '30'\n",
      " '31' '32' '33' '34' '35' '36' '37' '38' '39' '40' '41' '42' '43' '44'\n",
      " '45' '46' '47' '48' '49' '50' '51' '52' '53' '54' '55' '56' '57' '58'\n",
      " '59' '60' '61' '62' '63' '64']\n",
      "['4' '5' '4' '4' '4' '5' '5' '5' '5' '4' '4' '5' '5' '5' '5' '5' '4' '3'\n",
      " '4' '3' '4' '3' '3' '4' '3' '3' '3' '3' '3' '3' '4' '3' '2' '1' '2' '2'\n",
      " '2' '2' '2' '2' '1' '2' '2' '1' '2' '1' '2' '1' '0' '0' '0' '1' '0' '1'\n",
      " '1' '0' '1' '1' '0' '1' '0' '0' '0' '0']\n",
      "2\n",
      "um\n",
      "{'name': 'ASSY-158-F', 'manufacturer': 'cambridgeneurotech', 'first_index': 1}\n",
      "[[ 816.5   75. ]\n",
      " [1000.   120. ]\n",
      " [ 800.     0. ]\n",
      " [ 816.5  135. ]\n",
      " [ 816.5   15. ]\n",
      " [1016.5   45. ]\n",
      " [1016.5  105. ]\n",
      " [1016.5   75. ]\n",
      " [1016.5  135. ]\n",
      " [ 816.5  105. ]\n",
      " [ 816.5   45. ]\n",
      " [1016.5   15. ]\n",
      " [1000.    60. ]\n",
      " [1000.     0. ]\n",
      " [1000.    30. ]\n",
      " [1000.    90. ]\n",
      " [ 800.   150. ]\n",
      " [ 600.    60. ]\n",
      " [ 800.    30. ]\n",
      " [ 600.   120. ]\n",
      " [ 800.   120. ]\n",
      " [ 600.   150. ]\n",
      " [ 600.    30. ]\n",
      " [ 800.    60. ]\n",
      " [ 600.     0. ]\n",
      " [ 616.5   15. ]\n",
      " [ 616.5   75. ]\n",
      " [ 616.5  135. ]\n",
      " [ 616.5  105. ]\n",
      " [ 616.5   45. ]\n",
      " [ 800.    90. ]\n",
      " [ 600.    90. ]\n",
      " [ 416.5  135. ]\n",
      " [ 216.5  135. ]\n",
      " [ 400.   150. ]\n",
      " [ 400.     0. ]\n",
      " [ 400.    30. ]\n",
      " [ 400.   120. ]\n",
      " [ 400.    60. ]\n",
      " [ 400.    90. ]\n",
      " [ 216.5   45. ]\n",
      " [ 416.5   15. ]\n",
      " [ 416.5  105. ]\n",
      " [ 216.5   75. ]\n",
      " [ 416.5   45. ]\n",
      " [ 216.5  105. ]\n",
      " [ 416.5   75. ]\n",
      " [ 216.5   15. ]\n",
      " [  16.5  135. ]\n",
      " [  16.5   75. ]\n",
      " [  16.5  105. ]\n",
      " [ 200.    60. ]\n",
      " [  16.5   15. ]\n",
      " [ 200.    90. ]\n",
      " [ 200.   120. ]\n",
      " [   0.   120. ]\n",
      " [ 200.   150. ]\n",
      " [ 200.    30. ]\n",
      " [   0.    60. ]\n",
      " [ 200.     0. ]\n",
      " [   0.    30. ]\n",
      " [   0.    90. ]\n",
      " [   0.     0. ]\n",
      " [  16.5   45. ]]\n",
      "['rect' 'rect' 'rect' 'rect' 'rect' 'rect' 'rect' 'rect' 'rect' 'rect'\n",
      " 'rect' 'rect' 'rect' 'rect' 'rect' 'rect' 'rect' 'rect' 'rect' 'rect'\n",
      " 'rect' 'rect' 'rect' 'rect' 'rect' 'rect' 'rect' 'rect' 'rect' 'rect'\n",
      " 'rect' 'rect' 'rect' 'rect' 'rect' 'rect' 'rect' 'rect' 'rect' 'rect'\n",
      " 'rect' 'rect' 'rect' 'rect' 'rect' 'rect' 'rect' 'rect' 'rect' 'rect'\n",
      " 'rect' 'rect' 'rect' 'rect' 'rect' 'rect' 'rect' 'rect' 'rect' 'rect'\n",
      " 'rect' 'rect' 'rect' 'rect']\n",
      "[{'width': 11, 'height': 15} {'width': 11, 'height': 15}\n",
      " {'width': 11, 'height': 15} {'width': 11, 'height': 15}\n",
      " {'width': 11, 'height': 15} {'width': 11, 'height': 15}\n",
      " {'width': 11, 'height': 15} {'width': 11, 'height': 15}\n",
      " {'width': 11, 'height': 15} {'width': 11, 'height': 15}\n",
      " {'width': 11, 'height': 15} {'width': 11, 'height': 15}\n",
      " {'width': 11, 'height': 15} {'width': 11, 'height': 15}\n",
      " {'width': 11, 'height': 15} {'width': 11, 'height': 15}\n",
      " {'width': 11, 'height': 15} {'width': 11, 'height': 15}\n",
      " {'width': 11, 'height': 15} {'width': 11, 'height': 15}\n",
      " {'width': 11, 'height': 15} {'width': 11, 'height': 15}\n",
      " {'width': 11, 'height': 15} {'width': 11, 'height': 15}\n",
      " {'width': 11, 'height': 15} {'width': 11, 'height': 15}\n",
      " {'width': 11, 'height': 15} {'width': 11, 'height': 15}\n",
      " {'width': 11, 'height': 15} {'width': 11, 'height': 15}\n",
      " {'width': 11, 'height': 15} {'width': 11, 'height': 15}\n",
      " {'width': 11, 'height': 15} {'width': 11, 'height': 15}\n",
      " {'width': 11, 'height': 15} {'width': 11, 'height': 15}\n",
      " {'width': 11, 'height': 15} {'width': 11, 'height': 15}\n",
      " {'width': 11, 'height': 15} {'width': 11, 'height': 15}\n",
      " {'width': 11, 'height': 15} {'width': 11, 'height': 15}\n",
      " {'width': 11, 'height': 15} {'width': 11, 'height': 15}\n",
      " {'width': 11, 'height': 15} {'width': 11, 'height': 15}\n",
      " {'width': 11, 'height': 15} {'width': 11, 'height': 15}\n",
      " {'width': 11, 'height': 15} {'width': 11, 'height': 15}\n",
      " {'width': 11, 'height': 15} {'width': 11, 'height': 15}\n",
      " {'width': 11, 'height': 15} {'width': 11, 'height': 15}\n",
      " {'width': 11, 'height': 15} {'width': 11, 'height': 15}\n",
      " {'width': 11, 'height': 15} {'width': 11, 'height': 15}\n",
      " {'width': 11, 'height': 15} {'width': 11, 'height': 15}\n",
      " {'width': 11, 'height': 15} {'width': 11, 'height': 15}\n",
      " {'width': 11, 'height': 15} {'width': 11, 'height': 15}]\n"
     ]
    },
    {
     "data": {
      "text/html": [
       "<div>\n",
       "<style scoped>\n",
       "    .dataframe tbody tr th:only-of-type {\n",
       "        vertical-align: middle;\n",
       "    }\n",
       "\n",
       "    .dataframe tbody tr th {\n",
       "        vertical-align: top;\n",
       "    }\n",
       "\n",
       "    .dataframe thead th {\n",
       "        text-align: right;\n",
       "    }\n",
       "</style>\n",
       "<table border=\"1\" class=\"dataframe\">\n",
       "  <thead>\n",
       "    <tr style=\"text-align: right;\">\n",
       "      <th></th>\n",
       "      <th>contact_ids</th>\n",
       "      <th>shank_ids</th>\n",
       "      <th>device_channel_indices</th>\n",
       "    </tr>\n",
       "  </thead>\n",
       "  <tbody>\n",
       "    <tr>\n",
       "      <th>0</th>\n",
       "      <td>1</td>\n",
       "      <td>4</td>\n",
       "      <td>0</td>\n",
       "    </tr>\n",
       "    <tr>\n",
       "      <th>1</th>\n",
       "      <td>2</td>\n",
       "      <td>5</td>\n",
       "      <td>1</td>\n",
       "    </tr>\n",
       "    <tr>\n",
       "      <th>2</th>\n",
       "      <td>3</td>\n",
       "      <td>4</td>\n",
       "      <td>2</td>\n",
       "    </tr>\n",
       "    <tr>\n",
       "      <th>3</th>\n",
       "      <td>4</td>\n",
       "      <td>4</td>\n",
       "      <td>3</td>\n",
       "    </tr>\n",
       "    <tr>\n",
       "      <th>4</th>\n",
       "      <td>5</td>\n",
       "      <td>4</td>\n",
       "      <td>4</td>\n",
       "    </tr>\n",
       "    <tr>\n",
       "      <th>...</th>\n",
       "      <td>...</td>\n",
       "      <td>...</td>\n",
       "      <td>...</td>\n",
       "    </tr>\n",
       "    <tr>\n",
       "      <th>59</th>\n",
       "      <td>60</td>\n",
       "      <td>1</td>\n",
       "      <td>59</td>\n",
       "    </tr>\n",
       "    <tr>\n",
       "      <th>60</th>\n",
       "      <td>61</td>\n",
       "      <td>0</td>\n",
       "      <td>60</td>\n",
       "    </tr>\n",
       "    <tr>\n",
       "      <th>61</th>\n",
       "      <td>62</td>\n",
       "      <td>0</td>\n",
       "      <td>61</td>\n",
       "    </tr>\n",
       "    <tr>\n",
       "      <th>62</th>\n",
       "      <td>63</td>\n",
       "      <td>0</td>\n",
       "      <td>62</td>\n",
       "    </tr>\n",
       "    <tr>\n",
       "      <th>63</th>\n",
       "      <td>64</td>\n",
       "      <td>0</td>\n",
       "      <td>63</td>\n",
       "    </tr>\n",
       "  </tbody>\n",
       "</table>\n",
       "<p>64 rows × 3 columns</p>\n",
       "</div>"
      ],
      "text/plain": [
       "   contact_ids shank_ids  device_channel_indices\n",
       "0            1         4                       0\n",
       "1            2         5                       1\n",
       "2            3         4                       2\n",
       "3            4         4                       3\n",
       "4            5         4                       4\n",
       "..         ...       ...                     ...\n",
       "59          60         1                      59\n",
       "60          61         0                      60\n",
       "61          62         0                      61\n",
       "62          63         0                      62\n",
       "63          64         0                      63\n",
       "\n",
       "[64 rows x 3 columns]"
      ]
     },
     "execution_count": 56,
     "metadata": {},
     "output_type": "execute_result"
    },
    {
     "data": {
      "application/vnd.jupyter.widget-view+json": {
       "model_id": "83ba450e00214678b8d7a567675b2fa4",
       "version_major": 2,
       "version_minor": 0
      },
      "image/png": "[encoded data removed]",
      "text/html": [
       "\n",
       "            <div style=\"display: inline-block;\">\n",
       "                <div class=\"jupyter-widgets widget-label\" style=\"text-align: center;\">\n",
       "                    Figure\n",
       "                </div>\n",
       "                <img src='data:image/png;base64,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' width=640.0/>\n",
       "            </div>\n",
       "        "
      ],
      "text/plain": [
       "Canvas(toolbar=Toolbar(toolitems=[('Home', 'Reset original view', 'home', 'home'), ('Back', 'Back to previous …"
      ]
     },
     "metadata": {},
     "output_type": "display_data"
    }
   ],
   "source": [
    "#download probe\n",
    "probeF64 = pi.get_probe(manufacturer='cambridgeneurotech',\n",
    "                     probe_name= 'ASSY-158-F')#probe object from library comes with contact and shank info\n",
    "#add wiring to probe using wither a) or b)\n",
    "#a)\n",
    "#probeF64.wiring_to_device('ASSY-156>RHD2164')# fits 64Ch cambridge probes. Not acccurate?\n",
    "#b) - With mapping by using the 2 lines below\n",
    "device_channel_indices_mapped = [0,1,2,3,4,5,6,7,8,9,10,11,12,13,14,15,16,17,18,19,20,21,22,23,24,25,26,27,28,29,30,\n",
    "31,32,33,34,35,36,37,38,39,40,41,42,43,44,45,46,47,48,49,50,51,52,53,54,55,56,57,58,59,60,\n",
    "               61,62,63] #based on how recording was saved in Bonsai (mapped channels saved).print(probeF64)\n",
    "probeF64.set_device_channel_indices(device_channel_indices_mapped)\n",
    "#device_channel_indices_raw = [24,23,25,22,26,21,27,20,28,19,29,18,30,17,31,16,0,15,1,14,2,13,3,12,4,11,5,10,6,9,7,8,\n",
    "#                             56,55,57,54,58,53,59,52,60,51,61,50,62,49,63,48,32,47,33,46,34,45,35,44,36,43,37,42,38,41,39,40] #raw rec.\n",
    "print(probeF64.device_channel_indices)\n",
    "print(probeF64.contact_ids)\n",
    "print(probeF64.shank_ids)\n",
    "print(probeF64.ndim)\n",
    "print(probeF64.si_units)\n",
    "print(probeF64.annotations) \n",
    "print(probeF64.contact_positions)\n",
    "print(probeF64.contact_shapes)\n",
    "print(probeF64.contact_shape_params)      \n",
    "\n",
    "plot_probe(probeF64, with_channel_index=True, with_device_index=True, with_contact_id=True)\n",
    "probeF64.to_dataframe(complete=True).loc[:, [\"contact_ids\", \"shank_ids\", \"device_channel_indices\"]]"
   ]
  },
  {
   "cell_type": "code",
   "execution_count": 63,
   "metadata": {},
   "outputs": [
    {
     "name": "stdout",
     "output_type": "stream",
     "text": [
      "CommonReferenceRecording: 10 channels - 30.0kHz - 1 segments - 430,681,200 samples \n",
      "                          14,356.04s (3.99 hours) - float32 dtype - 16.04 GiB\n",
      "Probe - 10ch - 1shanks\n",
      "[48 49 50 52 55 58 60 61 62 63]\n",
      "[0 0 0 0 0 0 0 0 0 0]\n",
      "[[ 16.5 135. ]\n",
      " [ 16.5  75. ]\n",
      " [ 16.5 105. ]\n",
      " [ 16.5  15. ]\n",
      " [  0.  120. ]\n",
      " [  0.   60. ]\n",
      " [  0.   30. ]\n",
      " [  0.   90. ]\n",
      " [  0.    0. ]\n",
      " [ 16.5  45. ]]\n"
     ]
    }
   ],
   "source": [
    "recording_prb = recording.set_probe(probeF64, group_mode=\"by_shank\")\n",
    "recordings_by_group = recording_prb.split_by(\"group\") #by group of channels (in shanks=shank_ids?)\n",
    "recording_shank1 = recordings_by_group[0]\n",
    "recording_shank1.get_num_channels()\n",
    "recording_shank1_ft = spre.bandpass_filter(recording_shank1, freq_min=400, freq_max=5000)\n",
    "recording_shank1_cmr = spre.common_reference(recording_shank1_ft, reference='global', operator='median')\n",
    "probeF10 = recording_shank1_cmr.get_probe()\n",
    "print(recording_shank1_cmr)\n",
    "print(recording_shank1_cmr.get_probe())\n",
    "print(recording_shank1_cmr.get_channel_ids())\n",
    "print(recording_shank1_cmr.get_channel_groups())\n",
    "print(recording_shank1_cmr.get_channel_locations())"
   ]
  },
  {
   "cell_type": "code",
   "execution_count": 47,
   "metadata": {},
   "outputs": [
    {
     "ename": "NameError",
     "evalue": "name 'probeinterface' is not defined",
     "output_type": "error",
     "traceback": [
      "\u001b[1;31m---------------------------------------------------------------------------\u001b[0m",
      "\u001b[1;31mNameError\u001b[0m                                 Traceback (most recent call last)",
      "\u001b[1;32mc:\\Users\\rodri\\OneDrive\\NosedaLab2\\Bonsai2\\spikeinterface\\JupyterNB_RN\\SpkInt_C2DRG_RN_230716.ipynb Cell 7\u001b[0m in \u001b[0;36m1\n\u001b[1;32m----> <a href='vscode-notebook-cell:/c%3A/Users/rodri/OneDrive/NosedaLab2/Bonsai2/spikeinterface/JupyterNB_RN/SpkInt_C2DRG_RN_230716.ipynb#Y163sZmlsZQ%3D%3D?line=0'>1</a>\u001b[0m probeinterface\u001b[39m.\u001b[39mio\u001b[39m.\u001b[39mread_probeinterface(\u001b[39m'\u001b[39m\u001b[39mASSY-158-F_CambridgeNeuro.json\u001b[39m\u001b[39m'\u001b[39m)\n\u001b[0;32m      <a href='vscode-notebook-cell:/c%3A/Users/rodri/OneDrive/NosedaLab2/Bonsai2/spikeinterface/JupyterNB_RN/SpkInt_C2DRG_RN_230716.ipynb#Y163sZmlsZQ%3D%3D?line=2'>3</a>\u001b[0m \u001b[39m#probeNew = read_prb('Probe1shank32chRod.prb')\u001b[39;00m\n\u001b[0;32m      <a href='vscode-notebook-cell:/c%3A/Users/rodri/OneDrive/NosedaLab2/Bonsai2/spikeinterface/JupyterNB_RN/SpkInt_C2DRG_RN_230716.ipynb#Y163sZmlsZQ%3D%3D?line=4'>5</a>\u001b[0m \u001b[39mprint\u001b[39m(probeNew)\n",
      "\u001b[1;31mNameError\u001b[0m: name 'probeinterface' is not defined"
     ]
    }
   ],
   "source": [
    "probeinterface.io.read_probeinterface('ASSY-158-F_CambridgeNeuro.json')\n",
    "\n",
    "#probeNew = read_prb('Probe1shank32chRod.prb')\n",
    "\n",
    "print(probeNew)\n",
    "plot_probe(probeNew)"
   ]
  },
  {
   "cell_type": "code",
   "execution_count": 19,
   "metadata": {},
   "outputs": [
    {
     "ename": "AssertionError",
     "evalue": "must give Probe",
     "output_type": "error",
     "traceback": [
      "\u001b[1;31m---------------------------------------------------------------------------\u001b[0m",
      "\u001b[1;31mAssertionError\u001b[0m                            Traceback (most recent call last)",
      "\u001b[1;32mc:\\Users\\rodri\\OneDrive\\NosedaLab2\\Bonsai2\\spikeinterface\\JupyterNB_RN\\SpkInt_C2DRG_RN_230716.ipynb Cell 8\u001b[0m in \u001b[0;36m1\n\u001b[1;32m----> <a href='vscode-notebook-cell:/c%3A/Users/rodri/OneDrive/NosedaLab2/Bonsai2/spikeinterface/JupyterNB_RN/SpkInt_C2DRG_RN_230716.ipynb#Y161sZmlsZQ%3D%3D?line=0'>1</a>\u001b[0m recording_to_sort \u001b[39m=\u001b[39m recording_shank1_cmr\u001b[39m.\u001b[39;49mset_probe(probeNew)\n",
      "File \u001b[1;32mc:\\ProgramData\\Anaconda3\\envs\\SI-env\\lib\\site-packages\\spikeinterface\\core\\baserecordingsnippets.py:77\u001b[0m, in \u001b[0;36mBaseRecordingSnippets.set_probe\u001b[1;34m(self, probe, group_mode, in_place)\u001b[0m\n\u001b[0;32m     73\u001b[0m \u001b[39mdef\u001b[39;00m \u001b[39mset_probe\u001b[39m(\u001b[39mself\u001b[39m, probe, group_mode\u001b[39m=\u001b[39m\u001b[39m\"\u001b[39m\u001b[39mby_probe\u001b[39m\u001b[39m\"\u001b[39m, in_place\u001b[39m=\u001b[39m\u001b[39mFalse\u001b[39;00m):\n\u001b[0;32m     74\u001b[0m     \u001b[39m\"\"\"\u001b[39;00m\n\u001b[0;32m     75\u001b[0m \u001b[39m    Wrapper on top on set_probes when there one unique probe.\u001b[39;00m\n\u001b[0;32m     76\u001b[0m \u001b[39m    \"\"\"\u001b[39;00m\n\u001b[1;32m---> 77\u001b[0m     \u001b[39massert\u001b[39;00m \u001b[39misinstance\u001b[39m(probe, Probe), \u001b[39m\"\u001b[39m\u001b[39mmust give Probe\u001b[39m\u001b[39m\"\u001b[39m\n\u001b[0;32m     78\u001b[0m     probegroup \u001b[39m=\u001b[39m ProbeGroup()\n\u001b[0;32m     79\u001b[0m     probegroup\u001b[39m.\u001b[39madd_probe(probe)\n",
      "\u001b[1;31mAssertionError\u001b[0m: must give Probe"
     ]
    }
   ],
   "source": [
    "recording_to_sort = recording_shank1_cmr.set_probe(probeNew)"
   ]
  },
  {
   "cell_type": "code",
   "execution_count": null,
   "metadata": {},
   "outputs": [],
   "source": [
    "#Shank 2 of F64 probe, 11 channels\n",
    "recording_shank2 = recordings_by_group[1]\n",
    "recording_shank2.get_num_channels()\n",
    "recording_shank2_ft = spre.bandpass_filter(recording_shank2, freq_min=400, freq_max=5000)\n",
    "recording_shank2_cmr = spre.common_reference(recording_shank2_ft, reference='global', operator='median')\n",
    "probeF11 = recording_shank2_cmr.get_probe()\n",
    "print(recording_shank2_cmr)\n",
    "print(recording_shank2_cmr.get_probe())\n",
    "print(recording_shank2_cmr.get_channel_ids())\n",
    "print(recording_shank2_cmr.get_channel_groups())\n",
    "print(recording_shank2_cmr.get_channel_locations())\n"
   ]
  },
  {
   "cell_type": "markdown",
   "metadata": {},
   "source": [
    "import csv\n",
    "file = 'TTL0_0.csv'\n",
    "with open(file, newline='') as f:\n",
    "    reader = csv.reader(f)\n",
    "    your_list = list(reader)\n",
    "\n",
    "print(your_list)"
   ]
  },
  {
   "cell_type": "code",
   "execution_count": null,
   "metadata": {
    "notebookRunGroups": {
     "groupValue": "1"
    }
   },
   "outputs": [],
   "source": [
    "from pprint import pprint\n",
    "#default_TDC_params = ss.get_default_sorter_params('tridesclous')\n",
    "default_SC2_params = ss.get_default_sorter_params('spykingcircus2')\n",
    "# Parameters can be changed by single arguments: \n",
    "#default_SC2_params['detect_threshold'] = 6\n",
    "pprint(default_SC2_params)"
   ]
  },
  {
   "cell_type": "code",
   "execution_count": 64,
   "metadata": {},
   "outputs": [
    {
     "data": {
      "text/plain": [
       "CommonReferenceRecording: 10 channels - 30.0kHz - 1 segments - 430,681,200 samples \n",
       "                          14,356.04s (3.99 hours) - float32 dtype - 16.04 GiB"
      ]
     },
     "execution_count": 64,
     "metadata": {},
     "output_type": "execute_result"
    }
   ],
   "source": [
    "recording_shank1_cmr.set_probe(probeF10)"
   ]
  },
  {
   "cell_type": "code",
   "execution_count": 65,
   "metadata": {
    "notebookRunGroups": {
     "groupValue": "1"
    }
   },
   "outputs": [
    {
     "name": "stdout",
     "output_type": "stream",
     "text": [
      "detect peaks using locally_exclusive with n_jobs = 1 and chunk_size = 30000\n"
     ]
    },
    {
     "data": {
      "application/vnd.jupyter.widget-view+json": {
       "model_id": "7aa2a636a9064a0597b965fb77d0ce65",
       "version_major": 2,
       "version_minor": 0
      },
      "text/plain": [
       "detect peaks using locally_exclusive:   0%|          | 0/30 [00:00<?, ?it/s]"
      ]
     },
     "metadata": {},
     "output_type": "display_data"
    },
    {
     "name": "stdout",
     "output_type": "stream",
     "text": [
      "We found 4940 peaks in total\n",
      "We kept 4940 peaks for clustering\n",
      "features_from_peaks with n_jobs = 1 and chunk_size = 30000\n"
     ]
    },
    {
     "data": {
      "application/vnd.jupyter.widget-view+json": {
       "model_id": "7408b212fc3244a58d0a5cc5c0c0ed62",
       "version_major": 2,
       "version_minor": 0
      },
      "text/plain": [
       "features_from_peaks:   0%|          | 0/30 [00:00<?, ?it/s]"
      ]
     },
     "metadata": {},
     "output_type": "display_data"
    },
    {
     "name": "stdout",
     "output_type": "stream",
     "text": [
      "We found 10 raw clusters, starting to clean with matching...\n",
      "Error running spykingcircus2\n"
     ]
    },
    {
     "ename": "SpikeSortingError",
     "evalue": "Spike sorting error trace:\nTraceback (most recent call last):\n  File \"c:\\ProgramData\\Anaconda3\\envs\\SI-env\\lib\\site-packages\\spikeinterface\\sorters\\basesorter.py\", line 234, in run_from_folder\n    SorterClass._run_from_folder(sorter_output_folder, sorter_params, verbose)\n  File \"c:\\ProgramData\\Anaconda3\\envs\\SI-env\\lib\\site-packages\\spikeinterface\\sorters\\internal\\spyking_circus2.py\", line 112, in _run_from_folder\n    labels, peak_labels = find_cluster_from_peaks(\n  File \"c:\\ProgramData\\Anaconda3\\envs\\SI-env\\lib\\site-packages\\spikeinterface\\sortingcomponents\\clustering\\main.py\", line 41, in find_cluster_from_peaks\n    labels, peak_labels = method_class.main_function(recording, peaks, params)\n  File \"c:\\ProgramData\\Anaconda3\\envs\\SI-env\\lib\\site-packages\\spikeinterface\\sortingcomponents\\clustering\\random_projections.py\", line 214, in main_function\n    we = extract_waveforms(\n  File \"c:\\ProgramData\\Anaconda3\\envs\\SI-env\\lib\\site-packages\\spikeinterface\\core\\waveform_extractor.py\", line 1534, in extract_waveforms\n    assert (\nAssertionError: Recording must have a probe  or channel location to extract waveforms. Use the `set_probe()` or `set_dummy_probe_from_locations()` methods.\n\nSpike sorting failed. You can inspect the runtime trace in results_SC2_7-20_s1/spikeinterface_log.json.",
     "output_type": "error",
     "traceback": [
      "\u001b[1;31m---------------------------------------------------------------------------\u001b[0m",
      "\u001b[1;31mSpikeSortingError\u001b[0m                         Traceback (most recent call last)",
      "\u001b[1;32mc:\\Users\\rodri\\OneDrive\\NosedaLab2\\Bonsai2\\spikeinterface\\JupyterNB_RN\\SpkInt_C2DRG_RN_230716.ipynb Cell 13\u001b[0m in \u001b[0;36m4\n\u001b[0;32m      <a href='vscode-notebook-cell:/c%3A/Users/rodri/OneDrive/NosedaLab2/Bonsai2/spikeinterface/JupyterNB_RN/SpkInt_C2DRG_RN_230716.ipynb#X25sZmlsZQ%3D%3D?line=0'>1</a>\u001b[0m \u001b[39m#run spike sorting on entire recording of shank1.\u001b[39;00m\n\u001b[0;32m      <a href='vscode-notebook-cell:/c%3A/Users/rodri/OneDrive/NosedaLab2/Bonsai2/spikeinterface/JupyterNB_RN/SpkInt_C2DRG_RN_230716.ipynb#X25sZmlsZQ%3D%3D?line=1'>2</a>\u001b[0m \u001b[39m#set_dummy_probe_from_locations(probeF21)\u001b[39;00m\n\u001b[0;32m      <a href='vscode-notebook-cell:/c%3A/Users/rodri/OneDrive/NosedaLab2/Bonsai2/spikeinterface/JupyterNB_RN/SpkInt_C2DRG_RN_230716.ipynb#X25sZmlsZQ%3D%3D?line=2'>3</a>\u001b[0m recording_sub \u001b[39m=\u001b[39m recording_shank1_cmr\u001b[39m.\u001b[39mframe_slice(start_frame\u001b[39m=\u001b[39m\u001b[39m0\u001b[39m\u001b[39m*\u001b[39mfs, end_frame\u001b[39m=\u001b[39m\u001b[39m30\u001b[39m\u001b[39m*\u001b[39mfs)\n\u001b[1;32m----> <a href='vscode-notebook-cell:/c%3A/Users/rodri/OneDrive/NosedaLab2/Bonsai2/spikeinterface/JupyterNB_RN/SpkInt_C2DRG_RN_230716.ipynb#X25sZmlsZQ%3D%3D?line=3'>4</a>\u001b[0m sorting_SC2_s1 \u001b[39m=\u001b[39m ss\u001b[39m.\u001b[39;49mrun_sorter(\u001b[39m'\u001b[39;49m\u001b[39mspykingcircus2\u001b[39;49m\u001b[39m'\u001b[39;49m, recording_sub, \n\u001b[0;32m      <a href='vscode-notebook-cell:/c%3A/Users/rodri/OneDrive/NosedaLab2/Bonsai2/spikeinterface/JupyterNB_RN/SpkInt_C2DRG_RN_230716.ipynb#X25sZmlsZQ%3D%3D?line=4'>5</a>\u001b[0m                             output_folder\u001b[39m=\u001b[39;49mbase_folder \u001b[39m/\u001b[39;49m \u001b[39m'\u001b[39;49m\u001b[39mresults_SC2_7-20_s1\u001b[39;49m\u001b[39m'\u001b[39;49m, \n\u001b[0;32m      <a href='vscode-notebook-cell:/c%3A/Users/rodri/OneDrive/NosedaLab2/Bonsai2/spikeinterface/JupyterNB_RN/SpkInt_C2DRG_RN_230716.ipynb#X25sZmlsZQ%3D%3D?line=5'>6</a>\u001b[0m                             verbose\u001b[39m=\u001b[39;49m\u001b[39mTrue\u001b[39;49;00m)\n\u001b[0;32m      <a href='vscode-notebook-cell:/c%3A/Users/rodri/OneDrive/NosedaLab2/Bonsai2/spikeinterface/JupyterNB_RN/SpkInt_C2DRG_RN_230716.ipynb#X25sZmlsZQ%3D%3D?line=6'>7</a>\u001b[0m pprint(sorting_SC2_s1)\n",
      "File \u001b[1;32mc:\\ProgramData\\Anaconda3\\envs\\SI-env\\lib\\site-packages\\spikeinterface\\sorters\\runsorter.py:148\u001b[0m, in \u001b[0;36mrun_sorter\u001b[1;34m(sorter_name, recording, output_folder, remove_existing_folder, delete_output_folder, verbose, raise_error, docker_image, singularity_image, delete_container_files, with_output, **sorter_params)\u001b[0m\n\u001b[0;32m    141\u001b[0m             container_image \u001b[39m=\u001b[39m singularity_image\n\u001b[0;32m    142\u001b[0m     \u001b[39mreturn\u001b[39;00m run_sorter_container(\n\u001b[0;32m    143\u001b[0m         container_image\u001b[39m=\u001b[39mcontainer_image,\n\u001b[0;32m    144\u001b[0m         mode\u001b[39m=\u001b[39mmode,\n\u001b[0;32m    145\u001b[0m         \u001b[39m*\u001b[39m\u001b[39m*\u001b[39mcommon_kwargs,\n\u001b[0;32m    146\u001b[0m     )\n\u001b[1;32m--> 148\u001b[0m \u001b[39mreturn\u001b[39;00m run_sorter_local(\u001b[39m*\u001b[39m\u001b[39m*\u001b[39mcommon_kwargs)\n",
      "File \u001b[1;32mc:\\ProgramData\\Anaconda3\\envs\\SI-env\\lib\\site-packages\\spikeinterface\\sorters\\runsorter.py:174\u001b[0m, in \u001b[0;36mrun_sorter_local\u001b[1;34m(sorter_name, recording, output_folder, remove_existing_folder, delete_output_folder, verbose, raise_error, with_output, **sorter_params)\u001b[0m\n\u001b[0;32m    172\u001b[0m SorterClass\u001b[39m.\u001b[39mset_params_to_folder(recording, output_folder, sorter_params, verbose)\n\u001b[0;32m    173\u001b[0m SorterClass\u001b[39m.\u001b[39msetup_recording(recording, output_folder, verbose\u001b[39m=\u001b[39mverbose)\n\u001b[1;32m--> 174\u001b[0m SorterClass\u001b[39m.\u001b[39;49mrun_from_folder(output_folder, raise_error, verbose)\n\u001b[0;32m    175\u001b[0m \u001b[39mif\u001b[39;00m with_output:\n\u001b[0;32m    176\u001b[0m     sorting \u001b[39m=\u001b[39m SorterClass\u001b[39m.\u001b[39mget_result_from_folder(output_folder)\n",
      "File \u001b[1;32mc:\\ProgramData\\Anaconda3\\envs\\SI-env\\lib\\site-packages\\spikeinterface\\sorters\\basesorter.py:269\u001b[0m, in \u001b[0;36mBaseSorter.run_from_folder\u001b[1;34m(cls, output_folder, raise_error, verbose)\u001b[0m\n\u001b[0;32m    266\u001b[0m         \u001b[39mprint\u001b[39m(\u001b[39mf\u001b[39m\u001b[39m\"\u001b[39m\u001b[39m{\u001b[39;00msorter_name\u001b[39m}\u001b[39;00m\u001b[39m run time \u001b[39m\u001b[39m{\u001b[39;00mrun_time\u001b[39m:\u001b[39;00m\u001b[39m0.2f\u001b[39m\u001b[39m}\u001b[39;00m\u001b[39ms\u001b[39m\u001b[39m\"\u001b[39m)\n\u001b[0;32m    268\u001b[0m \u001b[39mif\u001b[39;00m has_error \u001b[39mand\u001b[39;00m raise_error:\n\u001b[1;32m--> 269\u001b[0m     \u001b[39mraise\u001b[39;00m SpikeSortingError(\n\u001b[0;32m    270\u001b[0m         \u001b[39mf\u001b[39m\u001b[39m\"\u001b[39m\u001b[39mSpike sorting error trace:\u001b[39m\u001b[39m\\n\u001b[39;00m\u001b[39m{\u001b[39;00mlog[\u001b[39m'\u001b[39m\u001b[39merror_trace\u001b[39m\u001b[39m'\u001b[39m]\u001b[39m}\u001b[39;00m\u001b[39m\\n\u001b[39;00m\u001b[39m\"\u001b[39m\n\u001b[0;32m    271\u001b[0m         \u001b[39mf\u001b[39m\u001b[39m\"\u001b[39m\u001b[39mSpike sorting failed. You can inspect the runtime trace in \u001b[39m\u001b[39m{\u001b[39;00moutput_folder\u001b[39m}\u001b[39;00m\u001b[39m/spikeinterface_log.json.\u001b[39m\u001b[39m\"\u001b[39m\n\u001b[0;32m    272\u001b[0m     )\n\u001b[0;32m    274\u001b[0m \u001b[39mreturn\u001b[39;00m run_time\n",
      "\u001b[1;31mSpikeSortingError\u001b[0m: Spike sorting error trace:\nTraceback (most recent call last):\n  File \"c:\\ProgramData\\Anaconda3\\envs\\SI-env\\lib\\site-packages\\spikeinterface\\sorters\\basesorter.py\", line 234, in run_from_folder\n    SorterClass._run_from_folder(sorter_output_folder, sorter_params, verbose)\n  File \"c:\\ProgramData\\Anaconda3\\envs\\SI-env\\lib\\site-packages\\spikeinterface\\sorters\\internal\\spyking_circus2.py\", line 112, in _run_from_folder\n    labels, peak_labels = find_cluster_from_peaks(\n  File \"c:\\ProgramData\\Anaconda3\\envs\\SI-env\\lib\\site-packages\\spikeinterface\\sortingcomponents\\clustering\\main.py\", line 41, in find_cluster_from_peaks\n    labels, peak_labels = method_class.main_function(recording, peaks, params)\n  File \"c:\\ProgramData\\Anaconda3\\envs\\SI-env\\lib\\site-packages\\spikeinterface\\sortingcomponents\\clustering\\random_projections.py\", line 214, in main_function\n    we = extract_waveforms(\n  File \"c:\\ProgramData\\Anaconda3\\envs\\SI-env\\lib\\site-packages\\spikeinterface\\core\\waveform_extractor.py\", line 1534, in extract_waveforms\n    assert (\nAssertionError: Recording must have a probe  or channel location to extract waveforms. Use the `set_probe()` or `set_dummy_probe_from_locations()` methods.\n\nSpike sorting failed. You can inspect the runtime trace in results_SC2_7-20_s1/spikeinterface_log.json."
     ]
    }
   ],
   "source": [
    "#run spike sorting on entire recording of shank1.\n",
    "#set_dummy_probe_from_locations(probeF21)\n",
    "recording_sub = recording_shank1_cmr.frame_slice(start_frame=0*fs, end_frame=30*fs)\n",
    "sorting_SC2_s1 = ss.run_sorter('spykingcircus2', recording_sub, \n",
    "                            output_folder=base_folder / 'results_SC2_7-20_s1', \n",
    "                            verbose=True)\n",
    "pprint(sorting_SC2_s1)"
   ]
  },
  {
   "cell_type": "code",
   "execution_count": null,
   "metadata": {
    "notebookRunGroups": {
     "groupValue": "1"
    }
   },
   "outputs": [],
   "source": []
  },
  {
   "cell_type": "code",
   "execution_count": null,
   "metadata": {
    "notebookRunGroups": {
     "groupValue": "1"
    }
   },
   "outputs": [],
   "source": [
    "w1_rs = sw.plot_rasters(sorting_SC2_s1)\n",
    "#w2_rs = sw.plot_rasters(sorting_SC2_s2)"
   ]
  },
  {
   "cell_type": "code",
   "execution_count": null,
   "metadata": {},
   "outputs": [],
   "source": [
    "#recording_sub = si.load_extractor(base_folder / \"preprocessed\")\n",
    "#sorting = se.read_spykingcircus(base_folder / \"results_SC2\")\n",
    "#sorting = se.read_tridesclous(base_folder / \"results_TDC_cmr20\")"
   ]
  },
  {
   "cell_type": "code",
   "execution_count": null,
   "metadata": {
    "notebookRunGroups": {
     "groupValue": "2"
    }
   },
   "outputs": [],
   "source": [
    "we = si.extract_waveforms(recording_sub, sorting_SC2, folder=base_folder / \"waveforms_SC2\", \n",
    "                          max_spikes_per_unit=None, load_if_exists=True, ms_before=1, ms_after=2, chunk_size=30000)#, **job_kwargs)\n",
    "print(we)"
   ]
  },
  {
   "cell_type": "code",
   "execution_count": null,
   "metadata": {},
   "outputs": [],
   "source": [
    "waveforms0 = we.get_waveforms(unit_id=0)\n",
    "print(f\"Waveforms shape: {waveforms0.shape}\")\n",
    "template0 = we.get_template(unit_id=0)\n",
    "print(f\"Template shape: {template0.shape}\")\n",
    "all_templates = we.get_all_templates()\n",
    "print(f\"All templates shape: {all_templates.shape}\")"
   ]
  },
  {
   "cell_type": "code",
   "execution_count": null,
   "metadata": {},
   "outputs": [],
   "source": [
    "# pre-compute postprocessing data\n",
    "_ = spost.compute_spike_amplitudes(we)\n",
    "_ = spost.compute_unit_locations(we)\n",
    "_ = spost.compute_spike_locations(we)\n",
    "_ = spost.compute_template_metrics(we)"
   ]
  },
  {
   "cell_type": "code",
   "execution_count": null,
   "metadata": {},
   "outputs": [],
   "source": [
    "w = sw.plot_unit_waveforms(we, unit_ids=[0,1,2,3,4,5,6])\n",
    "w = sw.plot_unit_templates(we, unit_ids=[0,1,2,3,4,5,6])\n",
    "w = sw.plot_unit_probe_map(we, unit_ids=[0,1,2,3,4,5,6])\n",
    "\n",
    "w = sw.plot_amplitudes(we, plot_histograms=True)\n",
    "\n",
    "#w = sw.plot_unit_summary(we, unit_id=0)\n",
    "#w = sw.plot_unit_templates(we, radius_um=100, backend=\"ipywidgets\")\n"
   ]
  },
  {
   "cell_type": "code",
   "execution_count": null,
   "metadata": {},
   "outputs": [],
   "source": [
    "for unit in sorting_SC2.get_unit_ids():\n",
    "    waveforms = we.get_waveforms(unit_id=unit)\n",
    "    spiketrain = sorting_SC2.get_unit_spike_train(unit)\n",
    "    print(f\"Unit {unit} - num waveforms: {waveforms.shape[0]} - num spikes: {len(spiketrain)}\")\n",
    "    "
   ]
  },
  {
   "cell_type": "code",
   "execution_count": null,
   "metadata": {},
   "outputs": [],
   "source": [
    "we_all = si.extract_waveforms(recording_sub, sorting_SC2, folder=base_folder / \"wf_SC2_all\", \n",
    "                              max_spikes_per_unit=None, load_if_exists=True)#,**job_kwargs)"
   ]
  },
  {
   "cell_type": "code",
   "execution_count": null,
   "metadata": {},
   "outputs": [],
   "source": [
    "print(we_all)"
   ]
  },
  {
   "cell_type": "code",
   "execution_count": null,
   "metadata": {
    "notebookRunGroups": {
     "groupValue": ""
    }
   },
   "outputs": [],
   "source": [
    "for unit in sorting_SC2.get_unit_ids():\n",
    "    waveforms = we_all.get_waveforms(unit_id=unit)\n",
    "    spiketrain = sorting_SC2.get_unit_spike_train(unit)\n",
    "    print(f\"Unit {unit} - num waveforms: {waveforms.shape[0]} - num spikes: {len(spiketrain)}\")\n",
    "    "
   ]
  },
  {
   "attachments": {},
   "cell_type": "markdown",
   "metadata": {},
   "source": [
    "Post-processing"
   ]
  },
  {
   "cell_type": "code",
   "execution_count": null,
   "metadata": {},
   "outputs": [],
   "source": [
    "\n",
    "spost.compute_principal_components?"
   ]
  },
  {
   "cell_type": "code",
   "execution_count": null,
   "metadata": {},
   "outputs": [],
   "source": [
    "pc = spost.compute_principal_components(we, n_components=3, load_if_exists=True)\n"
   ]
  },
  {
   "cell_type": "code",
   "execution_count": null,
   "metadata": {},
   "outputs": [],
   "source": [
    "pc0 = pc.get_projections(unit_id=0)\n",
    "print(f\"PC scores shape: {pc0.shape}\")\n",
    "all_labels, all_pcs = pc.get_all_projections()\n",
    "print(f\"All PC scores shape: {all_pcs.shape}\")"
   ]
  },
  {
   "cell_type": "code",
   "execution_count": null,
   "metadata": {},
   "outputs": [],
   "source": [
    "we.get_available_extension_names()"
   ]
  },
  {
   "cell_type": "code",
   "execution_count": null,
   "metadata": {},
   "outputs": [],
   "source": [
    "pc = we.load_extension(\"principal_components\")\n",
    "print(pc)"
   ]
  },
  {
   "cell_type": "code",
   "execution_count": null,
   "metadata": {},
   "outputs": [],
   "source": [
    "all_labels, all_pcs = pc.get_data()\n",
    "print(all_pcs.shape)"
   ]
  },
  {
   "cell_type": "code",
   "execution_count": null,
   "metadata": {},
   "outputs": [],
   "source": [
    "amplitudes = spost.compute_spike_amplitudes(we, outputs=\"by_unit\", load_if_exists=True) \n",
    "                                            #**job_kwargs)\n"
   ]
  },
  {
   "cell_type": "code",
   "execution_count": null,
   "metadata": {},
   "outputs": [],
   "source": [
    "amplitudes[0]"
   ]
  },
  {
   "cell_type": "code",
   "execution_count": null,
   "metadata": {},
   "outputs": [],
   "source": [
    "sw.plot_amplitudes(we)\n",
    "sw.plot_all_amplitudes_distributions(we)"
   ]
  },
  {
   "cell_type": "code",
   "execution_count": null,
   "metadata": {},
   "outputs": [],
   "source": [
    "from ipywidgets import widgets\n",
    "sw.plot_amplitudes(we, backend=\"ipywidgets\")"
   ]
  },
  {
   "cell_type": "code",
   "execution_count": null,
   "metadata": {},
   "outputs": [],
   "source": [
    "unit_locations = spost.compute_unit_locations(we, method=\"monopolar_triangulation\", load_if_exists=True)\n",
    "spike_locations = spost.compute_spike_locations(we, method=\"monopolar_triangulation\", load_if_exists=True)#,**job_kwargs)\n"
   ]
  },
  {
   "cell_type": "code",
   "execution_count": null,
   "metadata": {},
   "outputs": [],
   "source": [
    "sw.plot_unit_locations(we, backend=\"ipywidgets\")"
   ]
  },
  {
   "cell_type": "code",
   "execution_count": null,
   "metadata": {},
   "outputs": [],
   "source": [
    "sw.plot_spike_locations(we, backend=\"ipywidgets\")"
   ]
  },
  {
   "cell_type": "code",
   "execution_count": null,
   "metadata": {},
   "outputs": [],
   "source": [
    "similarity = spost.compute_template_similarity(we, load_if_exists=True)\n"
   ]
  },
  {
   "cell_type": "code",
   "execution_count": null,
   "metadata": {},
   "outputs": [],
   "source": [
    "ccgs, bins = spost.compute_correlograms(we)"
   ]
  },
  {
   "cell_type": "code",
   "execution_count": null,
   "metadata": {},
   "outputs": [],
   "source": [
    "sw.plot_autocorrelograms(we, unit_ids=sorting_SC2.unit_ids[:])\n",
    "sw.plot_crosscorrelograms(we, unit_ids=sorting_SC2.unit_ids[:])"
   ]
  },
  {
   "cell_type": "code",
   "execution_count": null,
   "metadata": {},
   "outputs": [],
   "source": [
    "print(spost.get_template_metric_names())"
   ]
  },
  {
   "cell_type": "code",
   "execution_count": null,
   "metadata": {},
   "outputs": [],
   "source": [
    "template_metrics = spost.calculate_template_metrics(we)\n",
    "display(template_metrics)"
   ]
  },
  {
   "cell_type": "code",
   "execution_count": null,
   "metadata": {},
   "outputs": [],
   "source": [
    "sw.plot_template_metrics(we, include_metrics=[\"peak_to_valley\", \"half_width\"], \n",
    "                         backend=\"matplotlib\")"
   ]
  },
  {
   "cell_type": "code",
   "execution_count": null,
   "metadata": {},
   "outputs": [],
   "source": [
    "spost.get_template_channel_sparsity?"
   ]
  },
  {
   "cell_type": "code",
   "execution_count": null,
   "metadata": {},
   "outputs": [],
   "source": [
    "# example: radius\n",
    "sparsity_radius = spost.get_template_channel_sparsity(we, method=\"radius\", radius_um=40)\n",
    "print(sparsity_radius)\n",
    "# example: best\n",
    "sparsity_best = spost.get_template_channel_sparsity(we, method=\"best_channels\", num_channels=2)\n",
    "print(sparsity_best)"
   ]
  },
  {
   "cell_type": "code",
   "execution_count": null,
   "metadata": {},
   "outputs": [],
   "source": [
    "sw.plot_unit_templates(we, sparsity=sparsity_radius, backend=\"matplotlib\")"
   ]
  },
  {
   "cell_type": "code",
   "execution_count": null,
   "metadata": {},
   "outputs": [],
   "source": [
    "sw.plot_unit_templates(we, sparsity=sparsity_best, backend=\"matplotlib\")"
   ]
  },
  {
   "cell_type": "code",
   "execution_count": null,
   "metadata": {},
   "outputs": [],
   "source": [
    "print(sqm.get_quality_metric_list())"
   ]
  },
  {
   "cell_type": "code",
   "execution_count": null,
   "metadata": {},
   "outputs": [],
   "source": [
    "qm = sqm.compute_quality_metrics(we)"
   ]
  },
  {
   "cell_type": "code",
   "execution_count": null,
   "metadata": {},
   "outputs": [],
   "source": [
    "display(qm)"
   ]
  },
  {
   "cell_type": "code",
   "execution_count": null,
   "metadata": {},
   "outputs": [],
   "source": [
    "sw.plot_quality_metrics(we, include_metrics=[\"amplitude_cutoff\", \"presence_ratio\", \"isi_violations_ratio\", \"snr\"], \n",
    "                        backend=\"matplotlib\")"
   ]
  },
  {
   "cell_type": "code",
   "execution_count": null,
   "metadata": {},
   "outputs": [],
   "source": [
    "isi_viol_thresh = 0.2\n",
    "amp_cutoff_thresh = 0.9"
   ]
  },
  {
   "cell_type": "code",
   "execution_count": null,
   "metadata": {},
   "outputs": [],
   "source": [
    "our_query = f\"amplitude_cutoff < {amp_cutoff_thresh} & isi_violations_ratio < {isi_viol_thresh}\"\n",
    "print(our_query)"
   ]
  },
  {
   "cell_type": "code",
   "execution_count": null,
   "metadata": {},
   "outputs": [],
   "source": [
    "keep_units = qm.query(our_query)\n",
    "keep_unit_ids = keep_units.index.values"
   ]
  },
  {
   "cell_type": "code",
   "execution_count": null,
   "metadata": {},
   "outputs": [],
   "source": [
    "sorting_auto = sorting_SC2.select_units(keep_unit_ids)\n",
    "print(f\"Number of units before curation: {len(sorting_SC2.get_unit_ids())}\")\n",
    "print(f\"Number of units after curation: {len(sorting_auto.get_unit_ids())}\")"
   ]
  },
  {
   "cell_type": "code",
   "execution_count": null,
   "metadata": {},
   "outputs": [],
   "source": [
    "!sigui C:\\Users\\rodri\\OneDrive\\NosedaLab2\\Bonsai2\\spikeinterface\\JupyterNB_RN\\waveforms_SC2"
   ]
  },
  {
   "cell_type": "code",
   "execution_count": null,
   "metadata": {},
   "outputs": [],
   "source": [
    "sexp.export_to_phy(we, output_folder=base_folder / 'phy_SC2-RN')#,**job_kwargs)"
   ]
  }
 ],
 "metadata": {
  "kernelspec": {
   "display_name": "SI-env",
   "language": "python",
   "name": "python3"
  },
  "language_info": {
   "codemirror_mode": {
    "name": "ipython",
    "version": 3
   },
   "file_extension": ".py",
   "mimetype": "text/x-python",
   "name": "python",
   "nbconvert_exporter": "python",
   "pygments_lexer": "ipython3",
   "version": "3.9.13"
  },
  "orig_nbformat": 4
 },
 "nbformat": 4,
 "nbformat_minor": 2
}
